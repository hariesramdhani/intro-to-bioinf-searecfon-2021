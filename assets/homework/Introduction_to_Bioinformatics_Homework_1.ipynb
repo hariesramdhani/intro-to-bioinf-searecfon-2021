{
 "cells": [
  {
   "cell_type": "markdown",
   "metadata": {
    "id": "MK7F0Xka9Zpa"
   },
   "source": [
    "# Introduction to Bioinformatics - Homework #1\n",
    "**Prepared by:** Haries Ramdhani"
   ]
  },
  {
   "cell_type": "markdown",
   "metadata": {
    "id": "SoEX-COn885G"
   },
   "source": [
    "## Problem 1 - COVID Protein\n",
    "2020 was a hard year because of COVID-19. On July 18th 2020, the scientists who worked on investigating COVID successfully sequenced the proteins for `ORF1ab polyprotein` for `Severe acute respiratory syndrome coronavirus 2`. The following is the first few sequence of the proteins:\n",
    "```\n",
    "MESLVPGFNEKTHVQLSLPVLQVRDVLVRGFGDSVEEVLSEARQHLKDGTCGLVEVEKGVLPQLEQPYVF\n",
    "IKRSDARTAPHGHVMVELVAELEGIQYGRSGETLGVLVPHVGEIPVAYRKVLLRKNGNKGAGGHSYGADL\n",
    "KSFDLGDELGTDPYEDFQENWNTKHSSGVTRELMRELNGGAYTRYVDNNFCGPDGYPLECIKDLLARAGK\n",
    "ASCTLSEQLDFIDTKRGVYCCREHEHEIAWYTERSEKSYELQTPFEIKLAKKFDTFNGECPNFVFPLNSI\n",
    "IKTIQPRVEKKKLDGFMGRIRSVYPVASPNECNQMCLSTLMKCDHCGETSWQTGDFVKATCEFCGTENLT\n",
    "KEGATTCGYLPQNAVVKIYCPACHNSEVGPEHSLAEYHNESGLKTILRKGGRTIAFGGCVFSYVGCHNKC\n",
    "AYWVPRASANIGCNHTGVVGEGSEGLNDNLLEILQKEKVNINIVGDFKLNEEIAIILASFSASTSAFVET\n",
    "VKGLDYKAFKQIVESCGNFKVTKGKAKKGAWNIGEQKSILSPLYAFASEAARVVRSIFSRTLETAQNSVR\n",
    "VLQKAAITILDGISQYSLRLIDAMMFTSDLATNNLVVMAYITGGVVQLTSQWLTNIFGTVYEKLKPVLDW\n",
    "LEEKFKEGVEFLRDGWEIVKFISTCACEIVGGQIVTCAKEIKESVQTFFKLVNKFLALCADSIIIGGAKL\n",
    "KALNLGETFVTHSKGLYRKCVKSREETGLLMPLKAPKEIIFLEGETLPTEVLTEEVVLKTGDLQPLEQPT\n",
    "SEAVEAPLVGTPVCINGLMLLEIKDTEKYCALAPNMMVTNNTFTLKGGAPTKVTFGDDTVIEVQGYKSVN\n",
    "ITFELDERIDKVLNEKCSAYTVELGTEVNEFACVVADAVIKTLQPVSELLTPLGIDLDEWSMATYYLFDE\n",
    "SGEFKLASHMYCSFYPPDEDEEEGDCEEEEFEPSTQYEYGTEDDYQGKPLEFGATSAALQPEEEQEEDWL\n",
    "DDDSQQTVGQQDGSEDNQTTTIQTIVEVQPQLEMELTPVVQTIEVNSFSGYLKLTDNVYIKNADIVEEAK\n",
    "KVKPTVVVNAANVYLKHGGGVAGALNKATNNAMQVESDDYIATNGPLKVGGSCVLSGHNLAKHCLHVVGP\n",
    "NVNKGEDIQLLKSAYENFNQHEVLLAPLLSAGIFGADPIHSLRVCVDTVRTNVYLAVFDKNLYDKLVSSF\n",
    "LEMKSEKQVEQKIAEIPKEEVKPFITESKPSVEQRKQDDKKIKACVEEVTTTLEETKFLTENLLLYIDIN\n",
    "GNLHPDSATLVSDIDITFLKKDAPYIVGDVVQEGVLTAVVIPTKKAGGTTEMLAKALRKVPTDNYITTYP\n",
    "GQGLNGYTVEEAKTVLKKCKSAFYILPSIISNEKQEILGTVSWNLREMLAHAEETRKLMPVCVETKAIVS\n",
    "TIQRKYKGIKIQEGVVDYGARFYFYTSKTTVASLINTLNDLNETLVTMPLGYVTHGLNLEEAARYMRSLK\n",
    "VPATVSVSSPDAVTAYNGYLTSSSKTPEEHFIETISLAGSYKDWSYSGQSTQLGIEFLKRGDKSVYYTSN\n",
    "PTTFHLDGEVITFDNLKTLLSLREVRTIKVFTTVDNINLHTQVVDMSMTYGQQFGPTYLDGADVTKIKPH\n",
    "```\n",
    "The scientists need your help to help them analyze the sequence"
   ]
  },
  {
   "cell_type": "markdown",
   "metadata": {
    "id": "XId-i4GD_LOs"
   },
   "source": [
    "### Question 1\n",
    "What is the length of the sequence that was given to you by the scientist?"
   ]
  },
  {
   "cell_type": "code",
   "execution_count": null,
   "metadata": {
    "id": "xxa1EVc-810Z"
   },
   "outputs": [],
   "source": [
    "# Write your code here"
   ]
  },
  {
   "cell_type": "markdown",
   "metadata": {
    "id": "difTCpHG_XnD"
   },
   "source": [
    "### Question 2\n",
    "The scientist is curious whether you can help them to identify the occurence of the following amino acids (How many of them are in the sequence)\n",
    "- Histidine\n",
    "- Isoleucine\n",
    "- Lysine\n",
    "- Methionine"
   ]
  },
  {
   "cell_type": "code",
   "execution_count": null,
   "metadata": {
    "id": "MGSHX-t1_XnD"
   },
   "outputs": [],
   "source": [
    "# Write your code here"
   ]
  },
  {
   "cell_type": "markdown",
   "metadata": {
    "id": "qNRW7ehy_5in"
   },
   "source": [
    "### Question 3\n",
    "How many times does amino acid `serine` appeared right before `alanine` (SA) in the sequence? Can you name the first index where the amino acids (`serine` and `alanine`) occur in the sequence? \n",
    "\n",
    "The scientist also asks you whether you can give the index of the occurence if we're looking for such pattern from the  1390th amino acid to the end. (HINT: type `str.find??` for hint) "
   ]
  },
  {
   "cell_type": "code",
   "execution_count": null,
   "metadata": {
    "id": "mh-79WRB_5i8"
   },
   "outputs": [],
   "source": [
    "# Write your code here"
   ]
  },
  {
   "cell_type": "markdown",
   "metadata": {
    "id": "_QUYJY9OCPgN"
   },
   "source": [
    "### Question 4\n",
    "The scientist is new to Python and she doesn't have that much experience with Python, she asked your help if you can fix her code below so it can return the following output\n",
    "\n",
    "```\n",
    "The length of the cropped sequence is 210\n",
    "The number of occurences of glutamic acid is 19 in the cropped sequence\n",
    "The first three codon is AUGGAAUCU\n",
    "```"
   ]
  },
  {
   "cell_type": "code",
   "execution_count": null,
   "metadata": {
    "id": "Yp-WWV6qCPgW"
   },
   "outputs": [],
   "source": [
    "# Fix this code so it can return the output that the scientist want"
   ]
  },
  {
   "cell_type": "code",
   "execution_count": null,
   "metadata": {
    "id": "weX0RpkGCE14"
   },
   "outputs": [],
   "source": [
    "covid_protein = \"MESLVPGFNEKTHVQLSLPVLQVRDVLVRGFGDSVEEVLSEARQHLKDGTCGLVEVEKGVLPQLEQPYVF\n",
    "IKRSDARTAPHGHVMVELVAELEGIQYGRSGETLGVLVPHVGEIPVAYRKVLLRKNGNKGAGGHSYGADL\n",
    "KSFDLGDELGTDPYEDFQENWNTKHSSGVTRELMRELNGGAYTRYVDNNFCGPDGYPLECIKDLLARAGK'\n",
    "\n",
    "print(\"The length of the cropped sequence is \" + covid_protein.count())\n",
    "print(\"The number of occurences of glutamic acid is  + covid_protein.find(E) + \"in the cropped sequence\")\n",
    "\n",
    "first_three_codons = covid_protein[:4].replace(\"M\", \"AUG\").replace(\"E\", \"GAA\").replace(\"S\", \"UCU\")\n",
    "\n",
    "print(\"The first three codon is \" + first_three_codon)"
   ]
  },
  {
   "cell_type": "markdown",
   "metadata": {
    "id": "zsKUwuCPE0dL"
   },
   "source": [
    "## Problem 2 - DGEA Experiment Results\n",
    "Last week you ran a differential gene expression analysis. There are 10 genes that caught your attention when you're doing the analysis. They are\n",
    "\n",
    "| Gene Names      | Adjusted p-value |\n",
    "| ----------- | ----------- |\n",
    "| CRIP2      | 0.000164       |\n",
    "| SYT12   | 0.001787\t        |\n",
    "| DPYSL3      | 0.000189       |\n",
    "| SYT1   | 0.000324        |\n",
    "| RPH3A      | 0.000546       |\n",
    "| OTUB1   | 0.000024        |\n",
    "| PRKAB1      | 0.09234       |\n",
    "| PTMS   | 0.0003589        |\n",
    "| NTM   | 0.00458       |\n",
    "| S100A1   | 0.0023        |\n",
    "\n",
    "You decided that you want to analyze the data further so you're performing further analysis"
   ]
  },
  {
   "cell_type": "markdown",
   "metadata": {
    "id": "8JwW4Pw6GoFJ"
   },
   "source": [
    "### Question 1\n",
    "Create two lists;\n",
    "1. Contains all of the gene names and name the variable `gene_names`\n",
    "2. Contains adjusted p-values and name the variable `q_value`"
   ]
  },
  {
   "cell_type": "code",
   "execution_count": null,
   "metadata": {
    "id": "JlVwpyjLGoFu"
   },
   "outputs": [],
   "source": [
    "# Write your code here"
   ]
  },
  {
   "cell_type": "markdown",
   "metadata": {
    "id": "AyRBBdwPG7jM"
   },
   "source": [
    "### Question 2\n",
    "You realize that `OTUB1` is not really that useful for your analysis so you decided to remove it from your result.<br/> (**NOTE**: By removing the gene you have to remove the corresponding adjusted p-value from the list too)"
   ]
  },
  {
   "cell_type": "code",
   "execution_count": null,
   "metadata": {
    "id": "rCdEapk5G7jN"
   },
   "outputs": [],
   "source": [
    "# Write your code here"
   ]
  },
  {
   "cell_type": "markdown",
   "metadata": {
    "id": "0sTZLvf0Hn3S"
   },
   "source": [
    "### Question 3\n",
    "What is the minimum and maximum adjusted p-value in the table? And to which gene do those adjusted p-value belongs to?"
   ]
  },
  {
   "cell_type": "code",
   "execution_count": null,
   "metadata": {
    "id": "mJG_wnCJHn3V"
   },
   "outputs": [],
   "source": [
    "# Write your code here"
   ]
  },
  {
   "cell_type": "markdown",
   "metadata": {
    "id": "OKFQhT5XIQka"
   },
   "source": [
    "### Question 4\n",
    "Get all the adjusted p value for `DPYSL3` gene to `PRKAB1` and find the summation of the adjusted p-value"
   ]
  },
  {
   "cell_type": "code",
   "execution_count": null,
   "metadata": {
    "id": "dG_akrzxIQkb"
   },
   "outputs": [],
   "source": [
    "# Write your code here"
   ]
  }
 ],
 "metadata": {
  "colab": {
   "collapsed_sections": [],
   "name": "Introduction to Bioinformatics - Homework #1.ipynb",
   "provenance": [],
   "toc_visible": true
  },
  "kernelspec": {
   "display_name": "Python 3",
   "language": "python",
   "name": "python3"
  },
  "language_info": {
   "codemirror_mode": {
    "name": "ipython",
    "version": 3
   },
   "file_extension": ".py",
   "mimetype": "text/x-python",
   "name": "python",
   "nbconvert_exporter": "python",
   "pygments_lexer": "ipython3",
   "version": "3.8.5"
  }
 },
 "nbformat": 4,
 "nbformat_minor": 1
}
