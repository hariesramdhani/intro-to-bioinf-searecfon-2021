{
  "nbformat": 4,
  "nbformat_minor": 0,
  "metadata": {
    "colab": {
      "name": "Introduction to Bioinformatics - Homework #3.ipynb",
      "provenance": [],
      "collapsed_sections": [],
      "toc_visible": true
    },
    "kernelspec": {
      "name": "python3",
      "display_name": "Python 3"
    },
    "language_info": {
      "name": "python"
    }
  },
  "cells": [
    {
      "cell_type": "markdown",
      "metadata": {
        "id": "XjovQF8dTLwz"
      },
      "source": [
        "# Introduction to Bioinformatics - Homework #3\n",
        "**Prepared by:** Haries Ramdhani<br/>\n",
        "**Name:** "
      ]
    },
    {
      "cell_type": "markdown",
      "metadata": {
        "id": "-UluopyUTTvt"
      },
      "source": [
        "## Problem - Analyzing the Sequencing Results\n",
        "You're tasked to analyze the obtained processed data of comparing the gene expression in control samples (blood samples from patients infected with *Leishmania braziliensis*) and samples infected with *Leishmania braziliensis* visit this [link](https://www.ncbi.nlm.nih.gov/geo/query/acc.cgi?acc=GSE162760) for more information. The row represents each gene symbol and their expressions for all of the listed samples, the column that starts with `HS` means that they are control samples while those that starts with `CL` means that they are samples that are infected with *Leishmania braziliensis*. The data is being sent together with the email."
      ]
    },
    {
      "cell_type": "markdown",
      "metadata": {
        "id": "KjHCbKQTXSeR"
      },
      "source": [
        "### Question 1\n",
        "How many gene symbols are there in the data?"
      ]
    },
    {
      "cell_type": "code",
      "metadata": {
        "id": "TkpabNSbTR6N",
        "colab": {
          "base_uri": "https://localhost:8080/"
        },
        "outputId": "81f0d672-a200-4ff0-9842-dcd1faa6f7af"
      },
      "source": [
        "# Write your code here"
      ],
      "execution_count": null,
      "outputs": [
        {
          "output_type": "stream",
          "text": [
            "Test\n"
          ],
          "name": "stdout"
        }
      ]
    },
    {
      "cell_type": "markdown",
      "metadata": {
        "id": "6bWLnWqMZARK"
      },
      "source": [
        "### Question 2\n",
        "How many gene symbols start with SC in the data?"
      ]
    },
    {
      "cell_type": "code",
      "metadata": {
        "id": "wRKg2OkZZbUG"
      },
      "source": [
        "# Write your code here"
      ],
      "execution_count": null,
      "outputs": []
    },
    {
      "cell_type": "markdown",
      "metadata": {
        "id": "cwXG4vbXf0Xo"
      },
      "source": [
        "### Question 3\n",
        "Which gene symbol has the highest expression level in the `HS_01`?"
      ]
    },
    {
      "cell_type": "code",
      "metadata": {
        "id": "Pk12CyENf0Xq"
      },
      "source": [
        "# Write your code here"
      ],
      "execution_count": null,
      "outputs": []
    },
    {
      "cell_type": "markdown",
      "metadata": {
        "id": "a-9rpo5RgCxn"
      },
      "source": [
        "### Question 4\n",
        "Write a code that will return the average of the expressions for control samples (`HS_01` to `HS_14`)"
      ]
    },
    {
      "cell_type": "code",
      "metadata": {
        "id": "jdtAYxaKgCxo"
      },
      "source": [
        "# Write your code here"
      ],
      "execution_count": null,
      "outputs": []
    },
    {
      "cell_type": "markdown",
      "metadata": {
        "id": "ikwEUjfSgXN7"
      },
      "source": [
        "### Question 5\n",
        "Write a code that will return the average of the expressions for the samples that are infected (`CL_01` to `CL_50`)"
      ]
    },
    {
      "cell_type": "code",
      "metadata": {
        "id": "N3X09O4ygXN-"
      },
      "source": [
        "# Write your code here"
      ],
      "execution_count": null,
      "outputs": []
    },
    {
      "cell_type": "markdown",
      "metadata": {
        "id": "dCF3FCBCgjeV"
      },
      "source": [
        "### Question 6\n",
        "Are there any genes with average expression of 0 in their control samples? (If yes how many of them are there in the dataset)"
      ]
    },
    {
      "cell_type": "code",
      "metadata": {
        "id": "NICiQD8YgjeX"
      },
      "source": [
        "# Write your code here"
      ],
      "execution_count": null,
      "outputs": []
    },
    {
      "cell_type": "markdown",
      "metadata": {
        "id": "hSQ0SrOBgzF4"
      },
      "source": [
        "### Question 7\n",
        "Fold change is a measure describing how much a quantity changes between an original (control) and a subsequent measurement (infected). Calculate the fold change of all of the genes! (For now you can just divide the average expression of the infected samples by the average expression of the control samples)"
      ]
    },
    {
      "cell_type": "code",
      "metadata": {
        "id": "i9lVTxAXgzF6"
      },
      "source": [
        "# Write your code here"
      ],
      "execution_count": null,
      "outputs": []
    },
    {
      "cell_type": "markdown",
      "metadata": {
        "id": "rZgJq8XahT7A"
      },
      "source": [
        "### Question 8\n",
        "Find 10 genes with the highest and the lowest fold change!"
      ]
    },
    {
      "cell_type": "code",
      "metadata": {
        "id": "mQXjBIaRhT7A"
      },
      "source": [
        "# Write your code here"
      ],
      "execution_count": null,
      "outputs": []
    },
    {
      "cell_type": "markdown",
      "metadata": {
        "id": "petz6bTfhe2K"
      },
      "source": [
        "### Question 9\n",
        "What are the average of expression in control samples, average of expression in treated samples and fold changes of the following gene symbols:\n",
        "  - `OR7M1P`\n",
        "  - `SNX10`\n",
        "  - `SOGA1`"
      ]
    },
    {
      "cell_type": "code",
      "metadata": {
        "id": "z2b9Df_4he2M"
      },
      "source": [
        "# Write your code here"
      ],
      "execution_count": null,
      "outputs": []
    },
    {
      "cell_type": "markdown",
      "metadata": {
        "id": "jxMrxrsbiCj8"
      },
      "source": [
        "### Question 10\n",
        "Save your data in `.tsv` format so now that it contains extra three columns:\n",
        "- `avgExprCtrl` = average expression of the control samples for all of the gene symbols\n",
        "- `avgExprInfctd` = average expression of the infected samples for all of the gene symbols\n",
        "- `foldChange` = fold change for all of the gene symbols"
      ]
    },
    {
      "cell_type": "code",
      "metadata": {
        "id": "BQRMglA0iCkI"
      },
      "source": [
        "# Write your code here"
      ],
      "execution_count": null,
      "outputs": []
    }
  ]
}