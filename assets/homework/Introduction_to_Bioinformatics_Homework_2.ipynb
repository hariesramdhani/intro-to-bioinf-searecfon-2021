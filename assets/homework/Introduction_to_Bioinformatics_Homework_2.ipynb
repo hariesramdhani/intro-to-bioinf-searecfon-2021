{
  "nbformat": 4,
  "nbformat_minor": 0,
  "metadata": {
    "colab": {
      "name": "Introduction to Bioinformatics - Homework #2.ipynb",
      "provenance": [],
      "collapsed_sections": []
    },
    "kernelspec": {
      "name": "python3",
      "display_name": "Python 3"
    },
    "language_info": {
      "name": "python"
    }
  },
  "cells": [
    {
      "cell_type": "markdown",
      "metadata": {
        "id": "XjovQF8dTLwz"
      },
      "source": [
        "# Introduction to Bioinformatics - Homework #2\n",
        "**Prepared by:** Haries Ramdhani<br/>\n",
        "**Name:** "
      ]
    },
    {
      "cell_type": "markdown",
      "metadata": {
        "id": "-UluopyUTTvt"
      },
      "source": [
        "## Problem 1 - The Sequencing Machine\n",
        "You're tasked to automate the process of sequencing machine. Your task right now is to write a program that will help the scientist to perform sequencing. Each of the question will state the requirements."
      ]
    },
    {
      "cell_type": "markdown",
      "metadata": {
        "id": "KjHCbKQTXSeR"
      },
      "source": [
        "### Question 1\n",
        "Your program must be able to take the input from the user, there will be three inputs in general `rna-seq`, `chip-seq` and `dna-seq`. The user can only enter the inputs stated above it doesn't matter whether the input is lowercased or uppercased. The following is the example when your code is running.\n",
        "\n",
        "**CASE 1**\n",
        "```\n",
        "INPUT:\n",
        "What kind of sequencing do you want to perform today?\n",
        "\n",
        "USER INPUT:\n",
        "rna-seq\n",
        "\n",
        "OUTPUT:\n",
        "Performing RNA-SEQ for you\n",
        "```\n",
        "\n",
        "**CASE 2**\n",
        "```\n",
        "INPUT:\n",
        "What kind of sequencing do you want to perform today?\n",
        "\n",
        "USER INPUT:\n",
        "rna-SEq\n",
        "\n",
        "OUTPUT:\n",
        "Performing RNA-SEQ for you\n",
        "```\n",
        "\n",
        "**CASE 3**\n",
        "```\n",
        "INPUT:\n",
        "What kind of sequencing do you want to perform today?\n",
        "\n",
        "USER INPUT:\n",
        "chop-seq\n",
        "\n",
        "OUTPUT:\n",
        "Sorry the machine don't have `CHOP-SEQ` available\n",
        "```"
      ]
    },
    {
      "cell_type": "code",
      "metadata": {
        "id": "TkpabNSbTR6N"
      },
      "source": [
        "# Write your code here"
      ],
      "execution_count": null,
      "outputs": []
    },
    {
      "cell_type": "markdown",
      "metadata": {
        "id": "6bWLnWqMZARK"
      },
      "source": [
        "### Question 2\n",
        "By now you have created your first command your task right now is to get the second input from the user. The user can only retrieve input dna sequence for DNA-SEQ and Chip-Seq and can only input rna sequence for RNA-SEQ.\n",
        "\n",
        "**CASE 1**\n",
        "```\n",
        "INPUT:\n",
        "What kind of sequencing do you want to perform today?\n",
        "\n",
        "USER INPUT:\n",
        "rna-seq\n",
        "\n",
        "OUTPUT:\n",
        "Performing RNA-SEQ for you\n",
        "\n",
        "INPUT:\n",
        "Please enter your sequence?\n",
        "\n",
        "USER INPUT:\n",
        "AcGTGTACGCGTGTCGTA\n",
        "\n",
        "OUTPUT:\n",
        "Error RNA-SEQ can only get rna input\n",
        "```\n",
        "\n",
        "**CASE 2**\n",
        "```\n",
        "INPUT:\n",
        "What kind of sequencing do you want to perform today?\n",
        "\n",
        "USER INPUT:\n",
        "rna-seq\n",
        "\n",
        "OUTPUT:\n",
        "Performing RNA-SEQ for you\n",
        "\n",
        "INPUT:\n",
        "Please enter your sequence?\n",
        "\n",
        "USER INPUT:\n",
        "ACGUAUUUUGGCGAGCGUGUA\n",
        "\n",
        "OUTPUT:\n",
        "Your input ACGUAUUUUGGCGAGCGUGUA has been saved and will be processed\n",
        "```"
      ]
    },
    {
      "cell_type": "code",
      "metadata": {
        "id": "wRKg2OkZZbUG"
      },
      "source": [
        "# Write your code here"
      ],
      "execution_count": null,
      "outputs": []
    },
    {
      "cell_type": "markdown",
      "metadata": {
        "id": "6FffUkMzZ-4W"
      },
      "source": [
        "## Problem 2 - Hypothesis Testing Part I\n",
        "When you're performing Differential Expression Analysis, hypothesis testing is needed to be done the idea of this one is to make sure that the difference of expressions between to sample group is significant. For this one you will be given two different sample groups and your task is to create functions that will help you build the formula for hypothesis testing. [Read more about hypothesis testing](https://www.statisticshowto.com/probability-and-statistics/t-test/)"
      ]
    },
    {
      "cell_type": "markdown",
      "metadata": {
        "id": "Zc123-oFdV47"
      },
      "source": [
        "### Question 1\n",
        "Let's assume that we have an expression of `CRIP2` gene from two sample groups, healthy and diseased\n",
        "\n",
        "The expression of the `CRIP2` healthy group consists of the following number:<br/>\n",
        "`48.40255491, 41.246513  , 44.2836724 , 44.73627109, 53.36378194`\n",
        "<br/>\n",
        "and the diseased group consists of the following expressions:<br/>\n",
        "`53.17229425, 52.62918082, 43.06126327, 51.18525435, 52.07007229`\n",
        "\n",
        "Create the list of the two expressions and name the list `heatlhy_expression` and `diseased_expression`"
      ]
    },
    {
      "cell_type": "code",
      "metadata": {
        "id": "s8YFXXEgr6GA"
      },
      "source": [
        "# Write your code here"
      ],
      "execution_count": null,
      "outputs": []
    },
    {
      "cell_type": "markdown",
      "metadata": {
        "id": "RubBAhrZs3Oe"
      },
      "source": [
        "### Question 2\n",
        "To perform hypothesis testing the first one you need to do is to calculate the mean of the two samples\n",
        "\n",
        "Write a function called `ht_mean` and it will take the group samples and RETURN the mean for the samples. Then using the function, calculate the mean."
      ]
    },
    {
      "cell_type": "code",
      "metadata": {
        "id": "nxD1GoCOvgR8"
      },
      "source": [
        "# Write your code here"
      ],
      "execution_count": null,
      "outputs": []
    },
    {
      "cell_type": "markdown",
      "metadata": {
        "id": "fqRYX2O2wLPi"
      },
      "source": [
        "### Question 3\n",
        "The next thing you have to implement is a standard error function\n",
        "\n",
        "Write a function called `ht_se` and it will take the group samples and RETURN the standard error for the samples. [Read more about the Standard Error here](https://en.wikipedia.org/wiki/Standard_error)"
      ]
    },
    {
      "cell_type": "code",
      "metadata": {
        "id": "2L52rTaMwLPj"
      },
      "source": [
        "# Write your code here"
      ],
      "execution_count": null,
      "outputs": []
    },
    {
      "cell_type": "markdown",
      "metadata": {
        "id": "w7qz91wFzR7-"
      },
      "source": [
        "### Question 4\n",
        "Lastly for the part I, you are assigned to create a function that will calculate the T-statistics. <br/>\n",
        "\n",
        "Write a function called `ht_tstat` and it will take the group samples and RETURN the t statistics for the samples. [Read more about the T-statistics here](https://en.wikipedia.org/wiki/T-statistic)"
      ]
    },
    {
      "cell_type": "code",
      "metadata": {
        "id": "ULIrIDF5zR8B"
      },
      "source": [
        "# Write your code here"
      ],
      "execution_count": null,
      "outputs": []
    }
  ]
}