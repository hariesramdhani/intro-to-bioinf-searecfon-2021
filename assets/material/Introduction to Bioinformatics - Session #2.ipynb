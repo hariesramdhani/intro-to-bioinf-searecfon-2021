{
 "cells": [
  {
   "cell_type": "markdown",
   "metadata": {
    "id": "rrr5MXmIvNDX"
   },
   "source": [
    "# Session 2"
   ]
  },
  {
   "cell_type": "markdown",
   "metadata": {
    "id": "Ogj1EVek-lYU"
   },
   "source": [
    "## Intermezzo (Prettify your notebook)"
   ]
  },
  {
   "cell_type": "markdown",
   "metadata": {},
   "source": [
    "### Header"
   ]
  },
  {
   "cell_type": "markdown",
   "metadata": {
    "id": "-hGMyUBQ-uPM"
   },
   "source": [
    "# This is an <h1> tag\n",
    "## This is an <h2> tag\n",
    "###### This is an <h6> tag"
   ]
  },
  {
   "cell_type": "markdown",
   "metadata": {},
   "source": [
    "### Text Styles"
   ]
  },
  {
   "cell_type": "markdown",
   "metadata": {},
   "source": [
    "*This text will be italic*\n",
    "_This will also be italic_\n",
    "\n",
    "**This text will be bold**\n",
    "__This will also be bold__\n",
    "\n",
    "_You **can** combine them_"
   ]
  },
  {
   "cell_type": "markdown",
   "metadata": {},
   "source": [
    "### Undordered List"
   ]
  },
  {
   "cell_type": "markdown",
   "metadata": {},
   "source": [
    "* Item 1\n",
    "* Item 2\n",
    "  * Item 2a\n",
    "  * Item 2b"
   ]
  },
  {
   "cell_type": "markdown",
   "metadata": {},
   "source": [
    "### Ordered List"
   ]
  },
  {
   "cell_type": "markdown",
   "metadata": {},
   "source": [
    "1. Item 1\n",
    "1. Item 2\n",
    "1. Item 3\n",
    "   1. Item 3a\n",
    "   1. Item 3b"
   ]
  },
  {
   "cell_type": "markdown",
   "metadata": {
    "id": "HlkRDayo10GO"
   },
   "source": [
    "## Basic Programming (Continues)"
   ]
  },
  {
   "cell_type": "markdown",
   "metadata": {
    "id": "QlEgbHTA_bPZ"
   },
   "source": [
    "### Comments\n",
    "Comment won't be run by the code, this is a very nice for documenting your code so in the future when you see it again you wont forget what you wrote"
   ]
  },
  {
   "cell_type": "code",
   "execution_count": null,
   "metadata": {
    "id": "hHhAiIqO_Xbd"
   },
   "outputs": [],
   "source": [
    "# Calculate the total GC occurence in the DNA\n",
    "\n",
    "def calculate_gc_occurence(dna_string):\n",
    "    return dna_string.count(\"GC\")"
   ]
  },
  {
   "cell_type": "code",
   "execution_count": null,
   "metadata": {
    "id": "WE9y99Q50IO4"
   },
   "outputs": [],
   "source": [
    "def calculate_gc_occurence(dna_string):\n",
    "    \"\"\"\n",
    "    This function is being used to calculate\n",
    "    the GC occurence in the given DNA string\n",
    "    \"\"\"\n",
    "    \n",
    "    \n",
    "    \n",
    "    \n",
    "    \n",
    "    \n",
    "    \n",
    "    \n",
    "    \n",
    "    \n",
    "    return dna_string.count(\"GC\")"
   ]
  },
  {
   "cell_type": "markdown",
   "metadata": {
    "id": "sfvUadZUEXCg"
   },
   "source": [
    "### Keyboard Input (IO in Python)\n",
    "Sometimes we want to take an input from the user, Python can let you do this by using the `input` function"
   ]
  },
  {
   "cell_type": "code",
   "execution_count": 1,
   "metadata": {
    "colab": {
     "base_uri": "https://localhost:8080/"
    },
    "id": "ZEjNrT7fEY7F",
    "outputId": "5e65c378-2d50-4057-eaab-34f736f9dddb"
   },
   "outputs": [
    {
     "name": "stdout",
     "output_type": "stream",
     "text": [
      "X\n"
     ]
    }
   ],
   "source": [
    "print(\"X\")"
   ]
  },
  {
   "cell_type": "code",
   "execution_count": 2,
   "metadata": {
    "colab": {
     "base_uri": "https://localhost:8080/"
    },
    "id": "wGWhy-UcEatZ",
    "outputId": "e6c38f72-75cc-4d91-fc81-581c3a60a3d1"
   },
   "outputs": [
    {
     "name": "stdout",
     "output_type": "stream",
     "text": [
      "ACTGTCGT\n"
     ]
    }
   ],
   "source": [
    "dna_string = input()"
   ]
  },
  {
   "cell_type": "code",
   "execution_count": 3,
   "metadata": {},
   "outputs": [
    {
     "name": "stdout",
     "output_type": "stream",
     "text": [
      "ACTGTCGT\n"
     ]
    }
   ],
   "source": [
    "print(dna_string)"
   ]
  },
  {
   "cell_type": "code",
   "execution_count": 4,
   "metadata": {
    "colab": {
     "base_uri": "https://localhost:8080/"
    },
    "id": "GtL-ZOj806rq",
    "outputId": "cf600e08-04d6-45f7-fff0-deabc30e75f7"
   },
   "outputs": [
    {
     "name": "stdout",
     "output_type": "stream",
     "text": [
      "Please input your DNA string for the analysis: AACGTGGATGTA\n"
     ]
    }
   ],
   "source": [
    "dna_string = input(\"Please input your DNA string for the analysis: \")"
   ]
  },
  {
   "cell_type": "code",
   "execution_count": 5,
   "metadata": {
    "colab": {
     "base_uri": "https://localhost:8080/"
    },
    "id": "PZiglpPTEoIG",
    "outputId": "df57afb0-9e3c-430d-c750-47ebba21d3e8"
   },
   "outputs": [
    {
     "name": "stdout",
     "output_type": "stream",
     "text": [
      "AACGTGGATGTA\n"
     ]
    }
   ],
   "source": [
    "print(dna_string)"
   ]
  },
  {
   "cell_type": "code",
   "execution_count": 11,
   "metadata": {
    "colab": {
     "base_uri": "https://localhost:8080/"
    },
    "id": "j664nwKS1C0m",
    "outputId": "f5021c4b-a48b-4ab9-e39c-4d9cc6021c70"
   },
   "outputs": [
    {
     "name": "stdout",
     "output_type": "stream",
     "text": [
      "Please enter the sample size9\n",
      "You have multiplied your sample size to 99\n"
     ]
    }
   ],
   "source": [
    "sample_size = input(\"Please enter the sample size\")\n",
    "\n",
    "sample_size = sample_size * 2\n",
    "\n",
    "print(\"You have multiplied your sample size to \" + sample_size)"
   ]
  },
  {
   "cell_type": "markdown",
   "metadata": {
    "id": "zIaXhDAo2L5y"
   },
   "source": [
    "### Print (IO in Python)"
   ]
  },
  {
   "cell_type": "code",
   "execution_count": 17,
   "metadata": {
    "colab": {
     "base_uri": "https://localhost:8080/"
    },
    "id": "o8tJx0wm2PM_",
    "outputId": "e6d05730-b85a-4754-84ef-551483d6e9d3"
   },
   "outputs": [],
   "source": [
    "bacteria_name = [\"Bacteroides melaninogenicus\", \"Bacteria2\", \"Bacteria3\"]\n",
    "\n",
    "# print(\"The most common bacteria in the human gut is\" + bacteria_name + \"and it's being studied by many scientist\")\n",
    "# print(\"The most common bacteria in the human gut is \" + bacteria_name  + \" and it's being studied by many scientist\")"
   ]
  },
  {
   "cell_type": "code",
   "execution_count": 18,
   "metadata": {
    "colab": {
     "base_uri": "https://localhost:8080/"
    },
    "id": "h7jAY_Ym249h",
    "outputId": "727ba953-606c-434b-8d49-d6edcd3fef5b"
   },
   "outputs": [
    {
     "name": "stdout",
     "output_type": "stream",
     "text": [
      "The most common bacteria in the human gut is Bacteroides melaninogenicus, Bacteria2, Bacteria3 and it's being studied by many scientist\n"
     ]
    }
   ],
   "source": [
    "print(f\"The most common bacteria in the human gut is {bacteria_name[0]}, {bacteria_name[1]}, {bacteria_name[2]} and it's being studied by many scientist\")"
   ]
  },
  {
   "cell_type": "markdown",
   "metadata": {
    "id": "jXXUD_WMBLQi"
   },
   "source": [
    "## 2. Functions"
   ]
  },
  {
   "cell_type": "markdown",
   "metadata": {
    "id": "29DENM1Z3Mdw"
   },
   "source": [
    "Functions allow us to perform anything that we wrote inside it over and over again without the need to write the same thing over and over again."
   ]
  },
  {
   "cell_type": "markdown",
   "metadata": {
    "id": "fjf7fDoYBO9e"
   },
   "source": [
    "### Function Calls"
   ]
  },
  {
   "cell_type": "code",
   "execution_count": 19,
   "metadata": {
    "colab": {
     "base_uri": "https://localhost:8080/"
    },
    "id": "axO44Hm6AvZG",
    "outputId": "db5a2ff6-01ab-4ea3-a21a-084c493fa3d0"
   },
   "outputs": [
    {
     "data": {
      "text/plain": [
       "int"
      ]
     },
     "execution_count": 19,
     "metadata": {},
     "output_type": "execute_result"
    }
   ],
   "source": [
    "type(42)"
   ]
  },
  {
   "cell_type": "code",
   "execution_count": 20,
   "metadata": {
    "colab": {
     "base_uri": "https://localhost:8080/"
    },
    "id": "Yu63-Z5iAubh",
    "outputId": "2caab78f-207c-4792-cf1a-5bcdfaa220c2"
   },
   "outputs": [
    {
     "data": {
      "text/plain": [
       "34"
      ]
     },
     "execution_count": 20,
     "metadata": {},
     "output_type": "execute_result"
    }
   ],
   "source": [
    "int('32') + 2 "
   ]
  },
  {
   "cell_type": "code",
   "execution_count": 21,
   "metadata": {
    "colab": {
     "base_uri": "https://localhost:8080/"
    },
    "id": "KlZ3vS7uREIm",
    "outputId": "35c15a62-29e3-44b8-a0a4-54ad3c348d59"
   },
   "outputs": [
    {
     "data": {
      "text/plain": [
       "34.0"
      ]
     },
     "execution_count": 21,
     "metadata": {},
     "output_type": "execute_result"
    }
   ],
   "source": [
    "float(32) + 2"
   ]
  },
  {
   "cell_type": "code",
   "execution_count": 22,
   "metadata": {
    "id": "mTr3wcRu_rYN"
   },
   "outputs": [],
   "source": [
    "x = \"54\""
   ]
  },
  {
   "cell_type": "code",
   "execution_count": 23,
   "metadata": {
    "colab": {
     "base_uri": "https://localhost:8080/"
    },
    "id": "PvCEBivbBV5B",
    "outputId": "862c79cf-76a5-4232-aec0-0e3df9655ae8"
   },
   "outputs": [
    {
     "data": {
      "text/plain": [
       "54"
      ]
     },
     "execution_count": 23,
     "metadata": {},
     "output_type": "execute_result"
    }
   ],
   "source": [
    "int(x)"
   ]
  },
  {
   "cell_type": "code",
   "execution_count": 24,
   "metadata": {
    "colab": {
     "base_uri": "https://localhost:8080/",
     "height": 163
    },
    "id": "_hjg4tyfBWXD",
    "outputId": "07e1c885-f1ac-4a97-a63b-482680453c8c"
   },
   "outputs": [
    {
     "ename": "ValueError",
     "evalue": "invalid literal for int() with base 10: 'Hello'",
     "output_type": "error",
     "traceback": [
      "\u001b[1;31m---------------------------------------------------------------------------\u001b[0m",
      "\u001b[1;31mValueError\u001b[0m                                Traceback (most recent call last)",
      "\u001b[1;32m<ipython-input-24-6765ce49acfe>\u001b[0m in \u001b[0;36m<module>\u001b[1;34m\u001b[0m\n\u001b[1;32m----> 1\u001b[1;33m \u001b[0mint\u001b[0m\u001b[1;33m(\u001b[0m\u001b[1;34m'Hello'\u001b[0m\u001b[1;33m)\u001b[0m\u001b[1;33m\u001b[0m\u001b[1;33m\u001b[0m\u001b[0m\n\u001b[0m",
      "\u001b[1;31mValueError\u001b[0m: invalid literal for int() with base 10: 'Hello'"
     ]
    }
   ],
   "source": [
    "int('Hello')"
   ]
  },
  {
   "cell_type": "code",
   "execution_count": 25,
   "metadata": {
    "colab": {
     "base_uri": "https://localhost:8080/"
    },
    "id": "saN3hWVRBZHP",
    "outputId": "803835e0-6216-439f-bad7-3ae81857382e"
   },
   "outputs": [
    {
     "data": {
      "text/plain": [
       "4"
      ]
     },
     "execution_count": 25,
     "metadata": {},
     "output_type": "execute_result"
    }
   ],
   "source": [
    "round(3.99999)"
   ]
  },
  {
   "cell_type": "code",
   "execution_count": 26,
   "metadata": {
    "colab": {
     "base_uri": "https://localhost:8080/"
    },
    "id": "aiBXVhZmBa4-",
    "outputId": "a4c27aa2-10ec-431c-b6cf-ce03038ab8b9"
   },
   "outputs": [
    {
     "data": {
      "text/plain": [
       "3.14159"
      ]
     },
     "execution_count": 26,
     "metadata": {},
     "output_type": "execute_result"
    }
   ],
   "source": [
    "float('3.14159')"
   ]
  },
  {
   "cell_type": "markdown",
   "metadata": {
    "id": "Sry_L8ZrBiNQ"
   },
   "source": [
    "### Import Functions\n",
    "Sometimes the function that we need is not built in Python, so we have to import it using the `import` command"
   ]
  },
  {
   "cell_type": "code",
   "execution_count": 27,
   "metadata": {
    "id": "SQg-VsWtBftU"
   },
   "outputs": [],
   "source": [
    "import math"
   ]
  },
  {
   "cell_type": "code",
   "execution_count": 28,
   "metadata": {
    "colab": {
     "base_uri": "https://localhost:8080/"
    },
    "id": "XDP-eO4V4XlX",
    "outputId": "c52c94ef-f2cc-4e85-87c0-6d955e8d5200"
   },
   "outputs": [
    {
     "data": {
      "text/plain": [
       "['__doc__',\n",
       " '__loader__',\n",
       " '__name__',\n",
       " '__package__',\n",
       " '__spec__',\n",
       " 'acos',\n",
       " 'acosh',\n",
       " 'asin',\n",
       " 'asinh',\n",
       " 'atan',\n",
       " 'atan2',\n",
       " 'atanh',\n",
       " 'ceil',\n",
       " 'comb',\n",
       " 'copysign',\n",
       " 'cos',\n",
       " 'cosh',\n",
       " 'degrees',\n",
       " 'dist',\n",
       " 'e',\n",
       " 'erf',\n",
       " 'erfc',\n",
       " 'exp',\n",
       " 'expm1',\n",
       " 'fabs',\n",
       " 'factorial',\n",
       " 'floor',\n",
       " 'fmod',\n",
       " 'frexp',\n",
       " 'fsum',\n",
       " 'gamma',\n",
       " 'gcd',\n",
       " 'hypot',\n",
       " 'inf',\n",
       " 'isclose',\n",
       " 'isfinite',\n",
       " 'isinf',\n",
       " 'isnan',\n",
       " 'isqrt',\n",
       " 'ldexp',\n",
       " 'lgamma',\n",
       " 'log',\n",
       " 'log10',\n",
       " 'log1p',\n",
       " 'log2',\n",
       " 'modf',\n",
       " 'nan',\n",
       " 'perm',\n",
       " 'pi',\n",
       " 'pow',\n",
       " 'prod',\n",
       " 'radians',\n",
       " 'remainder',\n",
       " 'sin',\n",
       " 'sinh',\n",
       " 'sqrt',\n",
       " 'tan',\n",
       " 'tanh',\n",
       " 'tau',\n",
       " 'trunc']"
      ]
     },
     "execution_count": 28,
     "metadata": {},
     "output_type": "execute_result"
    }
   ],
   "source": [
    "dir(math)"
   ]
  },
  {
   "cell_type": "code",
   "execution_count": 29,
   "metadata": {
    "colab": {
     "base_uri": "https://localhost:8080/"
    },
    "id": "_V-DH3V9SIrq",
    "outputId": "2da81615-dead-4011-ca39-ea4733c4c450"
   },
   "outputs": [
    {
     "data": {
      "text/plain": [
       "3.141592653589793"
      ]
     },
     "execution_count": 29,
     "metadata": {},
     "output_type": "execute_result"
    }
   ],
   "source": [
    "math.pi"
   ]
  },
  {
   "cell_type": "code",
   "execution_count": null,
   "metadata": {
    "id": "XcYcp-1tSqpt"
   },
   "outputs": [],
   "source": [
    "pi = 3.14"
   ]
  },
  {
   "cell_type": "code",
   "execution_count": 30,
   "metadata": {
    "colab": {
     "base_uri": "https://localhost:8080/"
    },
    "id": "jX-EhAIVBoP-",
    "outputId": "bd7f4cae-ecde-4588-a7f1-4295a39f276d"
   },
   "outputs": [
    {
     "data": {
      "text/plain": [
       "2.0"
      ]
     },
     "execution_count": 30,
     "metadata": {},
     "output_type": "execute_result"
    }
   ],
   "source": [
    "math.sqrt(4)"
   ]
  },
  {
   "cell_type": "code",
   "execution_count": 32,
   "metadata": {},
   "outputs": [],
   "source": [
    "from math import sqrt"
   ]
  },
  {
   "cell_type": "code",
   "execution_count": 34,
   "metadata": {},
   "outputs": [],
   "source": [
    "import math as m"
   ]
  },
  {
   "cell_type": "code",
   "execution_count": 35,
   "metadata": {},
   "outputs": [
    {
     "data": {
      "text/plain": [
       "3.141592653589793"
      ]
     },
     "execution_count": 35,
     "metadata": {},
     "output_type": "execute_result"
    }
   ],
   "source": [
    "m.pi"
   ]
  },
  {
   "cell_type": "code",
   "execution_count": null,
   "metadata": {
    "colab": {
     "base_uri": "https://localhost:8080/"
    },
    "id": "5QnKF8GnBqJM",
    "outputId": "f7b3c763-cc74-40c4-9f00-3e6899666725"
   },
   "outputs": [],
   "source": [
    "math.pi"
   ]
  },
  {
   "cell_type": "markdown",
   "metadata": {
    "id": "secXTNwB4rci"
   },
   "source": [
    "### Installing Library\n",
    "Sometimes the library that you need is not ready installed so you have to install it by yourself"
   ]
  },
  {
   "cell_type": "code",
   "execution_count": 36,
   "metadata": {},
   "outputs": [],
   "source": [
    "import pandas as pd"
   ]
  },
  {
   "cell_type": "code",
   "execution_count": null,
   "metadata": {
    "colab": {
     "base_uri": "https://localhost:8080/"
    },
    "id": "v4rk3W6g4q34",
    "outputId": "9b140ecb-9430-400a-e959-b0e9f36238c3"
   },
   "outputs": [],
   "source": [
    "!pip install methseq"
   ]
  },
  {
   "cell_type": "code",
   "execution_count": null,
   "metadata": {
    "id": "ukirOukd5gIy"
   },
   "outputs": [],
   "source": [
    "import methseq"
   ]
  },
  {
   "cell_type": "markdown",
   "metadata": {
    "id": "yCHREVc2B9SG"
   },
   "source": [
    "### Adding New Functions\n",
    "\n",
    "Not all function is available so you have to add it yourself"
   ]
  },
  {
   "cell_type": "code",
   "execution_count": 37,
   "metadata": {
    "colab": {
     "base_uri": "https://localhost:8080/"
    },
    "id": "eJFH7DSOB41M",
    "outputId": "c9c361ee-77f5-44c7-fb11-8f269665cb53"
   },
   "outputs": [
    {
     "name": "stdout",
     "output_type": "stream",
     "text": [
      "The total number of A is 14\n",
      "The total number of G is 16\n",
      "The total number of C is 4\n",
      "The total number of T is 8\n"
     ]
    }
   ],
   "source": [
    "dna_string = \"ACGTGGGGAGGAACATAGTGGGATATAGAGTAGCCGATAGAT\"\n",
    "count_of_a = dna_string.count(\"A\")\n",
    "count_of_g = dna_string.count(\"G\")\n",
    "count_of_c = dna_string.count(\"C\")\n",
    "count_of_t = dna_string.count(\"T\")\n",
    "\n",
    "print(f\"The total number of A is {count_of_a}\")\n",
    "print(f\"The total number of G is {count_of_g}\")\n",
    "print(f\"The total number of C is {count_of_c}\")\n",
    "print(f\"The total number of T is {count_of_t}\")"
   ]
  },
  {
   "cell_type": "code",
   "execution_count": 38,
   "metadata": {
    "colab": {
     "base_uri": "https://localhost:8080/"
    },
    "id": "Nar5irJ36_dt",
    "outputId": "7dae6aa5-cd96-472a-bd1c-bbd6159502a9"
   },
   "outputs": [
    {
     "name": "stdout",
     "output_type": "stream",
     "text": [
      "The total number of A is 22\n",
      "The total number of G is 15\n",
      "The total number of C is 14\n",
      "The total number of T is 28\n"
     ]
    }
   ],
   "source": [
    "dna_string_2 = \"ATGAAAATTATTCTTTTCTTGGCACTGATAACACTCGCTACTTGTGAGCTTTATCACTACCAAGAGTGTGTTAGAGGTA\"\n",
    "count_of_a = dna_string_2.count(\"A\")\n",
    "count_of_g = dna_string_2.count(\"G\")\n",
    "count_of_c = dna_string_2.count(\"C\")\n",
    "count_of_t = dna_string_2.count(\"T\")\n",
    "\n",
    "print(f\"The total number of A is {count_of_a}\")\n",
    "print(f\"The total number of G is {count_of_g}\")\n",
    "print(f\"The total number of C is {count_of_c}\")\n",
    "print(f\"The total number of T is {count_of_t}\")"
   ]
  },
  {
   "cell_type": "code",
   "execution_count": 39,
   "metadata": {
    "colab": {
     "base_uri": "https://localhost:8080/"
    },
    "id": "XzERsh6p7kV5",
    "outputId": "839af5c5-e284-48c7-9cea-55f95d13eb02"
   },
   "outputs": [
    {
     "name": "stdout",
     "output_type": "stream",
     "text": [
      "The total number of A is 13\n",
      "The total number of G is 8\n",
      "The total number of C is 14\n",
      "The total number of T is 23\n"
     ]
    }
   ],
   "source": [
    "dna_string_3 = \"TCCTCTAGCTGATAACAAATTTGCACTGACTTGCTTTAGCACTCAATTTGCTTTTGCT\"\n",
    "count_of_a = dna_string_3.count(\"A\")\n",
    "count_of_g = dna_string_3.count(\"G\")\n",
    "count_of_c = dna_string_3.count(\"C\")\n",
    "count_of_t = dna_string_3.count(\"T\")\n",
    "\n",
    "print(f\"The total number of A is {count_of_a}\")\n",
    "print(f\"The total number of G is {count_of_g}\")\n",
    "print(f\"The total number of C is {count_of_c}\")\n",
    "print(f\"The total number of T is {count_of_t}\")"
   ]
  },
  {
   "cell_type": "code",
   "execution_count": 40,
   "metadata": {
    "id": "vszM8BbxCBJE"
   },
   "outputs": [],
   "source": [
    "def count_and_report(dna_string):\n",
    "    count_of_a = dna_string.count(\"A\")\n",
    "    count_of_g = dna_string.count(\"G\")\n",
    "    count_of_c = dna_string.count(\"C\")\n",
    "    count_of_t = dna_string.count(\"T\")\n",
    "\n",
    "    print(f\"The total number of A is {count_of_a}\")\n",
    "    print(f\"The total number of G is {count_of_g}\")\n",
    "    print(f\"The total number of C is {count_of_c}\")\n",
    "    print(f\"The total number of T is {count_of_t}\")"
   ]
  },
  {
   "cell_type": "code",
   "execution_count": 43,
   "metadata": {
    "colab": {
     "base_uri": "https://localhost:8080/"
    },
    "id": "znkEuZQzTQed",
    "outputId": "b947f5ad-ff76-40d0-eb10-5c2880799690"
   },
   "outputs": [
    {
     "name": "stdout",
     "output_type": "stream",
     "text": [
      "The total number of A is 22\n",
      "The total number of G is 15\n",
      "The total number of C is 14\n",
      "The total number of T is 28\n"
     ]
    }
   ],
   "source": [
    "count_and_report(dna_string_2)"
   ]
  },
  {
   "cell_type": "code",
   "execution_count": 44,
   "metadata": {
    "colab": {
     "base_uri": "https://localhost:8080/"
    },
    "id": "kbk7kEBICCq5",
    "outputId": "0b5e356a-d35a-41a9-a711-7a59ed300878"
   },
   "outputs": [
    {
     "name": "stdout",
     "output_type": "stream",
     "text": [
      "The total number of A is 13\n",
      "The total number of G is 8\n",
      "The total number of C is 14\n",
      "The total number of T is 23\n"
     ]
    }
   ],
   "source": [
    "count_and_report(dna_string_3)"
   ]
  },
  {
   "cell_type": "code",
   "execution_count": 45,
   "metadata": {},
   "outputs": [],
   "source": [
    "def silly_function():\n",
    "    print(\"You are silly!\")"
   ]
  },
  {
   "cell_type": "code",
   "execution_count": 47,
   "metadata": {},
   "outputs": [
    {
     "name": "stdout",
     "output_type": "stream",
     "text": [
      "You are silly!\n"
     ]
    }
   ],
   "source": [
    "silly_function()"
   ]
  },
  {
   "cell_type": "markdown",
   "metadata": {
    "id": "nZ9qF4od74Wa"
   },
   "source": [
    "Function can take more than one input"
   ]
  },
  {
   "cell_type": "code",
   "execution_count": 48,
   "metadata": {
    "id": "TP-epdRb8Hst"
   },
   "outputs": [],
   "source": [
    "def combine_two_dnas(sequence_one, sequence_two):\n",
    "    print(f\"{sequence_one}{sequence_two}\")"
   ]
  },
  {
   "cell_type": "code",
   "execution_count": 49,
   "metadata": {
    "colab": {
     "base_uri": "https://localhost:8080/"
    },
    "id": "APNWaZ4w8Q0d",
    "outputId": "dcd5535d-10c1-4024-8c6a-b0de341362d2"
   },
   "outputs": [
    {
     "name": "stdout",
     "output_type": "stream",
     "text": [
      "ATGAAAATTATTCTTTTCTTGGCACTGATAACACTCGCTACTTGTGAGCTTTATCACTACCAAGAGTGTGTTAGAGGTATCCTCTAGCTGATAACAAATTTGCACTGACTTGCTTTAGCACTCAATTTGCTTTTGCT\n"
     ]
    }
   ],
   "source": [
    "combine_two_dnas(dna_string_2, dna_string_3)"
   ]
  },
  {
   "cell_type": "code",
   "execution_count": 50,
   "metadata": {},
   "outputs": [],
   "source": [
    "def addition(x, y):\n",
    "    return x + y"
   ]
  },
  {
   "cell_type": "code",
   "execution_count": 53,
   "metadata": {},
   "outputs": [],
   "source": [
    "def addition_2(x, y):\n",
    "    print(x+y)"
   ]
  },
  {
   "cell_type": "code",
   "execution_count": 55,
   "metadata": {},
   "outputs": [
    {
     "name": "stdout",
     "output_type": "stream",
     "text": [
      "7\n"
     ]
    }
   ],
   "source": [
    "b = addition_2(3, 4)"
   ]
  },
  {
   "cell_type": "code",
   "execution_count": 56,
   "metadata": {},
   "outputs": [],
   "source": [
    "b"
   ]
  },
  {
   "cell_type": "code",
   "execution_count": 52,
   "metadata": {},
   "outputs": [],
   "source": [
    "a = addition(1, 2)"
   ]
  },
  {
   "cell_type": "code",
   "execution_count": 57,
   "metadata": {},
   "outputs": [
    {
     "data": {
      "text/plain": [
       "3"
      ]
     },
     "execution_count": 57,
     "metadata": {},
     "output_type": "execute_result"
    }
   ],
   "source": [
    "a"
   ]
  },
  {
   "cell_type": "code",
   "execution_count": 58,
   "metadata": {},
   "outputs": [],
   "source": [
    "def multiplication(x):\n",
    "    return 2 * x * y"
   ]
  },
  {
   "cell_type": "code",
   "execution_count": 59,
   "metadata": {},
   "outputs": [
    {
     "ename": "TypeError",
     "evalue": "multiplication() takes 1 positional argument but 2 were given",
     "output_type": "error",
     "traceback": [
      "\u001b[1;31m---------------------------------------------------------------------------\u001b[0m",
      "\u001b[1;31mTypeError\u001b[0m                                 Traceback (most recent call last)",
      "\u001b[1;32m<ipython-input-59-3a4167f38d2b>\u001b[0m in \u001b[0;36m<module>\u001b[1;34m\u001b[0m\n\u001b[1;32m----> 1\u001b[1;33m \u001b[0mmultiplication\u001b[0m\u001b[1;33m(\u001b[0m\u001b[1;36m3\u001b[0m\u001b[1;33m,\u001b[0m \u001b[1;36m4\u001b[0m\u001b[1;33m)\u001b[0m\u001b[1;33m\u001b[0m\u001b[1;33m\u001b[0m\u001b[0m\n\u001b[0m",
      "\u001b[1;31mTypeError\u001b[0m: multiplication() takes 1 positional argument but 2 were given"
     ]
    }
   ],
   "source": [
    "multiplication(3, 4)"
   ]
  },
  {
   "cell_type": "code",
   "execution_count": 66,
   "metadata": {},
   "outputs": [
    {
     "data": {
      "text/plain": [
       "'54'"
      ]
     },
     "execution_count": 66,
     "metadata": {},
     "output_type": "execute_result"
    }
   ],
   "source": [
    "x"
   ]
  },
  {
   "cell_type": "code",
   "execution_count": 71,
   "metadata": {},
   "outputs": [],
   "source": [
    "def multiplication(x):\n",
    "    return 2 * x"
   ]
  },
  {
   "cell_type": "code",
   "execution_count": 73,
   "metadata": {},
   "outputs": [
    {
     "data": {
      "text/plain": [
       "6"
      ]
     },
     "execution_count": 73,
     "metadata": {},
     "output_type": "execute_result"
    }
   ],
   "source": [
    "multiplication(3)"
   ]
  },
  {
   "cell_type": "markdown",
   "metadata": {
    "id": "3b62evTmC8xZ"
   },
   "source": [
    "## 3. Logical Operators"
   ]
  },
  {
   "cell_type": "markdown",
   "metadata": {
    "id": "wOwCV_yWDEiT"
   },
   "source": [
    "### Floor Division and Modulus"
   ]
  },
  {
   "cell_type": "code",
   "execution_count": 74,
   "metadata": {
    "colab": {
     "base_uri": "https://localhost:8080/"
    },
    "id": "8xkeq49rC2RN",
    "outputId": "809be612-0367-4806-a193-d1f15d6588af"
   },
   "outputs": [
    {
     "name": "stdout",
     "output_type": "stream",
     "text": [
      "4.333333333333333\n"
     ]
    }
   ],
   "source": [
    "dna_string = \"ACG UGC GGU GUC A\"\n",
    "\n",
    "total_codon = len(dna_string) / 3\n",
    "print(total_codon)"
   ]
  },
  {
   "cell_type": "code",
   "execution_count": 75,
   "metadata": {
    "colab": {
     "base_uri": "https://localhost:8080/"
    },
    "id": "lfbIjBSV98RM",
    "outputId": "1e2f66a3-ae37-42af-d583-c946aef9d105"
   },
   "outputs": [
    {
     "name": "stdout",
     "output_type": "stream",
     "text": [
      "4\n"
     ]
    }
   ],
   "source": [
    "total_codon = int(len(dna_string) / 3)\n",
    "print(total_codon)"
   ]
  },
  {
   "cell_type": "code",
   "execution_count": 76,
   "metadata": {
    "colab": {
     "base_uri": "https://localhost:8080/"
    },
    "id": "8KcpjCBEDIRP",
    "outputId": "346acc92-b70f-4c0a-f9f7-61f80256537c"
   },
   "outputs": [
    {
     "name": "stdout",
     "output_type": "stream",
     "text": [
      "4\n"
     ]
    }
   ],
   "source": [
    "total_codon = len(dna_string) // 3\n",
    "print(total_codon)"
   ]
  },
  {
   "cell_type": "code",
   "execution_count": 77,
   "metadata": {
    "colab": {
     "base_uri": "https://localhost:8080/"
    },
    "id": "2C2OkfZWDNnP",
    "outputId": "711c4cbc-fadd-4c01-e399-9af5de6b290a"
   },
   "outputs": [
    {
     "name": "stdout",
     "output_type": "stream",
     "text": [
      "1\n"
     ]
    }
   ],
   "source": [
    "dna_remains = len(dna_string) % 3\n",
    "print(dna_remains)"
   ]
  },
  {
   "cell_type": "code",
   "execution_count": 81,
   "metadata": {},
   "outputs": [
    {
     "data": {
      "text/plain": [
       "1"
      ]
     },
     "execution_count": 81,
     "metadata": {},
     "output_type": "execute_result"
    }
   ],
   "source": [
    "103 % 2"
   ]
  },
  {
   "cell_type": "markdown",
   "metadata": {
    "id": "EPrewhgoDYS7"
   },
   "source": [
    "### Boolean Expressions\n",
    "\n",
    "Boolean expressions are very useful when we're doing conditionals"
   ]
  },
  {
   "cell_type": "code",
   "execution_count": 82,
   "metadata": {
    "colab": {
     "base_uri": "https://localhost:8080/"
    },
    "id": "L8-F6AU4DUZb",
    "outputId": "f959ad6f-5dd4-49d0-b2c5-731adb367915"
   },
   "outputs": [
    {
     "data": {
      "text/plain": [
       "True"
      ]
     },
     "execution_count": 82,
     "metadata": {},
     "output_type": "execute_result"
    }
   ],
   "source": [
    "5 == 5"
   ]
  },
  {
   "cell_type": "code",
   "execution_count": 83,
   "metadata": {
    "id": "BUoG-Jo3Z7rZ"
   },
   "outputs": [],
   "source": [
    "var1 = 6"
   ]
  },
  {
   "cell_type": "code",
   "execution_count": 84,
   "metadata": {
    "id": "_Yi-_BnJDbCg"
   },
   "outputs": [
    {
     "data": {
      "text/plain": [
       "False"
      ]
     },
     "execution_count": 84,
     "metadata": {},
     "output_type": "execute_result"
    }
   ],
   "source": [
    "5 == 6"
   ]
  },
  {
   "cell_type": "code",
   "execution_count": 85,
   "metadata": {
    "colab": {
     "base_uri": "https://localhost:8080/"
    },
    "id": "fije6ugHaBC5",
    "outputId": "2bc56d5d-c532-4838-bfd9-9fbffe267b7d"
   },
   "outputs": [
    {
     "data": {
      "text/plain": [
       "False"
      ]
     },
     "execution_count": 85,
     "metadata": {},
     "output_type": "execute_result"
    }
   ],
   "source": [
    "var1 != 6"
   ]
  },
  {
   "cell_type": "code",
   "execution_count": 86,
   "metadata": {
    "colab": {
     "base_uri": "https://localhost:8080/"
    },
    "id": "pnIvpXhRDcWP",
    "outputId": "f75ce422-27ff-4eb6-e2b6-afcbed011126"
   },
   "outputs": [
    {
     "data": {
      "text/plain": [
       "True"
      ]
     },
     "execution_count": 86,
     "metadata": {},
     "output_type": "execute_result"
    }
   ],
   "source": [
    "3 >= 3"
   ]
  },
  {
   "cell_type": "markdown",
   "metadata": {
    "id": "wp9JB8R6DjQ0"
   },
   "source": [
    "- x != y # x is not equal to y\n",
    "- x > y # x is greater than y\n",
    "- x < y # x is less than y\n",
    "- x >= y # x is greater than or equal to y\n",
    "- x <= y # x is less than or equal to y"
   ]
  },
  {
   "cell_type": "markdown",
   "metadata": {
    "id": "qbuf6jZ6DuLu"
   },
   "source": [
    "### Logical Operators"
   ]
  },
  {
   "cell_type": "code",
   "execution_count": 87,
   "metadata": {
    "colab": {
     "base_uri": "https://localhost:8080/"
    },
    "id": "61JTrzRXDfqE",
    "outputId": "d3830267-0482-42ac-ed50-064c868cbe63"
   },
   "outputs": [
    {
     "data": {
      "text/plain": [
       "0"
      ]
     },
     "execution_count": 87,
     "metadata": {},
     "output_type": "execute_result"
    }
   ],
   "source": [
    "0 and True"
   ]
  },
  {
   "cell_type": "code",
   "execution_count": 90,
   "metadata": {
    "colab": {
     "base_uri": "https://localhost:8080/"
    },
    "id": "dfuTE4RaDxAy",
    "outputId": "565e9fe8-ed97-4223-deac-5e11a7e0df84"
   },
   "outputs": [
    {
     "data": {
      "text/plain": [
       "False"
      ]
     },
     "execution_count": 90,
     "metadata": {},
     "output_type": "execute_result"
    }
   ],
   "source": [
    "False and False"
   ]
  },
  {
   "cell_type": "code",
   "execution_count": 91,
   "metadata": {
    "colab": {
     "base_uri": "https://localhost:8080/"
    },
    "id": "Vfm1i_73Dyia",
    "outputId": "0598f10b-241e-4eb0-9ddd-3d896491e021"
   },
   "outputs": [
    {
     "data": {
      "text/plain": [
       "True"
      ]
     },
     "execution_count": 91,
     "metadata": {},
     "output_type": "execute_result"
    }
   ],
   "source": [
    "True or False"
   ]
  },
  {
   "cell_type": "code",
   "execution_count": 92,
   "metadata": {
    "colab": {
     "base_uri": "https://localhost:8080/"
    },
    "id": "434wt8ikDzh7",
    "outputId": "6a870792-c117-4d75-c0db-c62160c06fb5"
   },
   "outputs": [
    {
     "data": {
      "text/plain": [
       "True"
      ]
     },
     "execution_count": 92,
     "metadata": {},
     "output_type": "execute_result"
    }
   ],
   "source": [
    "True and True"
   ]
  },
  {
   "cell_type": "markdown",
   "metadata": {
    "id": "ooCPq9CmD3XL"
   },
   "source": [
    "### Conditional Execution"
   ]
  },
  {
   "cell_type": "code",
   "execution_count": 100,
   "metadata": {
    "id": "2Nlx3v44awaY"
   },
   "outputs": [],
   "source": [
    "x = 3"
   ]
  },
  {
   "cell_type": "code",
   "execution_count": 96,
   "metadata": {
    "id": "6c3E0oG-D0g6"
   },
   "outputs": [],
   "source": [
    "if x > 2:\n",
    "    print(\"x is greater than 2\")"
   ]
  },
  {
   "cell_type": "code",
   "execution_count": 98,
   "metadata": {},
   "outputs": [
    {
     "name": "stdout",
     "output_type": "stream",
     "text": [
      "You're correct\n"
     ]
    }
   ],
   "source": [
    "if True:\n",
    "    print(\"You're correct\")"
   ]
  },
  {
   "cell_type": "markdown",
   "metadata": {
    "id": "5sRx-9PgD-me"
   },
   "source": [
    "### Alternative Execution"
   ]
  },
  {
   "cell_type": "code",
   "execution_count": 102,
   "metadata": {
    "colab": {
     "base_uri": "https://localhost:8080/"
    },
    "id": "RO14kCOYD7PQ",
    "outputId": "f55cab8f-ad5c-4c4a-eb5e-b2f69fac5ceb"
   },
   "outputs": [
    {
     "name": "stdout",
     "output_type": "stream",
     "text": [
      "x is odd\n"
     ]
    }
   ],
   "source": [
    "if x % 2 == 0:\n",
    "    print('x is even')\n",
    "else:\n",
    "    print('x is odd')"
   ]
  },
  {
   "cell_type": "code",
   "execution_count": 104,
   "metadata": {},
   "outputs": [
    {
     "name": "stdout",
     "output_type": "stream",
     "text": [
      "No\n"
     ]
    }
   ],
   "source": [
    "name = \"SEAMEOR\"\n",
    "\n",
    "if len(name) > 6:\n",
    "    print(\"Yes\")\n",
    "else:\n",
    "    print(\"No\")"
   ]
  },
  {
   "cell_type": "code",
   "execution_count": null,
   "metadata": {},
   "outputs": [],
   "source": [
    "dna_string = \"ACGTCGTGTC\"\n",
    "\n",
    "if len(dna_string) == 12:\n",
    "    print\n",
    "else:\n",
    "    print"
   ]
  },
  {
   "cell_type": "markdown",
   "metadata": {
    "id": "UbiMAKdDEGcL"
   },
   "source": [
    "### Chained Execution"
   ]
  },
  {
   "cell_type": "code",
   "execution_count": 111,
   "metadata": {
    "id": "qmL0pYWBbPqv"
   },
   "outputs": [],
   "source": [
    "x = 2\n",
    "y = 2\n",
    "z = 3"
   ]
  },
  {
   "cell_type": "code",
   "execution_count": 112,
   "metadata": {
    "colab": {
     "base_uri": "https://localhost:8080/"
    },
    "id": "POF8vinHEBAf",
    "outputId": "ce0d591f-e649-4f7a-8939-489a6e3b8e17"
   },
   "outputs": [
    {
     "name": "stdout",
     "output_type": "stream",
     "text": [
      "That\n"
     ]
    }
   ],
   "source": [
    "if x < y and z < y:\n",
    "    print('This')\n",
    "elif x > y or z > y:\n",
    "    print('That')\n",
    "else:\n",
    "    print('Those')"
   ]
  },
  {
   "cell_type": "code",
   "execution_count": 113,
   "metadata": {},
   "outputs": [
    {
     "name": "stdout",
     "output_type": "stream",
     "text": [
      "This\n"
     ]
    }
   ],
   "source": [
    "x = 3\n",
    "y = 2\n",
    "\n",
    "if x < 4:\n",
    "    print(\"This\")\n",
    "elif y < 3:\n",
    "    print(\"That\")\n",
    "else:\n",
    "    print(\"Those\")"
   ]
  },
  {
   "cell_type": "code",
   "execution_count": null,
   "metadata": {},
   "outputs": [],
   "source": []
  }
 ],
 "metadata": {
  "colab": {
   "collapsed_sections": [],
   "name": "Introduction to Bioinformatics - Session #2",
   "provenance": [],
   "toc_visible": true
  },
  "kernelspec": {
   "display_name": "Python 3",
   "language": "python",
   "name": "python3"
  },
  "language_info": {
   "codemirror_mode": {
    "name": "ipython",
    "version": 3
   },
   "file_extension": ".py",
   "mimetype": "text/x-python",
   "name": "python",
   "nbconvert_exporter": "python",
   "pygments_lexer": "ipython3",
   "version": "3.8.5"
  }
 },
 "nbformat": 4,
 "nbformat_minor": 1
}
