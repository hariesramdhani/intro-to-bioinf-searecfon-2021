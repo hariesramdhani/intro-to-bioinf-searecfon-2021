{
  "nbformat": 4,
  "nbformat_minor": 0,
  "metadata": {
    "colab": {
      "name": "Introduction to Bioinformatics - Session #3.ipynb",
      "provenance": [],
      "collapsed_sections": [],
      "toc_visible": true
    },
    "kernelspec": {
      "name": "python3",
      "display_name": "Python 3"
    },
    "language_info": {
      "name": "python"
    }
  },
  "cells": [
    {
      "cell_type": "markdown",
      "metadata": {
        "id": "0rIVGWWoRDNK"
      },
      "source": [
        "## Dictionary\n",
        "Similar to list dictionary allows us to save our data but using dictionary we can save it using key and values"
      ]
    },
    {
      "cell_type": "code",
      "metadata": {
        "id": "r63aA47yQpSh"
      },
      "source": [
        "gene_names = [\"HSPA6\", \"HSPA2\", \"HSPA1\"]"
      ],
      "execution_count": 136,
      "outputs": []
    },
    {
      "cell_type": "code",
      "metadata": {
        "colab": {
          "base_uri": "https://localhost:8080/",
          "height": 35
        },
        "id": "0RJXS33Y4dHg",
        "outputId": "c97a344c-8977-42b0-b512-389fd85a72f8"
      },
      "source": [
        "gene_names[0]"
      ],
      "execution_count": 138,
      "outputs": [
        {
          "output_type": "execute_result",
          "data": {
            "application/vnd.google.colaboratory.intrinsic+json": {
              "type": "string"
            },
            "text/plain": [
              "'HSPA6'"
            ]
          },
          "metadata": {
            "tags": []
          },
          "execution_count": 138
        }
      ]
    },
    {
      "cell_type": "markdown",
      "metadata": {
        "id": "2E1EBz2puNwV"
      },
      "source": [
        "The key is the left part and the value is the right part"
      ]
    },
    {
      "cell_type": "code",
      "metadata": {
        "id": "pblJ6-uMRgBV"
      },
      "source": [
        "tp53_info_dict = {\n",
        "    \"symbol\": \"TP53\",\n",
        "    \"uniprot_id\": \"P04637\",\n",
        "    \"name\": \"Tumor Protein P53\",\n",
        "    \"ncbi_entrez_gene\": \"NCBI Entrez Gene\"\n",
        "}"
      ],
      "execution_count": 139,
      "outputs": []
    },
    {
      "cell_type": "code",
      "metadata": {
        "id": "zVuPZ0KkSGpx"
      },
      "source": [
        "tp53_info_dict"
      ],
      "execution_count": null,
      "outputs": []
    },
    {
      "cell_type": "markdown",
      "metadata": {
        "id": "pkv8NCi1u5KJ"
      },
      "source": [
        "We can access the value from dictionary by using the key, so for example if we want to access name we can use the square brackets then name"
      ]
    },
    {
      "cell_type": "code",
      "metadata": {
        "colab": {
          "base_uri": "https://localhost:8080/",
          "height": 35
        },
        "id": "Zw72XeDeSLSe",
        "outputId": "4fef79be-2ddd-40f3-adb8-76f6e1133eb4"
      },
      "source": [
        "tp53_info_dict[\"name\"]"
      ],
      "execution_count": 140,
      "outputs": [
        {
          "output_type": "execute_result",
          "data": {
            "application/vnd.google.colaboratory.intrinsic+json": {
              "type": "string"
            },
            "text/plain": [
              "'Tumor Protein P53'"
            ]
          },
          "metadata": {
            "tags": []
          },
          "execution_count": 140
        }
      ]
    },
    {
      "cell_type": "code",
      "metadata": {
        "colab": {
          "base_uri": "https://localhost:8080/",
          "height": 35
        },
        "id": "H_gb41NsSNVX",
        "outputId": "236aa01d-f74c-4a43-e163-9d38c88e85ff"
      },
      "source": [
        "tp53_info_dict[\"symbol\"]"
      ],
      "execution_count": 141,
      "outputs": [
        {
          "output_type": "execute_result",
          "data": {
            "application/vnd.google.colaboratory.intrinsic+json": {
              "type": "string"
            },
            "text/plain": [
              "'TP53'"
            ]
          },
          "metadata": {
            "tags": []
          },
          "execution_count": 141
        }
      ]
    },
    {
      "cell_type": "code",
      "metadata": {
        "colab": {
          "base_uri": "https://localhost:8080/"
        },
        "id": "kqBiJkIxSPkJ",
        "outputId": "881ed753-0cde-4478-c808-a9408974d0eb"
      },
      "source": [
        "print(f\"The gene name is {tp53_info_dict['name']}\")\n",
        "print(f\"The gene symbol is {tp53_info_dict['symbol']}\")"
      ],
      "execution_count": 142,
      "outputs": [
        {
          "output_type": "stream",
          "text": [
            "The gene name is Tumor Protein P53\n",
            "The gene symbol is TP53\n"
          ],
          "name": "stdout"
        }
      ]
    },
    {
      "cell_type": "markdown",
      "metadata": {
        "id": "tnV8vUxevD7o"
      },
      "source": [
        "We can access all of the keys of dictionary using the method keys"
      ]
    },
    {
      "cell_type": "code",
      "metadata": {
        "colab": {
          "base_uri": "https://localhost:8080/"
        },
        "id": "uup4b2FPuWS0",
        "outputId": "8d9eb928-b05e-4ada-f157-496ab8bc47ba"
      },
      "source": [
        "tp53_info_dict.keys()"
      ],
      "execution_count": 143,
      "outputs": [
        {
          "output_type": "execute_result",
          "data": {
            "text/plain": [
              "dict_keys(['symbol', 'uniprot_id', 'name', 'ncbi_entrez_gene'])"
            ]
          },
          "metadata": {
            "tags": []
          },
          "execution_count": 143
        }
      ]
    },
    {
      "cell_type": "markdown",
      "metadata": {
        "id": "LO4nc92avG7A"
      },
      "source": [
        "We can also access all of the values of dictionary using the method values"
      ]
    },
    {
      "cell_type": "code",
      "metadata": {
        "colab": {
          "base_uri": "https://localhost:8080/"
        },
        "id": "izCXJHS4uT74",
        "outputId": "e127665b-ec1e-4a3f-c58f-6f512adb545b"
      },
      "source": [
        "tp53_info_dict.values()"
      ],
      "execution_count": 144,
      "outputs": [
        {
          "output_type": "execute_result",
          "data": {
            "text/plain": [
              "dict_values(['TP53', 'P04637', 'Tumor Protein P53', 'NCBI Entrez Gene'])"
            ]
          },
          "metadata": {
            "tags": []
          },
          "execution_count": 144
        }
      ]
    },
    {
      "cell_type": "code",
      "metadata": {
        "id": "9lL05W1gRL3k"
      },
      "source": [
        "sample_dict = {\n",
        "    \"healthy\": [0.2, 0.3, 0.5, 0.1],\n",
        "    \"diseased\": [0.02, 0.03, 0.24, 0.7]\n",
        "}"
      ],
      "execution_count": null,
      "outputs": []
    },
    {
      "cell_type": "code",
      "metadata": {
        "colab": {
          "base_uri": "https://localhost:8080/"
        },
        "id": "rFtRDyuPRbR2",
        "outputId": "2891b14c-2306-456e-9d4a-70348fd59f0a"
      },
      "source": [
        "sample_dict[\"healthy\"][1:]"
      ],
      "execution_count": 148,
      "outputs": [
        {
          "output_type": "execute_result",
          "data": {
            "text/plain": [
              "[0.3, 0.5, 0.1]"
            ]
          },
          "metadata": {
            "tags": []
          },
          "execution_count": 148
        }
      ]
    },
    {
      "cell_type": "code",
      "metadata": {
        "colab": {
          "base_uri": "https://localhost:8080/"
        },
        "id": "KwcXaGrORd0X",
        "outputId": "97036a4b-f561-4689-cdf0-4472e573c623"
      },
      "source": [
        "sample_dict[\"diseased\"][2]"
      ],
      "execution_count": 147,
      "outputs": [
        {
          "output_type": "execute_result",
          "data": {
            "text/plain": [
              "0.24"
            ]
          },
          "metadata": {
            "tags": []
          },
          "execution_count": 147
        }
      ]
    },
    {
      "cell_type": "markdown",
      "metadata": {
        "id": "7v2ztJ5VP0jk"
      },
      "source": [
        "## Library Imports\n",
        "Most of the time we will be using library when we're doing data analysis"
      ]
    },
    {
      "cell_type": "code",
      "metadata": {
        "id": "DtyLWKOHJzWf"
      },
      "source": [
        "import pandas as pd # For data analysis\n",
        "import numpy as np # For numerical processing\n",
        "import matplotlib.pyplot as plt # For visualization\n",
        "import seaborn as sns # Fore prettier visualization"
      ],
      "execution_count": null,
      "outputs": []
    },
    {
      "cell_type": "markdown",
      "metadata": {
        "id": "JBGIXSUBUIQB"
      },
      "source": [
        "## Series\n",
        "Is the main building block of data frame"
      ]
    },
    {
      "cell_type": "code",
      "metadata": {
        "id": "2XSIrk5PPysA"
      },
      "source": [
        "s = pd.Series([\"HSPA6\", \"HSPA2\", \"HSPA1\", \"TP53\", \"WNT1\"])"
      ],
      "execution_count": 149,
      "outputs": []
    },
    {
      "cell_type": "code",
      "metadata": {
        "id": "efMcGo-J7QT4"
      },
      "source": [
        "a = [\"HSPA6\", \"HSPA2\", \"HSPA1\", \"TP53\", \"WNT1\"]"
      ],
      "execution_count": 152,
      "outputs": []
    },
    {
      "cell_type": "code",
      "metadata": {
        "colab": {
          "base_uri": "https://localhost:8080/"
        },
        "id": "johYYvxe7Rq0",
        "outputId": "fb2d2d4c-07cc-4a97-a170-73d0076b2c39"
      },
      "source": [
        "a"
      ],
      "execution_count": 153,
      "outputs": [
        {
          "output_type": "execute_result",
          "data": {
            "text/plain": [
              "['HSPA6', 'HSPA2', 'HSPA1', 'TP53', 'WNT1']"
            ]
          },
          "metadata": {
            "tags": []
          },
          "execution_count": 153
        }
      ]
    },
    {
      "cell_type": "code",
      "metadata": {
        "colab": {
          "base_uri": "https://localhost:8080/"
        },
        "id": "tE1_TCwrQfce",
        "outputId": "f8c20d14-e5e1-4bb1-ab76-4d17e92f378e"
      },
      "source": [
        "s"
      ],
      "execution_count": 150,
      "outputs": [
        {
          "output_type": "execute_result",
          "data": {
            "text/plain": [
              "0    HSPA6\n",
              "1    HSPA2\n",
              "2    HSPA1\n",
              "3     TP53\n",
              "4     WNT1\n",
              "dtype: object"
            ]
          },
          "metadata": {
            "tags": []
          },
          "execution_count": 150
        }
      ]
    },
    {
      "cell_type": "code",
      "metadata": {
        "colab": {
          "base_uri": "https://localhost:8080/"
        },
        "id": "Fb2c2ToZTX8E",
        "outputId": "fbbb7fa2-b26b-4d81-da4a-523eab7c0aa4"
      },
      "source": [
        "s.index"
      ],
      "execution_count": 151,
      "outputs": [
        {
          "output_type": "execute_result",
          "data": {
            "text/plain": [
              "RangeIndex(start=0, stop=5, step=1)"
            ]
          },
          "metadata": {
            "tags": []
          },
          "execution_count": 151
        }
      ]
    },
    {
      "cell_type": "markdown",
      "metadata": {
        "id": "S8yAGBMsvYkb"
      },
      "source": [
        "The difference between series and list is the fact that we can also specify the name of the series index"
      ]
    },
    {
      "cell_type": "code",
      "metadata": {
        "colab": {
          "base_uri": "https://localhost:8080/"
        },
        "id": "E8LDRUzKTarL",
        "outputId": "536e9db4-8dec-47d1-95b8-f9a34532116b"
      },
      "source": [
        "gene_series = pd.Series([\"HSPA6\", \"HSPA2\", \"HSPA1\", \"TP53\", \"WNT1\"], index=['a', 'b', 'c', 'd', 'e'])\n",
        "gene_series"
      ],
      "execution_count": 154,
      "outputs": [
        {
          "output_type": "execute_result",
          "data": {
            "text/plain": [
              "a    HSPA6\n",
              "b    HSPA2\n",
              "c    HSPA1\n",
              "d     TP53\n",
              "e     WNT1\n",
              "dtype: object"
            ]
          },
          "metadata": {
            "tags": []
          },
          "execution_count": 154
        }
      ]
    },
    {
      "cell_type": "code",
      "metadata": {
        "colab": {
          "base_uri": "https://localhost:8080/",
          "height": 35
        },
        "id": "C61sWPdzvd94",
        "outputId": "3266badc-faed-4f56-a340-f03ab3df4ebf"
      },
      "source": [
        "gene_series[\"d\"]"
      ],
      "execution_count": 159,
      "outputs": [
        {
          "output_type": "execute_result",
          "data": {
            "application/vnd.google.colaboratory.intrinsic+json": {
              "type": "string"
            },
            "text/plain": [
              "'TP53'"
            ]
          },
          "metadata": {
            "tags": []
          },
          "execution_count": 159
        }
      ]
    },
    {
      "cell_type": "markdown",
      "metadata": {
        "id": "NueUG680vh4T"
      },
      "source": [
        "Multiplication and addition can also be done directly in series"
      ]
    },
    {
      "cell_type": "code",
      "metadata": {
        "id": "CWB_fEecTkYo"
      },
      "source": [
        "series_of_number = pd.Series([0.3, 0.2, 0.7, 0.8, 0.1])"
      ],
      "execution_count": 155,
      "outputs": []
    },
    {
      "cell_type": "code",
      "metadata": {
        "colab": {
          "base_uri": "https://localhost:8080/"
        },
        "id": "Pne_BEL6Tthy",
        "outputId": "7d00ee9f-7211-4f3e-90bb-f03727b0e0dc"
      },
      "source": [
        "series_of_number * 5"
      ],
      "execution_count": 156,
      "outputs": [
        {
          "output_type": "execute_result",
          "data": {
            "text/plain": [
              "0    1.5\n",
              "1    1.0\n",
              "2    3.5\n",
              "3    4.0\n",
              "4    0.5\n",
              "dtype: float64"
            ]
          },
          "metadata": {
            "tags": []
          },
          "execution_count": 156
        }
      ]
    },
    {
      "cell_type": "code",
      "metadata": {
        "id": "zyHRT0PZT0d3"
      },
      "source": [
        "list_of_number = [0.3, 0.2, 0.7, 0.8, 0.1]"
      ],
      "execution_count": 157,
      "outputs": []
    },
    {
      "cell_type": "code",
      "metadata": {
        "colab": {
          "base_uri": "https://localhost:8080/"
        },
        "id": "kd2zRWQiT4LQ",
        "outputId": "c70093e7-f513-420c-8a67-08f3c6f807ff"
      },
      "source": [
        "list_of_number * 5"
      ],
      "execution_count": 158,
      "outputs": [
        {
          "output_type": "execute_result",
          "data": {
            "text/plain": [
              "[0.3,\n",
              " 0.2,\n",
              " 0.7,\n",
              " 0.8,\n",
              " 0.1,\n",
              " 0.3,\n",
              " 0.2,\n",
              " 0.7,\n",
              " 0.8,\n",
              " 0.1,\n",
              " 0.3,\n",
              " 0.2,\n",
              " 0.7,\n",
              " 0.8,\n",
              " 0.1,\n",
              " 0.3,\n",
              " 0.2,\n",
              " 0.7,\n",
              " 0.8,\n",
              " 0.1,\n",
              " 0.3,\n",
              " 0.2,\n",
              " 0.7,\n",
              " 0.8,\n",
              " 0.1]"
            ]
          },
          "metadata": {
            "tags": []
          },
          "execution_count": 158
        }
      ]
    },
    {
      "cell_type": "code",
      "metadata": {
        "colab": {
          "base_uri": "https://localhost:8080/"
        },
        "id": "1zZT6HnJTyOd",
        "outputId": "ebafaa15-5e58-4195-dca1-60ece43d9f61"
      },
      "source": [
        "series_of_number + 5"
      ],
      "execution_count": 165,
      "outputs": [
        {
          "output_type": "execute_result",
          "data": {
            "text/plain": [
              "0    5.3\n",
              "1    5.2\n",
              "2    5.7\n",
              "3    5.8\n",
              "4    5.1\n",
              "dtype: float64"
            ]
          },
          "metadata": {
            "tags": []
          },
          "execution_count": 165
        }
      ]
    },
    {
      "cell_type": "code",
      "metadata": {
        "colab": {
          "base_uri": "https://localhost:8080/"
        },
        "id": "LJQVc1Oivsyp",
        "outputId": "dd1a80d5-06a3-46c5-e730-05e26b70d591"
      },
      "source": [
        "gene_series * 5"
      ],
      "execution_count": 162,
      "outputs": [
        {
          "output_type": "execute_result",
          "data": {
            "text/plain": [
              "a    HSPA6HSPA6HSPA6HSPA6HSPA6\n",
              "b    HSPA2HSPA2HSPA2HSPA2HSPA2\n",
              "c    HSPA1HSPA1HSPA1HSPA1HSPA1\n",
              "d         TP53TP53TP53TP53TP53\n",
              "e         WNT1WNT1WNT1WNT1WNT1\n",
              "dtype: object"
            ]
          },
          "metadata": {
            "tags": []
          },
          "execution_count": 162
        }
      ]
    },
    {
      "cell_type": "code",
      "metadata": {
        "colab": {
          "base_uri": "https://localhost:8080/"
        },
        "id": "8BLHWbpQ8DF3",
        "outputId": "c91f2268-9194-48fb-d4fd-631bce820d56"
      },
      "source": [
        "list_of_number"
      ],
      "execution_count": 164,
      "outputs": [
        {
          "output_type": "execute_result",
          "data": {
            "text/plain": [
              "[0.3, 0.2, 0.7, 0.8, 0.1]"
            ]
          },
          "metadata": {
            "tags": []
          },
          "execution_count": 164
        }
      ]
    },
    {
      "cell_type": "code",
      "metadata": {
        "colab": {
          "base_uri": "https://localhost:8080/",
          "height": 164
        },
        "id": "k4WekRGnT8YO",
        "outputId": "3903a3c5-5bef-4846-d4ae-477f404e0a24"
      },
      "source": [
        "list_of_number + 5"
      ],
      "execution_count": 163,
      "outputs": [
        {
          "output_type": "error",
          "ename": "TypeError",
          "evalue": "ignored",
          "traceback": [
            "\u001b[0;31m---------------------------------------------------------------------------\u001b[0m",
            "\u001b[0;31mTypeError\u001b[0m                                 Traceback (most recent call last)",
            "\u001b[0;32m<ipython-input-163-3f25d9028df6>\u001b[0m in \u001b[0;36m<module>\u001b[0;34m()\u001b[0m\n\u001b[0;32m----> 1\u001b[0;31m \u001b[0mlist_of_number\u001b[0m \u001b[0;34m+\u001b[0m \u001b[0;36m5\u001b[0m\u001b[0;34m\u001b[0m\u001b[0;34m\u001b[0m\u001b[0m\n\u001b[0m",
            "\u001b[0;31mTypeError\u001b[0m: can only concatenate list (not \"int\") to list"
          ]
        }
      ]
    },
    {
      "cell_type": "markdown",
      "metadata": {
        "id": "1QkauxiAUPCV"
      },
      "source": [
        "## Data Frame\n",
        "Dataframe is what we called the tabular data, they look like the data from Excel and they're made of dictionary of lists"
      ]
    },
    {
      "cell_type": "code",
      "metadata": {
        "id": "KamuGQXSUsqa"
      },
      "source": [
        "gene_data = {\n",
        "            'gene_names' : ['HSPA6', 'G0S2', 'HSPA1A'],\n",
        "            'ensemble_id' : ['ENSG00000173110.6', 'ENSG00000123689.5', 'ENSG00000204389.7'],\n",
        "            'pvalue' : [1.765574e-14, 1.765574e-14, 4.455545e-11]\n",
        "          }"
      ],
      "execution_count": 171,
      "outputs": []
    },
    {
      "cell_type": "code",
      "metadata": {
        "id": "anSdZcC9VbaD"
      },
      "source": [
        "gene_df = pd.DataFrame(gene_data)"
      ],
      "execution_count": 172,
      "outputs": []
    },
    {
      "cell_type": "code",
      "metadata": {
        "colab": {
          "base_uri": "https://localhost:8080/",
          "height": 142
        },
        "id": "Kk0hkOIbVgS7",
        "outputId": "98de33d6-6d89-4129-82c7-d940291ea533"
      },
      "source": [
        "gene_df"
      ],
      "execution_count": 168,
      "outputs": [
        {
          "output_type": "execute_result",
          "data": {
            "text/html": [
              "<div>\n",
              "<style scoped>\n",
              "    .dataframe tbody tr th:only-of-type {\n",
              "        vertical-align: middle;\n",
              "    }\n",
              "\n",
              "    .dataframe tbody tr th {\n",
              "        vertical-align: top;\n",
              "    }\n",
              "\n",
              "    .dataframe thead th {\n",
              "        text-align: right;\n",
              "    }\n",
              "</style>\n",
              "<table border=\"1\" class=\"dataframe\">\n",
              "  <thead>\n",
              "    <tr style=\"text-align: right;\">\n",
              "      <th></th>\n",
              "      <th>gene_names</th>\n",
              "      <th>ensemble_id</th>\n",
              "      <th>pvalue</th>\n",
              "    </tr>\n",
              "  </thead>\n",
              "  <tbody>\n",
              "    <tr>\n",
              "      <th>0</th>\n",
              "      <td>HSPA6</td>\n",
              "      <td>ENSG00000173110.6</td>\n",
              "      <td>1.765574e-14</td>\n",
              "    </tr>\n",
              "    <tr>\n",
              "      <th>1</th>\n",
              "      <td>G0S2</td>\n",
              "      <td>ENSG00000123689.5</td>\n",
              "      <td>1.765574e-14</td>\n",
              "    </tr>\n",
              "    <tr>\n",
              "      <th>2</th>\n",
              "      <td>HSPA1A</td>\n",
              "      <td>ENSG00000204389.7</td>\n",
              "      <td>4.455545e-11</td>\n",
              "    </tr>\n",
              "  </tbody>\n",
              "</table>\n",
              "</div>"
            ],
            "text/plain": [
              "  gene_names        ensemble_id        pvalue\n",
              "0      HSPA6  ENSG00000173110.6  1.765574e-14\n",
              "1       G0S2  ENSG00000123689.5  1.765574e-14\n",
              "2     HSPA1A  ENSG00000204389.7  4.455545e-11"
            ]
          },
          "metadata": {
            "tags": []
          },
          "execution_count": 168
        }
      ]
    },
    {
      "cell_type": "markdown",
      "metadata": {
        "id": "ANtCo8v5v8We"
      },
      "source": [
        "If we only retrieve it with one square bracket then only series will be returned"
      ]
    },
    {
      "cell_type": "code",
      "metadata": {
        "colab": {
          "base_uri": "https://localhost:8080/"
        },
        "id": "XlVioonRVrgx",
        "outputId": "961fa59e-5201-4b64-c13e-4609dcd81731"
      },
      "source": [
        "gene_df[\"gene_names\"]"
      ],
      "execution_count": 173,
      "outputs": [
        {
          "output_type": "execute_result",
          "data": {
            "text/plain": [
              "0     HSPA6\n",
              "1      G0S2\n",
              "2    HSPA1A\n",
              "Name: gene_names, dtype: object"
            ]
          },
          "metadata": {
            "tags": []
          },
          "execution_count": 173
        }
      ]
    },
    {
      "cell_type": "markdown",
      "metadata": {
        "id": "wy_mU5w-wF0s"
      },
      "source": [
        "if we retrieve it using two square bracket then it's a dataframe"
      ]
    },
    {
      "cell_type": "code",
      "metadata": {
        "colab": {
          "base_uri": "https://localhost:8080/",
          "height": 142
        },
        "id": "8k6B3SZiVuYA",
        "outputId": "f8ac28b1-ef0a-4d59-a7b3-31913612a96b"
      },
      "source": [
        "gene_df[[\"gene_names\"]]"
      ],
      "execution_count": 174,
      "outputs": [
        {
          "output_type": "execute_result",
          "data": {
            "text/html": [
              "<div>\n",
              "<style scoped>\n",
              "    .dataframe tbody tr th:only-of-type {\n",
              "        vertical-align: middle;\n",
              "    }\n",
              "\n",
              "    .dataframe tbody tr th {\n",
              "        vertical-align: top;\n",
              "    }\n",
              "\n",
              "    .dataframe thead th {\n",
              "        text-align: right;\n",
              "    }\n",
              "</style>\n",
              "<table border=\"1\" class=\"dataframe\">\n",
              "  <thead>\n",
              "    <tr style=\"text-align: right;\">\n",
              "      <th></th>\n",
              "      <th>gene_names</th>\n",
              "    </tr>\n",
              "  </thead>\n",
              "  <tbody>\n",
              "    <tr>\n",
              "      <th>0</th>\n",
              "      <td>HSPA6</td>\n",
              "    </tr>\n",
              "    <tr>\n",
              "      <th>1</th>\n",
              "      <td>G0S2</td>\n",
              "    </tr>\n",
              "    <tr>\n",
              "      <th>2</th>\n",
              "      <td>HSPA1A</td>\n",
              "    </tr>\n",
              "  </tbody>\n",
              "</table>\n",
              "</div>"
            ],
            "text/plain": [
              "  gene_names\n",
              "0      HSPA6\n",
              "1       G0S2\n",
              "2     HSPA1A"
            ]
          },
          "metadata": {
            "tags": []
          },
          "execution_count": 174
        }
      ]
    },
    {
      "cell_type": "markdown",
      "metadata": {
        "id": "EsabGmsqwKRe"
      },
      "source": [
        "we can access two columns at the same time"
      ]
    },
    {
      "cell_type": "code",
      "metadata": {
        "colab": {
          "base_uri": "https://localhost:8080/",
          "height": 142
        },
        "id": "Dk8eZu8_Vwkn",
        "outputId": "0b3eb99b-db49-4d21-9fff-33205a94a934"
      },
      "source": [
        "gene_df[[\"gene_names\", \"pvalue\"]]"
      ],
      "execution_count": 175,
      "outputs": [
        {
          "output_type": "execute_result",
          "data": {
            "text/html": [
              "<div>\n",
              "<style scoped>\n",
              "    .dataframe tbody tr th:only-of-type {\n",
              "        vertical-align: middle;\n",
              "    }\n",
              "\n",
              "    .dataframe tbody tr th {\n",
              "        vertical-align: top;\n",
              "    }\n",
              "\n",
              "    .dataframe thead th {\n",
              "        text-align: right;\n",
              "    }\n",
              "</style>\n",
              "<table border=\"1\" class=\"dataframe\">\n",
              "  <thead>\n",
              "    <tr style=\"text-align: right;\">\n",
              "      <th></th>\n",
              "      <th>gene_names</th>\n",
              "      <th>pvalue</th>\n",
              "    </tr>\n",
              "  </thead>\n",
              "  <tbody>\n",
              "    <tr>\n",
              "      <th>0</th>\n",
              "      <td>HSPA6</td>\n",
              "      <td>1.765574e-14</td>\n",
              "    </tr>\n",
              "    <tr>\n",
              "      <th>1</th>\n",
              "      <td>G0S2</td>\n",
              "      <td>1.765574e-14</td>\n",
              "    </tr>\n",
              "    <tr>\n",
              "      <th>2</th>\n",
              "      <td>HSPA1A</td>\n",
              "      <td>4.455545e-11</td>\n",
              "    </tr>\n",
              "  </tbody>\n",
              "</table>\n",
              "</div>"
            ],
            "text/plain": [
              "  gene_names        pvalue\n",
              "0      HSPA6  1.765574e-14\n",
              "1       G0S2  1.765574e-14\n",
              "2     HSPA1A  4.455545e-11"
            ]
          },
          "metadata": {
            "tags": []
          },
          "execution_count": 175
        }
      ]
    },
    {
      "cell_type": "markdown",
      "metadata": {
        "id": "vg9OXbLZwMx2"
      },
      "source": [
        "Majority of the time the data that you will be using is the data that is already there and you don't have to write it for your self"
      ]
    },
    {
      "cell_type": "code",
      "metadata": {
        "id": "mBmZ0JIfOwaP"
      },
      "source": [
        "parkinson_df = pd.read_csv(\"parkinson_de_data.tsv\", sep=\"\\t\", d)"
      ],
      "execution_count": 178,
      "outputs": []
    },
    {
      "cell_type": "markdown",
      "metadata": {
        "id": "pdlVEardwS_W"
      },
      "source": [
        "We can use head to preview the first 5 of the data"
      ]
    },
    {
      "cell_type": "code",
      "metadata": {
        "colab": {
          "base_uri": "https://localhost:8080/",
          "height": 359
        },
        "id": "trx_KioYU4-B",
        "outputId": "6459d57e-3c34-4d9e-9d7c-579fc5b0abf4"
      },
      "source": [
        "parkinson_df.head(10)"
      ],
      "execution_count": 181,
      "outputs": [
        {
          "output_type": "execute_result",
          "data": {
            "text/html": [
              "<div>\n",
              "<style scoped>\n",
              "    .dataframe tbody tr th:only-of-type {\n",
              "        vertical-align: middle;\n",
              "    }\n",
              "\n",
              "    .dataframe tbody tr th {\n",
              "        vertical-align: top;\n",
              "    }\n",
              "\n",
              "    .dataframe thead th {\n",
              "        text-align: right;\n",
              "    }\n",
              "</style>\n",
              "<table border=\"1\" class=\"dataframe\">\n",
              "  <thead>\n",
              "    <tr style=\"text-align: right;\">\n",
              "      <th></th>\n",
              "      <th>EnsemblID</th>\n",
              "      <th>symbol</th>\n",
              "      <th>log2FoldChange</th>\n",
              "      <th>pvalue</th>\n",
              "      <th>padj</th>\n",
              "    </tr>\n",
              "  </thead>\n",
              "  <tbody>\n",
              "    <tr>\n",
              "      <th>0</th>\n",
              "      <td>ENSG00000173110.6</td>\n",
              "      <td>HSPA6</td>\n",
              "      <td>1.831929</td>\n",
              "      <td>1.765574e-14</td>\n",
              "      <td>3.103879e-10</td>\n",
              "    </tr>\n",
              "    <tr>\n",
              "      <th>1</th>\n",
              "      <td>ENSG00000123689.5</td>\n",
              "      <td>G0S2</td>\n",
              "      <td>1.506402</td>\n",
              "      <td>1.010386e-11</td>\n",
              "      <td>8.881295e-08</td>\n",
              "    </tr>\n",
              "    <tr>\n",
              "      <th>2</th>\n",
              "      <td>ENSG00000204389.7</td>\n",
              "      <td>HSPA1A</td>\n",
              "      <td>1.492569</td>\n",
              "      <td>4.455545e-11</td>\n",
              "      <td>2.610949e-07</td>\n",
              "    </tr>\n",
              "    <tr>\n",
              "      <th>3</th>\n",
              "      <td>ENSG00000106211.8</td>\n",
              "      <td>HSPB1</td>\n",
              "      <td>1.296490</td>\n",
              "      <td>3.189502e-10</td>\n",
              "      <td>1.401786e-06</td>\n",
              "    </tr>\n",
              "    <tr>\n",
              "      <th>4</th>\n",
              "      <td>ENSG00000137731.8</td>\n",
              "      <td>FXYD2</td>\n",
              "      <td>0.979849</td>\n",
              "      <td>1.237955e-09</td>\n",
              "      <td>3.627207e-06</td>\n",
              "    </tr>\n",
              "    <tr>\n",
              "      <th>5</th>\n",
              "      <td>ENSG00000152049.5</td>\n",
              "      <td>KCNE4</td>\n",
              "      <td>1.309400</td>\n",
              "      <td>1.200451e-09</td>\n",
              "      <td>3.627207e-06</td>\n",
              "    </tr>\n",
              "    <tr>\n",
              "      <th>6</th>\n",
              "      <td>ENSG00000111181.8</td>\n",
              "      <td>SLC6A12</td>\n",
              "      <td>0.745494</td>\n",
              "      <td>2.862677e-09</td>\n",
              "      <td>6.504691e-06</td>\n",
              "    </tr>\n",
              "    <tr>\n",
              "      <th>7</th>\n",
              "      <td>ENSG00000204388.5</td>\n",
              "      <td>HSPA1B</td>\n",
              "      <td>1.285557</td>\n",
              "      <td>2.960042e-09</td>\n",
              "      <td>6.504691e-06</td>\n",
              "    </tr>\n",
              "    <tr>\n",
              "      <th>8</th>\n",
              "      <td>ENSG00000149257.9</td>\n",
              "      <td>SERPINH1</td>\n",
              "      <td>1.291634</td>\n",
              "      <td>3.901282e-09</td>\n",
              "      <td>7.620505e-06</td>\n",
              "    </tr>\n",
              "    <tr>\n",
              "      <th>9</th>\n",
              "      <td>ENSG00000132002.3</td>\n",
              "      <td>DNAJB1</td>\n",
              "      <td>1.211367</td>\n",
              "      <td>5.536142e-09</td>\n",
              "      <td>9.732537e-06</td>\n",
              "    </tr>\n",
              "  </tbody>\n",
              "</table>\n",
              "</div>"
            ],
            "text/plain": [
              "           EnsemblID    symbol  log2FoldChange        pvalue          padj\n",
              "0  ENSG00000173110.6     HSPA6        1.831929  1.765574e-14  3.103879e-10\n",
              "1  ENSG00000123689.5      G0S2        1.506402  1.010386e-11  8.881295e-08\n",
              "2  ENSG00000204389.7    HSPA1A        1.492569  4.455545e-11  2.610949e-07\n",
              "3  ENSG00000106211.8     HSPB1        1.296490  3.189502e-10  1.401786e-06\n",
              "4  ENSG00000137731.8     FXYD2        0.979849  1.237955e-09  3.627207e-06\n",
              "5  ENSG00000152049.5     KCNE4        1.309400  1.200451e-09  3.627207e-06\n",
              "6  ENSG00000111181.8   SLC6A12        0.745494  2.862677e-09  6.504691e-06\n",
              "7  ENSG00000204388.5    HSPA1B        1.285557  2.960042e-09  6.504691e-06\n",
              "8  ENSG00000149257.9  SERPINH1        1.291634  3.901282e-09  7.620505e-06\n",
              "9  ENSG00000132002.3    DNAJB1        1.211367  5.536142e-09  9.732537e-06"
            ]
          },
          "metadata": {
            "tags": []
          },
          "execution_count": 181
        }
      ]
    },
    {
      "cell_type": "code",
      "metadata": {
        "colab": {
          "base_uri": "https://localhost:8080/",
          "height": 359
        },
        "id": "PcXaXL2qhwAM",
        "outputId": "641ab4c0-ed8d-42fd-dd21-ecf72cfe534d"
      },
      "source": [
        "parkinson_df.tail(10)"
      ],
      "execution_count": 183,
      "outputs": [
        {
          "output_type": "execute_result",
          "data": {
            "text/html": [
              "<div>\n",
              "<style scoped>\n",
              "    .dataframe tbody tr th:only-of-type {\n",
              "        vertical-align: middle;\n",
              "    }\n",
              "\n",
              "    .dataframe tbody tr th {\n",
              "        vertical-align: top;\n",
              "    }\n",
              "\n",
              "    .dataframe thead th {\n",
              "        text-align: right;\n",
              "    }\n",
              "</style>\n",
              "<table border=\"1\" class=\"dataframe\">\n",
              "  <thead>\n",
              "    <tr style=\"text-align: right;\">\n",
              "      <th></th>\n",
              "      <th>EnsemblID</th>\n",
              "      <th>symbol</th>\n",
              "      <th>log2FoldChange</th>\n",
              "      <th>pvalue</th>\n",
              "      <th>padj</th>\n",
              "    </tr>\n",
              "  </thead>\n",
              "  <tbody>\n",
              "    <tr>\n",
              "      <th>17570</th>\n",
              "      <td>ENSG00000177225.12</td>\n",
              "      <td>PDDC1</td>\n",
              "      <td>-0.000058</td>\n",
              "      <td>0.999147</td>\n",
              "      <td>0.999660</td>\n",
              "    </tr>\n",
              "    <tr>\n",
              "      <th>17571</th>\n",
              "      <td>ENSG00000172992.7</td>\n",
              "      <td>DCAKD</td>\n",
              "      <td>0.000062</td>\n",
              "      <td>0.999309</td>\n",
              "      <td>0.999707</td>\n",
              "    </tr>\n",
              "    <tr>\n",
              "      <th>17572</th>\n",
              "      <td>ENSG00000185304.12</td>\n",
              "      <td>RGPD2</td>\n",
              "      <td>-0.000216</td>\n",
              "      <td>0.999254</td>\n",
              "      <td>0.999707</td>\n",
              "    </tr>\n",
              "    <tr>\n",
              "      <th>17573</th>\n",
              "      <td>ENSG00000101412.9</td>\n",
              "      <td>E2F1</td>\n",
              "      <td>-0.000067</td>\n",
              "      <td>0.999562</td>\n",
              "      <td>0.999733</td>\n",
              "    </tr>\n",
              "    <tr>\n",
              "      <th>17574</th>\n",
              "      <td>ENSG00000159079.14</td>\n",
              "      <td>C21orf59</td>\n",
              "      <td>0.000046</td>\n",
              "      <td>0.999545</td>\n",
              "      <td>0.999733</td>\n",
              "    </tr>\n",
              "    <tr>\n",
              "      <th>17575</th>\n",
              "      <td>ENSG00000205639.5</td>\n",
              "      <td>MFSD2B</td>\n",
              "      <td>-0.000115</td>\n",
              "      <td>0.999546</td>\n",
              "      <td>0.999733</td>\n",
              "    </tr>\n",
              "    <tr>\n",
              "      <th>17576</th>\n",
              "      <td>ENSG00000259207.3</td>\n",
              "      <td>ITGB3</td>\n",
              "      <td>-0.000162</td>\n",
              "      <td>0.999459</td>\n",
              "      <td>0.999733</td>\n",
              "    </tr>\n",
              "    <tr>\n",
              "      <th>17577</th>\n",
              "      <td>ENSG00000132801.5</td>\n",
              "      <td>ZSWIM3</td>\n",
              "      <td>-0.000031</td>\n",
              "      <td>0.999692</td>\n",
              "      <td>0.999806</td>\n",
              "    </tr>\n",
              "    <tr>\n",
              "      <th>17578</th>\n",
              "      <td>ENSG00000198712.1</td>\n",
              "      <td>MT-CO2</td>\n",
              "      <td>-0.000014</td>\n",
              "      <td>0.999926</td>\n",
              "      <td>0.999983</td>\n",
              "    </tr>\n",
              "    <tr>\n",
              "      <th>17579</th>\n",
              "      <td>ENSG00000100354.15</td>\n",
              "      <td>TNRC6B</td>\n",
              "      <td>0.000001</td>\n",
              "      <td>0.999987</td>\n",
              "      <td>0.999987</td>\n",
              "    </tr>\n",
              "  </tbody>\n",
              "</table>\n",
              "</div>"
            ],
            "text/plain": [
              "                EnsemblID    symbol  log2FoldChange    pvalue      padj\n",
              "17570  ENSG00000177225.12     PDDC1       -0.000058  0.999147  0.999660\n",
              "17571   ENSG00000172992.7     DCAKD        0.000062  0.999309  0.999707\n",
              "17572  ENSG00000185304.12     RGPD2       -0.000216  0.999254  0.999707\n",
              "17573   ENSG00000101412.9      E2F1       -0.000067  0.999562  0.999733\n",
              "17574  ENSG00000159079.14  C21orf59        0.000046  0.999545  0.999733\n",
              "17575   ENSG00000205639.5    MFSD2B       -0.000115  0.999546  0.999733\n",
              "17576   ENSG00000259207.3     ITGB3       -0.000162  0.999459  0.999733\n",
              "17577   ENSG00000132801.5    ZSWIM3       -0.000031  0.999692  0.999806\n",
              "17578   ENSG00000198712.1    MT-CO2       -0.000014  0.999926  0.999983\n",
              "17579  ENSG00000100354.15    TNRC6B        0.000001  0.999987  0.999987"
            ]
          },
          "metadata": {
            "tags": []
          },
          "execution_count": 183
        }
      ]
    },
    {
      "cell_type": "markdown",
      "metadata": {
        "id": "wiRPqz8MwVvh"
      },
      "source": [
        "We can use shape to see the size of the data"
      ]
    },
    {
      "cell_type": "code",
      "metadata": {
        "colab": {
          "base_uri": "https://localhost:8080/"
        },
        "id": "J9gtbVRdO0Ps",
        "outputId": "d7dda45c-a3d5-4c94-e098-fd61a931f7c7"
      },
      "source": [
        "parkinson_df.shape"
      ],
      "execution_count": 184,
      "outputs": [
        {
          "output_type": "execute_result",
          "data": {
            "text/plain": [
              "(17580, 5)"
            ]
          },
          "metadata": {
            "tags": []
          },
          "execution_count": 184
        }
      ]
    },
    {
      "cell_type": "code",
      "metadata": {
        "colab": {
          "base_uri": "https://localhost:8080/"
        },
        "id": "cpQ6j9-MoFAq",
        "outputId": "5c62eaa3-72db-4b88-a6c2-e0acb46a0503"
      },
      "source": [
        "parkinson_df.info()"
      ],
      "execution_count": 185,
      "outputs": [
        {
          "output_type": "stream",
          "text": [
            "<class 'pandas.core.frame.DataFrame'>\n",
            "RangeIndex: 17580 entries, 0 to 17579\n",
            "Data columns (total 5 columns):\n",
            " #   Column          Non-Null Count  Dtype  \n",
            "---  ------          --------------  -----  \n",
            " 0   EnsemblID       17580 non-null  object \n",
            " 1   symbol          17580 non-null  object \n",
            " 2   log2FoldChange  17580 non-null  float64\n",
            " 3   pvalue          17580 non-null  float64\n",
            " 4   padj            17580 non-null  float64\n",
            "dtypes: float64(3), object(2)\n",
            "memory usage: 686.8+ KB\n"
          ],
          "name": "stdout"
        }
      ]
    },
    {
      "cell_type": "markdown",
      "metadata": {
        "id": "87NkkgAtwawV"
      },
      "source": [
        "We can use the dtypes method to see the data types"
      ]
    },
    {
      "cell_type": "code",
      "metadata": {
        "colab": {
          "base_uri": "https://localhost:8080/"
        },
        "id": "aGqY0obfPIjg",
        "outputId": "e71673cb-db63-4358-c000-a20682e74259"
      },
      "source": [
        "parkinson_df.dtypes"
      ],
      "execution_count": 186,
      "outputs": [
        {
          "output_type": "execute_result",
          "data": {
            "text/plain": [
              "EnsemblID          object\n",
              "symbol             object\n",
              "log2FoldChange    float64\n",
              "pvalue            float64\n",
              "padj              float64\n",
              "dtype: object"
            ]
          },
          "metadata": {
            "tags": []
          },
          "execution_count": 186
        }
      ]
    },
    {
      "cell_type": "code",
      "metadata": {
        "colab": {
          "base_uri": "https://localhost:8080/",
          "height": 297
        },
        "id": "DX9GE8EZ-31w",
        "outputId": "126c3ec5-ec04-4a31-91c2-c3599d72119c"
      },
      "source": [
        "parkinson_df.describe()"
      ],
      "execution_count": 187,
      "outputs": [
        {
          "output_type": "execute_result",
          "data": {
            "text/html": [
              "<div>\n",
              "<style scoped>\n",
              "    .dataframe tbody tr th:only-of-type {\n",
              "        vertical-align: middle;\n",
              "    }\n",
              "\n",
              "    .dataframe tbody tr th {\n",
              "        vertical-align: top;\n",
              "    }\n",
              "\n",
              "    .dataframe thead th {\n",
              "        text-align: right;\n",
              "    }\n",
              "</style>\n",
              "<table border=\"1\" class=\"dataframe\">\n",
              "  <thead>\n",
              "    <tr style=\"text-align: right;\">\n",
              "      <th></th>\n",
              "      <th>log2FoldChange</th>\n",
              "      <th>pvalue</th>\n",
              "      <th>padj</th>\n",
              "    </tr>\n",
              "  </thead>\n",
              "  <tbody>\n",
              "    <tr>\n",
              "      <th>count</th>\n",
              "      <td>17580.000000</td>\n",
              "      <td>1.758000e+04</td>\n",
              "      <td>1.758000e+04</td>\n",
              "    </tr>\n",
              "    <tr>\n",
              "      <th>mean</th>\n",
              "      <td>-0.012719</td>\n",
              "      <td>3.443358e-01</td>\n",
              "      <td>5.131415e-01</td>\n",
              "    </tr>\n",
              "    <tr>\n",
              "      <th>std</th>\n",
              "      <td>0.239005</td>\n",
              "      <td>3.068475e-01</td>\n",
              "      <td>3.041975e-01</td>\n",
              "    </tr>\n",
              "    <tr>\n",
              "      <th>min</th>\n",
              "      <td>-1.230213</td>\n",
              "      <td>1.765574e-14</td>\n",
              "      <td>3.103879e-10</td>\n",
              "    </tr>\n",
              "    <tr>\n",
              "      <th>25%</th>\n",
              "      <td>-0.148885</td>\n",
              "      <td>6.005140e-02</td>\n",
              "      <td>2.401384e-01</td>\n",
              "    </tr>\n",
              "    <tr>\n",
              "      <th>50%</th>\n",
              "      <td>-0.026079</td>\n",
              "      <td>2.626818e-01</td>\n",
              "      <td>5.253209e-01</td>\n",
              "    </tr>\n",
              "    <tr>\n",
              "      <th>75%</th>\n",
              "      <td>0.113412</td>\n",
              "      <td>5.876922e-01</td>\n",
              "      <td>7.835747e-01</td>\n",
              "    </tr>\n",
              "    <tr>\n",
              "      <th>max</th>\n",
              "      <td>1.831929</td>\n",
              "      <td>9.999867e-01</td>\n",
              "      <td>9.999867e-01</td>\n",
              "    </tr>\n",
              "  </tbody>\n",
              "</table>\n",
              "</div>"
            ],
            "text/plain": [
              "       log2FoldChange        pvalue          padj\n",
              "count    17580.000000  1.758000e+04  1.758000e+04\n",
              "mean        -0.012719  3.443358e-01  5.131415e-01\n",
              "std          0.239005  3.068475e-01  3.041975e-01\n",
              "min         -1.230213  1.765574e-14  3.103879e-10\n",
              "25%         -0.148885  6.005140e-02  2.401384e-01\n",
              "50%         -0.026079  2.626818e-01  5.253209e-01\n",
              "75%          0.113412  5.876922e-01  7.835747e-01\n",
              "max          1.831929  9.999867e-01  9.999867e-01"
            ]
          },
          "metadata": {
            "tags": []
          },
          "execution_count": 187
        }
      ]
    },
    {
      "cell_type": "markdown",
      "metadata": {
        "id": "BQiGE53_wwWa"
      },
      "source": [
        "We ca get the first three to ten using the iloc method"
      ]
    },
    {
      "cell_type": "code",
      "metadata": {
        "colab": {
          "base_uri": "https://localhost:8080/",
          "height": 419
        },
        "id": "Q5hQC2KtXoVk",
        "outputId": "614bca34-c620-4ec5-8f1e-f8ce041d5483"
      },
      "source": [
        "parkinson_df.iloc[3:100]"
      ],
      "execution_count": 189,
      "outputs": [
        {
          "output_type": "execute_result",
          "data": {
            "text/html": [
              "<div>\n",
              "<style scoped>\n",
              "    .dataframe tbody tr th:only-of-type {\n",
              "        vertical-align: middle;\n",
              "    }\n",
              "\n",
              "    .dataframe tbody tr th {\n",
              "        vertical-align: top;\n",
              "    }\n",
              "\n",
              "    .dataframe thead th {\n",
              "        text-align: right;\n",
              "    }\n",
              "</style>\n",
              "<table border=\"1\" class=\"dataframe\">\n",
              "  <thead>\n",
              "    <tr style=\"text-align: right;\">\n",
              "      <th></th>\n",
              "      <th>EnsemblID</th>\n",
              "      <th>symbol</th>\n",
              "      <th>log2FoldChange</th>\n",
              "      <th>pvalue</th>\n",
              "      <th>padj</th>\n",
              "    </tr>\n",
              "  </thead>\n",
              "  <tbody>\n",
              "    <tr>\n",
              "      <th>3</th>\n",
              "      <td>ENSG00000106211.8</td>\n",
              "      <td>HSPB1</td>\n",
              "      <td>1.296490</td>\n",
              "      <td>3.189502e-10</td>\n",
              "      <td>0.000001</td>\n",
              "    </tr>\n",
              "    <tr>\n",
              "      <th>4</th>\n",
              "      <td>ENSG00000137731.8</td>\n",
              "      <td>FXYD2</td>\n",
              "      <td>0.979849</td>\n",
              "      <td>1.237955e-09</td>\n",
              "      <td>0.000004</td>\n",
              "    </tr>\n",
              "    <tr>\n",
              "      <th>5</th>\n",
              "      <td>ENSG00000152049.5</td>\n",
              "      <td>KCNE4</td>\n",
              "      <td>1.309400</td>\n",
              "      <td>1.200451e-09</td>\n",
              "      <td>0.000004</td>\n",
              "    </tr>\n",
              "    <tr>\n",
              "      <th>6</th>\n",
              "      <td>ENSG00000111181.8</td>\n",
              "      <td>SLC6A12</td>\n",
              "      <td>0.745494</td>\n",
              "      <td>2.862677e-09</td>\n",
              "      <td>0.000007</td>\n",
              "    </tr>\n",
              "    <tr>\n",
              "      <th>7</th>\n",
              "      <td>ENSG00000204388.5</td>\n",
              "      <td>HSPA1B</td>\n",
              "      <td>1.285557</td>\n",
              "      <td>2.960042e-09</td>\n",
              "      <td>0.000007</td>\n",
              "    </tr>\n",
              "    <tr>\n",
              "      <th>...</th>\n",
              "      <td>...</td>\n",
              "      <td>...</td>\n",
              "      <td>...</td>\n",
              "      <td>...</td>\n",
              "      <td>...</td>\n",
              "    </tr>\n",
              "    <tr>\n",
              "      <th>95</th>\n",
              "      <td>ENSG00000141449.9</td>\n",
              "      <td>GREB1L</td>\n",
              "      <td>-0.856031</td>\n",
              "      <td>1.561211e-05</td>\n",
              "      <td>0.002801</td>\n",
              "    </tr>\n",
              "    <tr>\n",
              "      <th>96</th>\n",
              "      <td>ENSG00000156968.7</td>\n",
              "      <td>MPV17L</td>\n",
              "      <td>-0.554718</td>\n",
              "      <td>1.534296e-05</td>\n",
              "      <td>0.002801</td>\n",
              "    </tr>\n",
              "    <tr>\n",
              "      <th>97</th>\n",
              "      <td>ENSG00000175832.8</td>\n",
              "      <td>ETV4</td>\n",
              "      <td>0.931020</td>\n",
              "      <td>1.546435e-05</td>\n",
              "      <td>0.002801</td>\n",
              "    </tr>\n",
              "    <tr>\n",
              "      <th>98</th>\n",
              "      <td>ENSG00000176046.7</td>\n",
              "      <td>NUPR1</td>\n",
              "      <td>0.824887</td>\n",
              "      <td>1.585499e-05</td>\n",
              "      <td>0.002815</td>\n",
              "    </tr>\n",
              "    <tr>\n",
              "      <th>99</th>\n",
              "      <td>ENSG00000115648.9</td>\n",
              "      <td>MLPH</td>\n",
              "      <td>0.982345</td>\n",
              "      <td>1.637749e-05</td>\n",
              "      <td>0.002850</td>\n",
              "    </tr>\n",
              "  </tbody>\n",
              "</table>\n",
              "<p>97 rows × 5 columns</p>\n",
              "</div>"
            ],
            "text/plain": [
              "            EnsemblID   symbol  log2FoldChange        pvalue      padj\n",
              "3   ENSG00000106211.8    HSPB1        1.296490  3.189502e-10  0.000001\n",
              "4   ENSG00000137731.8    FXYD2        0.979849  1.237955e-09  0.000004\n",
              "5   ENSG00000152049.5    KCNE4        1.309400  1.200451e-09  0.000004\n",
              "6   ENSG00000111181.8  SLC6A12        0.745494  2.862677e-09  0.000007\n",
              "7   ENSG00000204388.5   HSPA1B        1.285557  2.960042e-09  0.000007\n",
              "..                ...      ...             ...           ...       ...\n",
              "95  ENSG00000141449.9   GREB1L       -0.856031  1.561211e-05  0.002801\n",
              "96  ENSG00000156968.7   MPV17L       -0.554718  1.534296e-05  0.002801\n",
              "97  ENSG00000175832.8     ETV4        0.931020  1.546435e-05  0.002801\n",
              "98  ENSG00000176046.7    NUPR1        0.824887  1.585499e-05  0.002815\n",
              "99  ENSG00000115648.9     MLPH        0.982345  1.637749e-05  0.002850\n",
              "\n",
              "[97 rows x 5 columns]"
            ]
          },
          "metadata": {
            "tags": []
          },
          "execution_count": 189
        }
      ]
    },
    {
      "cell_type": "markdown",
      "metadata": {
        "id": "KcIRUe8lw0T8"
      },
      "source": [
        "We can sort the values using sort_values method"
      ]
    },
    {
      "cell_type": "code",
      "metadata": {
        "colab": {
          "base_uri": "https://localhost:8080/",
          "height": 419
        },
        "id": "wFcsHR_dXupj",
        "outputId": "a9df2edf-82ad-4101-897f-94b317220702"
      },
      "source": [
        "parkinson_df.sort_values(by=\"log2FoldChange\")"
      ],
      "execution_count": 190,
      "outputs": [
        {
          "output_type": "execute_result",
          "data": {
            "text/html": [
              "<div>\n",
              "<style scoped>\n",
              "    .dataframe tbody tr th:only-of-type {\n",
              "        vertical-align: middle;\n",
              "    }\n",
              "\n",
              "    .dataframe tbody tr th {\n",
              "        vertical-align: top;\n",
              "    }\n",
              "\n",
              "    .dataframe thead th {\n",
              "        text-align: right;\n",
              "    }\n",
              "</style>\n",
              "<table border=\"1\" class=\"dataframe\">\n",
              "  <thead>\n",
              "    <tr style=\"text-align: right;\">\n",
              "      <th></th>\n",
              "      <th>EnsemblID</th>\n",
              "      <th>symbol</th>\n",
              "      <th>log2FoldChange</th>\n",
              "      <th>pvalue</th>\n",
              "      <th>padj</th>\n",
              "    </tr>\n",
              "  </thead>\n",
              "  <tbody>\n",
              "    <tr>\n",
              "      <th>18</th>\n",
              "      <td>ENSG00000086570.8</td>\n",
              "      <td>FAT2</td>\n",
              "      <td>-1.230213</td>\n",
              "      <td>1.658167e-07</td>\n",
              "      <td>1.534241e-04</td>\n",
              "    </tr>\n",
              "    <tr>\n",
              "      <th>20</th>\n",
              "      <td>ENSG00000145863.6</td>\n",
              "      <td>GABRA6</td>\n",
              "      <td>-1.227237</td>\n",
              "      <td>2.200256e-07</td>\n",
              "      <td>1.893828e-04</td>\n",
              "    </tr>\n",
              "    <tr>\n",
              "      <th>19</th>\n",
              "      <td>ENSG00000008086.6</td>\n",
              "      <td>CDKL5</td>\n",
              "      <td>-1.147549</td>\n",
              "      <td>2.262252e-07</td>\n",
              "      <td>1.893828e-04</td>\n",
              "    </tr>\n",
              "    <tr>\n",
              "      <th>61</th>\n",
              "      <td>ENSG00000174948.5</td>\n",
              "      <td>GPR149</td>\n",
              "      <td>-1.076434</td>\n",
              "      <td>6.490550e-06</td>\n",
              "      <td>1.787495e-03</td>\n",
              "    </tr>\n",
              "    <tr>\n",
              "      <th>44</th>\n",
              "      <td>ENSG00000132130.7</td>\n",
              "      <td>LHX1</td>\n",
              "      <td>-1.065873</td>\n",
              "      <td>3.044528e-06</td>\n",
              "      <td>1.189396e-03</td>\n",
              "    </tr>\n",
              "    <tr>\n",
              "      <th>...</th>\n",
              "      <td>...</td>\n",
              "      <td>...</td>\n",
              "      <td>...</td>\n",
              "      <td>...</td>\n",
              "      <td>...</td>\n",
              "    </tr>\n",
              "    <tr>\n",
              "      <th>3</th>\n",
              "      <td>ENSG00000106211.8</td>\n",
              "      <td>HSPB1</td>\n",
              "      <td>1.296490</td>\n",
              "      <td>3.189502e-10</td>\n",
              "      <td>1.401786e-06</td>\n",
              "    </tr>\n",
              "    <tr>\n",
              "      <th>5</th>\n",
              "      <td>ENSG00000152049.5</td>\n",
              "      <td>KCNE4</td>\n",
              "      <td>1.309400</td>\n",
              "      <td>1.200451e-09</td>\n",
              "      <td>3.627207e-06</td>\n",
              "    </tr>\n",
              "    <tr>\n",
              "      <th>2</th>\n",
              "      <td>ENSG00000204389.7</td>\n",
              "      <td>HSPA1A</td>\n",
              "      <td>1.492569</td>\n",
              "      <td>4.455545e-11</td>\n",
              "      <td>2.610949e-07</td>\n",
              "    </tr>\n",
              "    <tr>\n",
              "      <th>1</th>\n",
              "      <td>ENSG00000123689.5</td>\n",
              "      <td>G0S2</td>\n",
              "      <td>1.506402</td>\n",
              "      <td>1.010386e-11</td>\n",
              "      <td>8.881295e-08</td>\n",
              "    </tr>\n",
              "    <tr>\n",
              "      <th>0</th>\n",
              "      <td>ENSG00000173110.6</td>\n",
              "      <td>HSPA6</td>\n",
              "      <td>1.831929</td>\n",
              "      <td>1.765574e-14</td>\n",
              "      <td>3.103879e-10</td>\n",
              "    </tr>\n",
              "  </tbody>\n",
              "</table>\n",
              "<p>17580 rows × 5 columns</p>\n",
              "</div>"
            ],
            "text/plain": [
              "            EnsemblID  symbol  log2FoldChange        pvalue          padj\n",
              "18  ENSG00000086570.8    FAT2       -1.230213  1.658167e-07  1.534241e-04\n",
              "20  ENSG00000145863.6  GABRA6       -1.227237  2.200256e-07  1.893828e-04\n",
              "19  ENSG00000008086.6   CDKL5       -1.147549  2.262252e-07  1.893828e-04\n",
              "61  ENSG00000174948.5  GPR149       -1.076434  6.490550e-06  1.787495e-03\n",
              "44  ENSG00000132130.7    LHX1       -1.065873  3.044528e-06  1.189396e-03\n",
              "..                ...     ...             ...           ...           ...\n",
              "3   ENSG00000106211.8   HSPB1        1.296490  3.189502e-10  1.401786e-06\n",
              "5   ENSG00000152049.5   KCNE4        1.309400  1.200451e-09  3.627207e-06\n",
              "2   ENSG00000204389.7  HSPA1A        1.492569  4.455545e-11  2.610949e-07\n",
              "1   ENSG00000123689.5    G0S2        1.506402  1.010386e-11  8.881295e-08\n",
              "0   ENSG00000173110.6   HSPA6        1.831929  1.765574e-14  3.103879e-10\n",
              "\n",
              "[17580 rows x 5 columns]"
            ]
          },
          "metadata": {
            "tags": []
          },
          "execution_count": 190
        }
      ]
    },
    {
      "cell_type": "code",
      "metadata": {
        "colab": {
          "base_uri": "https://localhost:8080/",
          "height": 419
        },
        "id": "aGj1cjvCX_BM",
        "outputId": "2bad5142-3a3d-459d-adf2-a1e30f7204a6"
      },
      "source": [
        "parkinson_df.sort_values(by=\"padj\", ascending=True)"
      ],
      "execution_count": 192,
      "outputs": [
        {
          "output_type": "execute_result",
          "data": {
            "text/html": [
              "<div>\n",
              "<style scoped>\n",
              "    .dataframe tbody tr th:only-of-type {\n",
              "        vertical-align: middle;\n",
              "    }\n",
              "\n",
              "    .dataframe tbody tr th {\n",
              "        vertical-align: top;\n",
              "    }\n",
              "\n",
              "    .dataframe thead th {\n",
              "        text-align: right;\n",
              "    }\n",
              "</style>\n",
              "<table border=\"1\" class=\"dataframe\">\n",
              "  <thead>\n",
              "    <tr style=\"text-align: right;\">\n",
              "      <th></th>\n",
              "      <th>EnsemblID</th>\n",
              "      <th>symbol</th>\n",
              "      <th>log2FoldChange</th>\n",
              "      <th>pvalue</th>\n",
              "      <th>padj</th>\n",
              "    </tr>\n",
              "  </thead>\n",
              "  <tbody>\n",
              "    <tr>\n",
              "      <th>0</th>\n",
              "      <td>ENSG00000173110.6</td>\n",
              "      <td>HSPA6</td>\n",
              "      <td>1.831929</td>\n",
              "      <td>1.765574e-14</td>\n",
              "      <td>3.103879e-10</td>\n",
              "    </tr>\n",
              "    <tr>\n",
              "      <th>1</th>\n",
              "      <td>ENSG00000123689.5</td>\n",
              "      <td>G0S2</td>\n",
              "      <td>1.506402</td>\n",
              "      <td>1.010386e-11</td>\n",
              "      <td>8.881295e-08</td>\n",
              "    </tr>\n",
              "    <tr>\n",
              "      <th>2</th>\n",
              "      <td>ENSG00000204389.7</td>\n",
              "      <td>HSPA1A</td>\n",
              "      <td>1.492569</td>\n",
              "      <td>4.455545e-11</td>\n",
              "      <td>2.610949e-07</td>\n",
              "    </tr>\n",
              "    <tr>\n",
              "      <th>3</th>\n",
              "      <td>ENSG00000106211.8</td>\n",
              "      <td>HSPB1</td>\n",
              "      <td>1.296490</td>\n",
              "      <td>3.189502e-10</td>\n",
              "      <td>1.401786e-06</td>\n",
              "    </tr>\n",
              "    <tr>\n",
              "      <th>4</th>\n",
              "      <td>ENSG00000137731.8</td>\n",
              "      <td>FXYD2</td>\n",
              "      <td>0.979849</td>\n",
              "      <td>1.237955e-09</td>\n",
              "      <td>3.627207e-06</td>\n",
              "    </tr>\n",
              "    <tr>\n",
              "      <th>...</th>\n",
              "      <td>...</td>\n",
              "      <td>...</td>\n",
              "      <td>...</td>\n",
              "      <td>...</td>\n",
              "      <td>...</td>\n",
              "    </tr>\n",
              "    <tr>\n",
              "      <th>17573</th>\n",
              "      <td>ENSG00000101412.9</td>\n",
              "      <td>E2F1</td>\n",
              "      <td>-0.000067</td>\n",
              "      <td>9.995619e-01</td>\n",
              "      <td>9.997325e-01</td>\n",
              "    </tr>\n",
              "    <tr>\n",
              "      <th>17574</th>\n",
              "      <td>ENSG00000159079.14</td>\n",
              "      <td>C21orf59</td>\n",
              "      <td>0.000046</td>\n",
              "      <td>9.995452e-01</td>\n",
              "      <td>9.997325e-01</td>\n",
              "    </tr>\n",
              "    <tr>\n",
              "      <th>17577</th>\n",
              "      <td>ENSG00000132801.5</td>\n",
              "      <td>ZSWIM3</td>\n",
              "      <td>-0.000031</td>\n",
              "      <td>9.996920e-01</td>\n",
              "      <td>9.998058e-01</td>\n",
              "    </tr>\n",
              "    <tr>\n",
              "      <th>17578</th>\n",
              "      <td>ENSG00000198712.1</td>\n",
              "      <td>MT-CO2</td>\n",
              "      <td>-0.000014</td>\n",
              "      <td>9.999263e-01</td>\n",
              "      <td>9.999831e-01</td>\n",
              "    </tr>\n",
              "    <tr>\n",
              "      <th>17579</th>\n",
              "      <td>ENSG00000100354.15</td>\n",
              "      <td>TNRC6B</td>\n",
              "      <td>0.000001</td>\n",
              "      <td>9.999867e-01</td>\n",
              "      <td>9.999867e-01</td>\n",
              "    </tr>\n",
              "  </tbody>\n",
              "</table>\n",
              "<p>17580 rows × 5 columns</p>\n",
              "</div>"
            ],
            "text/plain": [
              "                EnsemblID    symbol  log2FoldChange        pvalue          padj\n",
              "0       ENSG00000173110.6     HSPA6        1.831929  1.765574e-14  3.103879e-10\n",
              "1       ENSG00000123689.5      G0S2        1.506402  1.010386e-11  8.881295e-08\n",
              "2       ENSG00000204389.7    HSPA1A        1.492569  4.455545e-11  2.610949e-07\n",
              "3       ENSG00000106211.8     HSPB1        1.296490  3.189502e-10  1.401786e-06\n",
              "4       ENSG00000137731.8     FXYD2        0.979849  1.237955e-09  3.627207e-06\n",
              "...                   ...       ...             ...           ...           ...\n",
              "17573   ENSG00000101412.9      E2F1       -0.000067  9.995619e-01  9.997325e-01\n",
              "17574  ENSG00000159079.14  C21orf59        0.000046  9.995452e-01  9.997325e-01\n",
              "17577   ENSG00000132801.5    ZSWIM3       -0.000031  9.996920e-01  9.998058e-01\n",
              "17578   ENSG00000198712.1    MT-CO2       -0.000014  9.999263e-01  9.999831e-01\n",
              "17579  ENSG00000100354.15    TNRC6B        0.000001  9.999867e-01  9.999867e-01\n",
              "\n",
              "[17580 rows x 5 columns]"
            ]
          },
          "metadata": {
            "tags": []
          },
          "execution_count": 192
        }
      ]
    },
    {
      "cell_type": "markdown",
      "metadata": {
        "id": "7VPWcG9Ow5ES"
      },
      "source": [
        "We can also use the aggregation method for this one"
      ]
    },
    {
      "cell_type": "code",
      "metadata": {
        "colab": {
          "base_uri": "https://localhost:8080/"
        },
        "id": "Oj-jSnmWdg0Q",
        "outputId": "ce4e7326-06de-42a7-c48e-255f9f1aad0f"
      },
      "source": [
        "parkinson_df[\"log2FoldChange\"].sum()"
      ],
      "execution_count": 193,
      "outputs": [
        {
          "output_type": "execute_result",
          "data": {
            "text/plain": [
              "-223.59702519473058"
            ]
          },
          "metadata": {
            "tags": []
          },
          "execution_count": 193
        }
      ]
    },
    {
      "cell_type": "code",
      "metadata": {
        "colab": {
          "base_uri": "https://localhost:8080/"
        },
        "id": "eHLntw3bht1E",
        "outputId": "cb4872b1-f2d7-4017-ccc2-ea5fb448c52f"
      },
      "source": [
        "parkinson_df[\"log2FoldChange\"].max()"
      ],
      "execution_count": 194,
      "outputs": [
        {
          "output_type": "execute_result",
          "data": {
            "text/plain": [
              "1.83192922287666"
            ]
          },
          "metadata": {
            "tags": []
          },
          "execution_count": 194
        }
      ]
    },
    {
      "cell_type": "code",
      "metadata": {
        "colab": {
          "base_uri": "https://localhost:8080/"
        },
        "id": "Boq0_H_shu6E",
        "outputId": "82be0262-0149-4be7-ff6e-d395a0db2456"
      },
      "source": [
        "parkinson_df[\"log2FoldChange\"].min()"
      ],
      "execution_count": 195,
      "outputs": [
        {
          "output_type": "execute_result",
          "data": {
            "text/plain": [
              "-1.23021277733396"
            ]
          },
          "metadata": {
            "tags": []
          },
          "execution_count": 195
        }
      ]
    },
    {
      "cell_type": "markdown",
      "metadata": {
        "id": "3zQYrc2LxCkp"
      },
      "source": [
        "We can add, multiply, substract two columns if the type is float or integer"
      ]
    },
    {
      "cell_type": "code",
      "metadata": {
        "colab": {
          "base_uri": "https://localhost:8080/"
        },
        "id": "n88WdcyGp6OS",
        "outputId": "36b216a2-0e08-4515-a37c-23444435095a"
      },
      "source": [
        "parkinson_df[\"log2FoldChange\"] + parkinson_df[\"padj\"]"
      ],
      "execution_count": 196,
      "outputs": [
        {
          "output_type": "execute_result",
          "data": {
            "text/plain": [
              "0        1.831929\n",
              "1        1.506402\n",
              "2        1.492569\n",
              "3        1.296491\n",
              "4        0.979852\n",
              "           ...   \n",
              "17575    0.999618\n",
              "17576    0.999571\n",
              "17577    0.999775\n",
              "17578    0.999970\n",
              "17579    0.999988\n",
              "Length: 17580, dtype: float64"
            ]
          },
          "metadata": {
            "tags": []
          },
          "execution_count": 196
        }
      ]
    },
    {
      "cell_type": "code",
      "metadata": {
        "colab": {
          "base_uri": "https://localhost:8080/"
        },
        "id": "C3CDdYPeiN9B",
        "outputId": "a0040ff9-e45d-4719-d8b6-6f4f0a24d8bf"
      },
      "source": [
        "parkinson_df[\"padj\"] // 1"
      ],
      "execution_count": 197,
      "outputs": [
        {
          "output_type": "execute_result",
          "data": {
            "text/plain": [
              "0        1.000000\n",
              "1        1.000000\n",
              "2        1.000000\n",
              "3        1.000001\n",
              "4        1.000004\n",
              "           ...   \n",
              "17575    1.999733\n",
              "17576    1.999733\n",
              "17577    1.999806\n",
              "17578    1.999983\n",
              "17579    1.999987\n",
              "Name: padj, Length: 17580, dtype: float64"
            ]
          },
          "metadata": {
            "tags": []
          },
          "execution_count": 197
        }
      ]
    },
    {
      "cell_type": "markdown",
      "metadata": {
        "id": "Fbh9jLP7xKW6"
      },
      "source": [
        "We can create a new column from existing values "
      ]
    },
    {
      "cell_type": "code",
      "metadata": {
        "id": "EG0DQfE4Bxcg"
      },
      "source": [
        "parkinson_df[\"padj_add_one\"] = parkinson_df[\"padj\"] + 5"
      ],
      "execution_count": 201,
      "outputs": []
    },
    {
      "cell_type": "code",
      "metadata": {
        "colab": {
          "base_uri": "https://localhost:8080/",
          "height": 419
        },
        "id": "wfdvDIxoCAMW",
        "outputId": "23819b3c-ae0f-41f1-e2a9-2c09939be3e7"
      },
      "source": [
        "parkinson_df"
      ],
      "execution_count": 202,
      "outputs": [
        {
          "output_type": "execute_result",
          "data": {
            "text/html": [
              "<div>\n",
              "<style scoped>\n",
              "    .dataframe tbody tr th:only-of-type {\n",
              "        vertical-align: middle;\n",
              "    }\n",
              "\n",
              "    .dataframe tbody tr th {\n",
              "        vertical-align: top;\n",
              "    }\n",
              "\n",
              "    .dataframe thead th {\n",
              "        text-align: right;\n",
              "    }\n",
              "</style>\n",
              "<table border=\"1\" class=\"dataframe\">\n",
              "  <thead>\n",
              "    <tr style=\"text-align: right;\">\n",
              "      <th></th>\n",
              "      <th>EnsemblID</th>\n",
              "      <th>symbol</th>\n",
              "      <th>log2FoldChange</th>\n",
              "      <th>pvalue</th>\n",
              "      <th>padj</th>\n",
              "      <th>padj_add_one</th>\n",
              "    </tr>\n",
              "  </thead>\n",
              "  <tbody>\n",
              "    <tr>\n",
              "      <th>0</th>\n",
              "      <td>ENSG00000173110.6</td>\n",
              "      <td>HSPA6</td>\n",
              "      <td>1.831929</td>\n",
              "      <td>1.765574e-14</td>\n",
              "      <td>3.103879e-10</td>\n",
              "      <td>5.000000</td>\n",
              "    </tr>\n",
              "    <tr>\n",
              "      <th>1</th>\n",
              "      <td>ENSG00000123689.5</td>\n",
              "      <td>G0S2</td>\n",
              "      <td>1.506402</td>\n",
              "      <td>1.010386e-11</td>\n",
              "      <td>8.881295e-08</td>\n",
              "      <td>5.000000</td>\n",
              "    </tr>\n",
              "    <tr>\n",
              "      <th>2</th>\n",
              "      <td>ENSG00000204389.7</td>\n",
              "      <td>HSPA1A</td>\n",
              "      <td>1.492569</td>\n",
              "      <td>4.455545e-11</td>\n",
              "      <td>2.610949e-07</td>\n",
              "      <td>5.000000</td>\n",
              "    </tr>\n",
              "    <tr>\n",
              "      <th>3</th>\n",
              "      <td>ENSG00000106211.8</td>\n",
              "      <td>HSPB1</td>\n",
              "      <td>1.296490</td>\n",
              "      <td>3.189502e-10</td>\n",
              "      <td>1.401786e-06</td>\n",
              "      <td>5.000001</td>\n",
              "    </tr>\n",
              "    <tr>\n",
              "      <th>4</th>\n",
              "      <td>ENSG00000137731.8</td>\n",
              "      <td>FXYD2</td>\n",
              "      <td>0.979849</td>\n",
              "      <td>1.237955e-09</td>\n",
              "      <td>3.627207e-06</td>\n",
              "      <td>5.000004</td>\n",
              "    </tr>\n",
              "    <tr>\n",
              "      <th>...</th>\n",
              "      <td>...</td>\n",
              "      <td>...</td>\n",
              "      <td>...</td>\n",
              "      <td>...</td>\n",
              "      <td>...</td>\n",
              "      <td>...</td>\n",
              "    </tr>\n",
              "    <tr>\n",
              "      <th>17575</th>\n",
              "      <td>ENSG00000205639.5</td>\n",
              "      <td>MFSD2B</td>\n",
              "      <td>-0.000115</td>\n",
              "      <td>9.995465e-01</td>\n",
              "      <td>9.997325e-01</td>\n",
              "      <td>5.999733</td>\n",
              "    </tr>\n",
              "    <tr>\n",
              "      <th>17576</th>\n",
              "      <td>ENSG00000259207.3</td>\n",
              "      <td>ITGB3</td>\n",
              "      <td>-0.000162</td>\n",
              "      <td>9.994587e-01</td>\n",
              "      <td>9.997325e-01</td>\n",
              "      <td>5.999733</td>\n",
              "    </tr>\n",
              "    <tr>\n",
              "      <th>17577</th>\n",
              "      <td>ENSG00000132801.5</td>\n",
              "      <td>ZSWIM3</td>\n",
              "      <td>-0.000031</td>\n",
              "      <td>9.996920e-01</td>\n",
              "      <td>9.998058e-01</td>\n",
              "      <td>5.999806</td>\n",
              "    </tr>\n",
              "    <tr>\n",
              "      <th>17578</th>\n",
              "      <td>ENSG00000198712.1</td>\n",
              "      <td>MT-CO2</td>\n",
              "      <td>-0.000014</td>\n",
              "      <td>9.999263e-01</td>\n",
              "      <td>9.999831e-01</td>\n",
              "      <td>5.999983</td>\n",
              "    </tr>\n",
              "    <tr>\n",
              "      <th>17579</th>\n",
              "      <td>ENSG00000100354.15</td>\n",
              "      <td>TNRC6B</td>\n",
              "      <td>0.000001</td>\n",
              "      <td>9.999867e-01</td>\n",
              "      <td>9.999867e-01</td>\n",
              "      <td>5.999987</td>\n",
              "    </tr>\n",
              "  </tbody>\n",
              "</table>\n",
              "<p>17580 rows × 6 columns</p>\n",
              "</div>"
            ],
            "text/plain": [
              "                EnsemblID  symbol  ...          padj  padj_add_one\n",
              "0       ENSG00000173110.6   HSPA6  ...  3.103879e-10      5.000000\n",
              "1       ENSG00000123689.5    G0S2  ...  8.881295e-08      5.000000\n",
              "2       ENSG00000204389.7  HSPA1A  ...  2.610949e-07      5.000000\n",
              "3       ENSG00000106211.8   HSPB1  ...  1.401786e-06      5.000001\n",
              "4       ENSG00000137731.8   FXYD2  ...  3.627207e-06      5.000004\n",
              "...                   ...     ...  ...           ...           ...\n",
              "17575   ENSG00000205639.5  MFSD2B  ...  9.997325e-01      5.999733\n",
              "17576   ENSG00000259207.3   ITGB3  ...  9.997325e-01      5.999733\n",
              "17577   ENSG00000132801.5  ZSWIM3  ...  9.998058e-01      5.999806\n",
              "17578   ENSG00000198712.1  MT-CO2  ...  9.999831e-01      5.999983\n",
              "17579  ENSG00000100354.15  TNRC6B  ...  9.999867e-01      5.999987\n",
              "\n",
              "[17580 rows x 6 columns]"
            ]
          },
          "metadata": {
            "tags": []
          },
          "execution_count": 202
        }
      ]
    },
    {
      "cell_type": "code",
      "metadata": {
        "id": "sG_WRVBdiPjc"
      },
      "source": [
        "parkinson_df[\"padj_add_one\"] = parkinson_df[\"padj\"] + 1"
      ],
      "execution_count": null,
      "outputs": []
    },
    {
      "cell_type": "code",
      "metadata": {
        "id": "6rm-R2zciVzu"
      },
      "source": [
        "parkinson_df[\"padj_add_one\"]"
      ],
      "execution_count": null,
      "outputs": []
    },
    {
      "cell_type": "code",
      "metadata": {
        "colab": {
          "base_uri": "https://localhost:8080/"
        },
        "id": "oz3l4JW1xN2T",
        "outputId": "6c927e80-8a40-47ba-a32c-29e61c2d0915"
      },
      "source": [
        "parkinson_df[\"just_one\"]"
      ],
      "execution_count": 206,
      "outputs": [
        {
          "output_type": "execute_result",
          "data": {
            "text/plain": [
              "0        1\n",
              "1        1\n",
              "2        1\n",
              "3        1\n",
              "4        1\n",
              "        ..\n",
              "17575    1\n",
              "17576    1\n",
              "17577    1\n",
              "17578    1\n",
              "17579    1\n",
              "Name: just_one, Length: 17580, dtype: int64"
            ]
          },
          "metadata": {
            "tags": []
          },
          "execution_count": 206
        }
      ]
    },
    {
      "cell_type": "code",
      "metadata": {
        "colab": {
          "base_uri": "https://localhost:8080/",
          "height": 419
        },
        "id": "-l005cZsxRA-",
        "outputId": "789b535b-4e71-4fff-8cdf-0a15895756bd"
      },
      "source": [
        "parkinson_df"
      ],
      "execution_count": 207,
      "outputs": [
        {
          "output_type": "execute_result",
          "data": {
            "text/html": [
              "<div>\n",
              "<style scoped>\n",
              "    .dataframe tbody tr th:only-of-type {\n",
              "        vertical-align: middle;\n",
              "    }\n",
              "\n",
              "    .dataframe tbody tr th {\n",
              "        vertical-align: top;\n",
              "    }\n",
              "\n",
              "    .dataframe thead th {\n",
              "        text-align: right;\n",
              "    }\n",
              "</style>\n",
              "<table border=\"1\" class=\"dataframe\">\n",
              "  <thead>\n",
              "    <tr style=\"text-align: right;\">\n",
              "      <th></th>\n",
              "      <th>EnsemblID</th>\n",
              "      <th>symbol</th>\n",
              "      <th>log2FoldChange</th>\n",
              "      <th>pvalue</th>\n",
              "      <th>padj</th>\n",
              "      <th>padj_add_one</th>\n",
              "      <th>just_one</th>\n",
              "    </tr>\n",
              "  </thead>\n",
              "  <tbody>\n",
              "    <tr>\n",
              "      <th>0</th>\n",
              "      <td>ENSG00000173110.6</td>\n",
              "      <td>HSPA6</td>\n",
              "      <td>1.831929</td>\n",
              "      <td>1.765574e-14</td>\n",
              "      <td>3.103879e-10</td>\n",
              "      <td>5.000000</td>\n",
              "      <td>1</td>\n",
              "    </tr>\n",
              "    <tr>\n",
              "      <th>1</th>\n",
              "      <td>ENSG00000123689.5</td>\n",
              "      <td>G0S2</td>\n",
              "      <td>1.506402</td>\n",
              "      <td>1.010386e-11</td>\n",
              "      <td>8.881295e-08</td>\n",
              "      <td>5.000000</td>\n",
              "      <td>1</td>\n",
              "    </tr>\n",
              "    <tr>\n",
              "      <th>2</th>\n",
              "      <td>ENSG00000204389.7</td>\n",
              "      <td>HSPA1A</td>\n",
              "      <td>1.492569</td>\n",
              "      <td>4.455545e-11</td>\n",
              "      <td>2.610949e-07</td>\n",
              "      <td>5.000000</td>\n",
              "      <td>1</td>\n",
              "    </tr>\n",
              "    <tr>\n",
              "      <th>3</th>\n",
              "      <td>ENSG00000106211.8</td>\n",
              "      <td>HSPB1</td>\n",
              "      <td>1.296490</td>\n",
              "      <td>3.189502e-10</td>\n",
              "      <td>1.401786e-06</td>\n",
              "      <td>5.000001</td>\n",
              "      <td>1</td>\n",
              "    </tr>\n",
              "    <tr>\n",
              "      <th>4</th>\n",
              "      <td>ENSG00000137731.8</td>\n",
              "      <td>FXYD2</td>\n",
              "      <td>0.979849</td>\n",
              "      <td>1.237955e-09</td>\n",
              "      <td>3.627207e-06</td>\n",
              "      <td>5.000004</td>\n",
              "      <td>1</td>\n",
              "    </tr>\n",
              "    <tr>\n",
              "      <th>...</th>\n",
              "      <td>...</td>\n",
              "      <td>...</td>\n",
              "      <td>...</td>\n",
              "      <td>...</td>\n",
              "      <td>...</td>\n",
              "      <td>...</td>\n",
              "      <td>...</td>\n",
              "    </tr>\n",
              "    <tr>\n",
              "      <th>17575</th>\n",
              "      <td>ENSG00000205639.5</td>\n",
              "      <td>MFSD2B</td>\n",
              "      <td>-0.000115</td>\n",
              "      <td>9.995465e-01</td>\n",
              "      <td>9.997325e-01</td>\n",
              "      <td>5.999733</td>\n",
              "      <td>1</td>\n",
              "    </tr>\n",
              "    <tr>\n",
              "      <th>17576</th>\n",
              "      <td>ENSG00000259207.3</td>\n",
              "      <td>ITGB3</td>\n",
              "      <td>-0.000162</td>\n",
              "      <td>9.994587e-01</td>\n",
              "      <td>9.997325e-01</td>\n",
              "      <td>5.999733</td>\n",
              "      <td>1</td>\n",
              "    </tr>\n",
              "    <tr>\n",
              "      <th>17577</th>\n",
              "      <td>ENSG00000132801.5</td>\n",
              "      <td>ZSWIM3</td>\n",
              "      <td>-0.000031</td>\n",
              "      <td>9.996920e-01</td>\n",
              "      <td>9.998058e-01</td>\n",
              "      <td>5.999806</td>\n",
              "      <td>1</td>\n",
              "    </tr>\n",
              "    <tr>\n",
              "      <th>17578</th>\n",
              "      <td>ENSG00000198712.1</td>\n",
              "      <td>MT-CO2</td>\n",
              "      <td>-0.000014</td>\n",
              "      <td>9.999263e-01</td>\n",
              "      <td>9.999831e-01</td>\n",
              "      <td>5.999983</td>\n",
              "      <td>1</td>\n",
              "    </tr>\n",
              "    <tr>\n",
              "      <th>17579</th>\n",
              "      <td>ENSG00000100354.15</td>\n",
              "      <td>TNRC6B</td>\n",
              "      <td>0.000001</td>\n",
              "      <td>9.999867e-01</td>\n",
              "      <td>9.999867e-01</td>\n",
              "      <td>5.999987</td>\n",
              "      <td>1</td>\n",
              "    </tr>\n",
              "  </tbody>\n",
              "</table>\n",
              "<p>17580 rows × 7 columns</p>\n",
              "</div>"
            ],
            "text/plain": [
              "                EnsemblID  symbol  ...  padj_add_one  just_one\n",
              "0       ENSG00000173110.6   HSPA6  ...      5.000000         1\n",
              "1       ENSG00000123689.5    G0S2  ...      5.000000         1\n",
              "2       ENSG00000204389.7  HSPA1A  ...      5.000000         1\n",
              "3       ENSG00000106211.8   HSPB1  ...      5.000001         1\n",
              "4       ENSG00000137731.8   FXYD2  ...      5.000004         1\n",
              "...                   ...     ...  ...           ...       ...\n",
              "17575   ENSG00000205639.5  MFSD2B  ...      5.999733         1\n",
              "17576   ENSG00000259207.3   ITGB3  ...      5.999733         1\n",
              "17577   ENSG00000132801.5  ZSWIM3  ...      5.999806         1\n",
              "17578   ENSG00000198712.1  MT-CO2  ...      5.999983         1\n",
              "17579  ENSG00000100354.15  TNRC6B  ...      5.999987         1\n",
              "\n",
              "[17580 rows x 7 columns]"
            ]
          },
          "metadata": {
            "tags": []
          },
          "execution_count": 207
        }
      ]
    },
    {
      "cell_type": "code",
      "metadata": {
        "id": "Dj5GZ2A9Cmnx"
      },
      "source": [
        "parkinson_df.to_csv(\"new_data.csv\", index=False)"
      ],
      "execution_count": 211,
      "outputs": []
    },
    {
      "cell_type": "markdown",
      "metadata": {
        "id": "Dp45u4sgxS0C"
      },
      "source": [
        "We can drop the column from our data frame using drop method"
      ]
    },
    {
      "cell_type": "code",
      "metadata": {
        "colab": {
          "base_uri": "https://localhost:8080/",
          "height": 419
        },
        "id": "vU_0gODOoOlp",
        "outputId": "de6adc1a-9864-48d5-828a-55da40be60dc"
      },
      "source": [
        "parkinson_df.drop(\"padj_add_one\", axis=1)"
      ],
      "execution_count": 212,
      "outputs": [
        {
          "output_type": "execute_result",
          "data": {
            "text/html": [
              "<div>\n",
              "<style scoped>\n",
              "    .dataframe tbody tr th:only-of-type {\n",
              "        vertical-align: middle;\n",
              "    }\n",
              "\n",
              "    .dataframe tbody tr th {\n",
              "        vertical-align: top;\n",
              "    }\n",
              "\n",
              "    .dataframe thead th {\n",
              "        text-align: right;\n",
              "    }\n",
              "</style>\n",
              "<table border=\"1\" class=\"dataframe\">\n",
              "  <thead>\n",
              "    <tr style=\"text-align: right;\">\n",
              "      <th></th>\n",
              "      <th>EnsemblID</th>\n",
              "      <th>symbol</th>\n",
              "      <th>log2FoldChange</th>\n",
              "      <th>pvalue</th>\n",
              "      <th>padj</th>\n",
              "      <th>just_one</th>\n",
              "    </tr>\n",
              "  </thead>\n",
              "  <tbody>\n",
              "    <tr>\n",
              "      <th>0</th>\n",
              "      <td>ENSG00000173110.6</td>\n",
              "      <td>HSPA6</td>\n",
              "      <td>1.831929</td>\n",
              "      <td>1.765574e-14</td>\n",
              "      <td>3.103879e-10</td>\n",
              "      <td>1</td>\n",
              "    </tr>\n",
              "    <tr>\n",
              "      <th>1</th>\n",
              "      <td>ENSG00000123689.5</td>\n",
              "      <td>G0S2</td>\n",
              "      <td>1.506402</td>\n",
              "      <td>1.010386e-11</td>\n",
              "      <td>8.881295e-08</td>\n",
              "      <td>1</td>\n",
              "    </tr>\n",
              "    <tr>\n",
              "      <th>2</th>\n",
              "      <td>ENSG00000204389.7</td>\n",
              "      <td>HSPA1A</td>\n",
              "      <td>1.492569</td>\n",
              "      <td>4.455545e-11</td>\n",
              "      <td>2.610949e-07</td>\n",
              "      <td>1</td>\n",
              "    </tr>\n",
              "    <tr>\n",
              "      <th>3</th>\n",
              "      <td>ENSG00000106211.8</td>\n",
              "      <td>HSPB1</td>\n",
              "      <td>1.296490</td>\n",
              "      <td>3.189502e-10</td>\n",
              "      <td>1.401786e-06</td>\n",
              "      <td>1</td>\n",
              "    </tr>\n",
              "    <tr>\n",
              "      <th>4</th>\n",
              "      <td>ENSG00000137731.8</td>\n",
              "      <td>FXYD2</td>\n",
              "      <td>0.979849</td>\n",
              "      <td>1.237955e-09</td>\n",
              "      <td>3.627207e-06</td>\n",
              "      <td>1</td>\n",
              "    </tr>\n",
              "    <tr>\n",
              "      <th>...</th>\n",
              "      <td>...</td>\n",
              "      <td>...</td>\n",
              "      <td>...</td>\n",
              "      <td>...</td>\n",
              "      <td>...</td>\n",
              "      <td>...</td>\n",
              "    </tr>\n",
              "    <tr>\n",
              "      <th>17575</th>\n",
              "      <td>ENSG00000205639.5</td>\n",
              "      <td>MFSD2B</td>\n",
              "      <td>-0.000115</td>\n",
              "      <td>9.995465e-01</td>\n",
              "      <td>9.997325e-01</td>\n",
              "      <td>1</td>\n",
              "    </tr>\n",
              "    <tr>\n",
              "      <th>17576</th>\n",
              "      <td>ENSG00000259207.3</td>\n",
              "      <td>ITGB3</td>\n",
              "      <td>-0.000162</td>\n",
              "      <td>9.994587e-01</td>\n",
              "      <td>9.997325e-01</td>\n",
              "      <td>1</td>\n",
              "    </tr>\n",
              "    <tr>\n",
              "      <th>17577</th>\n",
              "      <td>ENSG00000132801.5</td>\n",
              "      <td>ZSWIM3</td>\n",
              "      <td>-0.000031</td>\n",
              "      <td>9.996920e-01</td>\n",
              "      <td>9.998058e-01</td>\n",
              "      <td>1</td>\n",
              "    </tr>\n",
              "    <tr>\n",
              "      <th>17578</th>\n",
              "      <td>ENSG00000198712.1</td>\n",
              "      <td>MT-CO2</td>\n",
              "      <td>-0.000014</td>\n",
              "      <td>9.999263e-01</td>\n",
              "      <td>9.999831e-01</td>\n",
              "      <td>1</td>\n",
              "    </tr>\n",
              "    <tr>\n",
              "      <th>17579</th>\n",
              "      <td>ENSG00000100354.15</td>\n",
              "      <td>TNRC6B</td>\n",
              "      <td>0.000001</td>\n",
              "      <td>9.999867e-01</td>\n",
              "      <td>9.999867e-01</td>\n",
              "      <td>1</td>\n",
              "    </tr>\n",
              "  </tbody>\n",
              "</table>\n",
              "<p>17580 rows × 6 columns</p>\n",
              "</div>"
            ],
            "text/plain": [
              "                EnsemblID  symbol  ...          padj  just_one\n",
              "0       ENSG00000173110.6   HSPA6  ...  3.103879e-10         1\n",
              "1       ENSG00000123689.5    G0S2  ...  8.881295e-08         1\n",
              "2       ENSG00000204389.7  HSPA1A  ...  2.610949e-07         1\n",
              "3       ENSG00000106211.8   HSPB1  ...  1.401786e-06         1\n",
              "4       ENSG00000137731.8   FXYD2  ...  3.627207e-06         1\n",
              "...                   ...     ...  ...           ...       ...\n",
              "17575   ENSG00000205639.5  MFSD2B  ...  9.997325e-01         1\n",
              "17576   ENSG00000259207.3   ITGB3  ...  9.997325e-01         1\n",
              "17577   ENSG00000132801.5  ZSWIM3  ...  9.998058e-01         1\n",
              "17578   ENSG00000198712.1  MT-CO2  ...  9.999831e-01         1\n",
              "17579  ENSG00000100354.15  TNRC6B  ...  9.999867e-01         1\n",
              "\n",
              "[17580 rows x 6 columns]"
            ]
          },
          "metadata": {
            "tags": []
          },
          "execution_count": 212
        }
      ]
    },
    {
      "cell_type": "markdown",
      "metadata": {
        "id": "5ctLxHwwxV-w"
      },
      "source": [
        "We can also filter our data based on a number of certain conditions"
      ]
    },
    {
      "cell_type": "code",
      "metadata": {
        "colab": {
          "base_uri": "https://localhost:8080/",
          "height": 419
        },
        "id": "uJQYAzBkD9HO",
        "outputId": "1d0bb777-7f9f-44d8-80eb-ccc1e5429e0f"
      },
      "source": [
        "parkinson_df"
      ],
      "execution_count": 214,
      "outputs": [
        {
          "output_type": "execute_result",
          "data": {
            "text/html": [
              "<div>\n",
              "<style scoped>\n",
              "    .dataframe tbody tr th:only-of-type {\n",
              "        vertical-align: middle;\n",
              "    }\n",
              "\n",
              "    .dataframe tbody tr th {\n",
              "        vertical-align: top;\n",
              "    }\n",
              "\n",
              "    .dataframe thead th {\n",
              "        text-align: right;\n",
              "    }\n",
              "</style>\n",
              "<table border=\"1\" class=\"dataframe\">\n",
              "  <thead>\n",
              "    <tr style=\"text-align: right;\">\n",
              "      <th></th>\n",
              "      <th>EnsemblID</th>\n",
              "      <th>symbol</th>\n",
              "      <th>log2FoldChange</th>\n",
              "      <th>pvalue</th>\n",
              "      <th>padj</th>\n",
              "      <th>padj_add_one</th>\n",
              "      <th>just_one</th>\n",
              "    </tr>\n",
              "  </thead>\n",
              "  <tbody>\n",
              "    <tr>\n",
              "      <th>0</th>\n",
              "      <td>ENSG00000173110.6</td>\n",
              "      <td>HSPA6</td>\n",
              "      <td>1.831929</td>\n",
              "      <td>1.765574e-14</td>\n",
              "      <td>3.103879e-10</td>\n",
              "      <td>5.000000</td>\n",
              "      <td>1</td>\n",
              "    </tr>\n",
              "    <tr>\n",
              "      <th>1</th>\n",
              "      <td>ENSG00000123689.5</td>\n",
              "      <td>G0S2</td>\n",
              "      <td>1.506402</td>\n",
              "      <td>1.010386e-11</td>\n",
              "      <td>8.881295e-08</td>\n",
              "      <td>5.000000</td>\n",
              "      <td>1</td>\n",
              "    </tr>\n",
              "    <tr>\n",
              "      <th>2</th>\n",
              "      <td>ENSG00000204389.7</td>\n",
              "      <td>HSPA1A</td>\n",
              "      <td>1.492569</td>\n",
              "      <td>4.455545e-11</td>\n",
              "      <td>2.610949e-07</td>\n",
              "      <td>5.000000</td>\n",
              "      <td>1</td>\n",
              "    </tr>\n",
              "    <tr>\n",
              "      <th>3</th>\n",
              "      <td>ENSG00000106211.8</td>\n",
              "      <td>HSPB1</td>\n",
              "      <td>1.296490</td>\n",
              "      <td>3.189502e-10</td>\n",
              "      <td>1.401786e-06</td>\n",
              "      <td>5.000001</td>\n",
              "      <td>1</td>\n",
              "    </tr>\n",
              "    <tr>\n",
              "      <th>4</th>\n",
              "      <td>ENSG00000137731.8</td>\n",
              "      <td>FXYD2</td>\n",
              "      <td>0.979849</td>\n",
              "      <td>1.237955e-09</td>\n",
              "      <td>3.627207e-06</td>\n",
              "      <td>5.000004</td>\n",
              "      <td>1</td>\n",
              "    </tr>\n",
              "    <tr>\n",
              "      <th>...</th>\n",
              "      <td>...</td>\n",
              "      <td>...</td>\n",
              "      <td>...</td>\n",
              "      <td>...</td>\n",
              "      <td>...</td>\n",
              "      <td>...</td>\n",
              "      <td>...</td>\n",
              "    </tr>\n",
              "    <tr>\n",
              "      <th>17575</th>\n",
              "      <td>ENSG00000205639.5</td>\n",
              "      <td>MFSD2B</td>\n",
              "      <td>-0.000115</td>\n",
              "      <td>9.995465e-01</td>\n",
              "      <td>9.997325e-01</td>\n",
              "      <td>5.999733</td>\n",
              "      <td>1</td>\n",
              "    </tr>\n",
              "    <tr>\n",
              "      <th>17576</th>\n",
              "      <td>ENSG00000259207.3</td>\n",
              "      <td>ITGB3</td>\n",
              "      <td>-0.000162</td>\n",
              "      <td>9.994587e-01</td>\n",
              "      <td>9.997325e-01</td>\n",
              "      <td>5.999733</td>\n",
              "      <td>1</td>\n",
              "    </tr>\n",
              "    <tr>\n",
              "      <th>17577</th>\n",
              "      <td>ENSG00000132801.5</td>\n",
              "      <td>ZSWIM3</td>\n",
              "      <td>-0.000031</td>\n",
              "      <td>9.996920e-01</td>\n",
              "      <td>9.998058e-01</td>\n",
              "      <td>5.999806</td>\n",
              "      <td>1</td>\n",
              "    </tr>\n",
              "    <tr>\n",
              "      <th>17578</th>\n",
              "      <td>ENSG00000198712.1</td>\n",
              "      <td>MT-CO2</td>\n",
              "      <td>-0.000014</td>\n",
              "      <td>9.999263e-01</td>\n",
              "      <td>9.999831e-01</td>\n",
              "      <td>5.999983</td>\n",
              "      <td>1</td>\n",
              "    </tr>\n",
              "    <tr>\n",
              "      <th>17579</th>\n",
              "      <td>ENSG00000100354.15</td>\n",
              "      <td>TNRC6B</td>\n",
              "      <td>0.000001</td>\n",
              "      <td>9.999867e-01</td>\n",
              "      <td>9.999867e-01</td>\n",
              "      <td>5.999987</td>\n",
              "      <td>1</td>\n",
              "    </tr>\n",
              "  </tbody>\n",
              "</table>\n",
              "<p>17580 rows × 7 columns</p>\n",
              "</div>"
            ],
            "text/plain": [
              "                EnsemblID  symbol  ...  padj_add_one  just_one\n",
              "0       ENSG00000173110.6   HSPA6  ...      5.000000         1\n",
              "1       ENSG00000123689.5    G0S2  ...      5.000000         1\n",
              "2       ENSG00000204389.7  HSPA1A  ...      5.000000         1\n",
              "3       ENSG00000106211.8   HSPB1  ...      5.000001         1\n",
              "4       ENSG00000137731.8   FXYD2  ...      5.000004         1\n",
              "...                   ...     ...  ...           ...       ...\n",
              "17575   ENSG00000205639.5  MFSD2B  ...      5.999733         1\n",
              "17576   ENSG00000259207.3   ITGB3  ...      5.999733         1\n",
              "17577   ENSG00000132801.5  ZSWIM3  ...      5.999806         1\n",
              "17578   ENSG00000198712.1  MT-CO2  ...      5.999983         1\n",
              "17579  ENSG00000100354.15  TNRC6B  ...      5.999987         1\n",
              "\n",
              "[17580 rows x 7 columns]"
            ]
          },
          "metadata": {
            "tags": []
          },
          "execution_count": 214
        }
      ]
    },
    {
      "cell_type": "code",
      "metadata": {
        "id": "6JyBGW63otEd"
      },
      "source": [
        "parkinson_new_df = parkinson_df[parkinson_df[\"padj\"] > 0.05]"
      ],
      "execution_count": 217,
      "outputs": []
    },
    {
      "cell_type": "code",
      "metadata": {
        "colab": {
          "base_uri": "https://localhost:8080/"
        },
        "id": "EFyY4b-DEhRZ",
        "outputId": "3fed2b84-9556-4e1e-9418-f15434cf0758"
      },
      "source": [
        "parkinson_new_df.shape"
      ],
      "execution_count": 219,
      "outputs": [
        {
          "output_type": "execute_result",
          "data": {
            "text/plain": [
              "(16485, 7)"
            ]
          },
          "metadata": {
            "tags": []
          },
          "execution_count": 219
        }
      ]
    },
    {
      "cell_type": "code",
      "metadata": {
        "colab": {
          "base_uri": "https://localhost:8080/",
          "height": 419
        },
        "id": "-zfXOqKEEHKG",
        "outputId": "ee41d21c-8fa4-4716-cc9e-fb0e14cdec11"
      },
      "source": [
        "parkinson_df.query(\"padj > 0.05\")"
      ],
      "execution_count": 216,
      "outputs": [
        {
          "output_type": "execute_result",
          "data": {
            "text/html": [
              "<div>\n",
              "<style scoped>\n",
              "    .dataframe tbody tr th:only-of-type {\n",
              "        vertical-align: middle;\n",
              "    }\n",
              "\n",
              "    .dataframe tbody tr th {\n",
              "        vertical-align: top;\n",
              "    }\n",
              "\n",
              "    .dataframe thead th {\n",
              "        text-align: right;\n",
              "    }\n",
              "</style>\n",
              "<table border=\"1\" class=\"dataframe\">\n",
              "  <thead>\n",
              "    <tr style=\"text-align: right;\">\n",
              "      <th></th>\n",
              "      <th>EnsemblID</th>\n",
              "      <th>symbol</th>\n",
              "      <th>log2FoldChange</th>\n",
              "      <th>pvalue</th>\n",
              "      <th>padj</th>\n",
              "      <th>padj_add_one</th>\n",
              "      <th>just_one</th>\n",
              "    </tr>\n",
              "  </thead>\n",
              "  <tbody>\n",
              "    <tr>\n",
              "      <th>1095</th>\n",
              "      <td>ENSG00000111886.9</td>\n",
              "      <td>GABRR2</td>\n",
              "      <td>0.658469</td>\n",
              "      <td>0.003121</td>\n",
              "      <td>0.050059</td>\n",
              "      <td>5.050059</td>\n",
              "      <td>1</td>\n",
              "    </tr>\n",
              "    <tr>\n",
              "      <th>1096</th>\n",
              "      <td>ENSG00000186364.6</td>\n",
              "      <td>NUDT17</td>\n",
              "      <td>0.335852</td>\n",
              "      <td>0.003128</td>\n",
              "      <td>0.050131</td>\n",
              "      <td>5.050131</td>\n",
              "      <td>1</td>\n",
              "    </tr>\n",
              "    <tr>\n",
              "      <th>1097</th>\n",
              "      <td>ENSG00000124253.9</td>\n",
              "      <td>PCK1</td>\n",
              "      <td>0.697907</td>\n",
              "      <td>0.003143</td>\n",
              "      <td>0.050281</td>\n",
              "      <td>5.050281</td>\n",
              "      <td>1</td>\n",
              "    </tr>\n",
              "    <tr>\n",
              "      <th>1098</th>\n",
              "      <td>ENSG00000248050.1</td>\n",
              "      <td>RP11-422N16.3</td>\n",
              "      <td>-0.621344</td>\n",
              "      <td>0.003143</td>\n",
              "      <td>0.050281</td>\n",
              "      <td>5.050281</td>\n",
              "      <td>1</td>\n",
              "    </tr>\n",
              "    <tr>\n",
              "      <th>1099</th>\n",
              "      <td>ENSG00000240891.2</td>\n",
              "      <td>PLCXD2</td>\n",
              "      <td>-0.698377</td>\n",
              "      <td>0.003159</td>\n",
              "      <td>0.050484</td>\n",
              "      <td>5.050484</td>\n",
              "      <td>1</td>\n",
              "    </tr>\n",
              "    <tr>\n",
              "      <th>...</th>\n",
              "      <td>...</td>\n",
              "      <td>...</td>\n",
              "      <td>...</td>\n",
              "      <td>...</td>\n",
              "      <td>...</td>\n",
              "      <td>...</td>\n",
              "      <td>...</td>\n",
              "    </tr>\n",
              "    <tr>\n",
              "      <th>17575</th>\n",
              "      <td>ENSG00000205639.5</td>\n",
              "      <td>MFSD2B</td>\n",
              "      <td>-0.000115</td>\n",
              "      <td>0.999546</td>\n",
              "      <td>0.999733</td>\n",
              "      <td>5.999733</td>\n",
              "      <td>1</td>\n",
              "    </tr>\n",
              "    <tr>\n",
              "      <th>17576</th>\n",
              "      <td>ENSG00000259207.3</td>\n",
              "      <td>ITGB3</td>\n",
              "      <td>-0.000162</td>\n",
              "      <td>0.999459</td>\n",
              "      <td>0.999733</td>\n",
              "      <td>5.999733</td>\n",
              "      <td>1</td>\n",
              "    </tr>\n",
              "    <tr>\n",
              "      <th>17577</th>\n",
              "      <td>ENSG00000132801.5</td>\n",
              "      <td>ZSWIM3</td>\n",
              "      <td>-0.000031</td>\n",
              "      <td>0.999692</td>\n",
              "      <td>0.999806</td>\n",
              "      <td>5.999806</td>\n",
              "      <td>1</td>\n",
              "    </tr>\n",
              "    <tr>\n",
              "      <th>17578</th>\n",
              "      <td>ENSG00000198712.1</td>\n",
              "      <td>MT-CO2</td>\n",
              "      <td>-0.000014</td>\n",
              "      <td>0.999926</td>\n",
              "      <td>0.999983</td>\n",
              "      <td>5.999983</td>\n",
              "      <td>1</td>\n",
              "    </tr>\n",
              "    <tr>\n",
              "      <th>17579</th>\n",
              "      <td>ENSG00000100354.15</td>\n",
              "      <td>TNRC6B</td>\n",
              "      <td>0.000001</td>\n",
              "      <td>0.999987</td>\n",
              "      <td>0.999987</td>\n",
              "      <td>5.999987</td>\n",
              "      <td>1</td>\n",
              "    </tr>\n",
              "  </tbody>\n",
              "</table>\n",
              "<p>16485 rows × 7 columns</p>\n",
              "</div>"
            ],
            "text/plain": [
              "                EnsemblID         symbol  ...  padj_add_one  just_one\n",
              "1095    ENSG00000111886.9         GABRR2  ...      5.050059         1\n",
              "1096    ENSG00000186364.6         NUDT17  ...      5.050131         1\n",
              "1097    ENSG00000124253.9           PCK1  ...      5.050281         1\n",
              "1098    ENSG00000248050.1  RP11-422N16.3  ...      5.050281         1\n",
              "1099    ENSG00000240891.2         PLCXD2  ...      5.050484         1\n",
              "...                   ...            ...  ...           ...       ...\n",
              "17575   ENSG00000205639.5         MFSD2B  ...      5.999733         1\n",
              "17576   ENSG00000259207.3          ITGB3  ...      5.999733         1\n",
              "17577   ENSG00000132801.5         ZSWIM3  ...      5.999806         1\n",
              "17578   ENSG00000198712.1         MT-CO2  ...      5.999983         1\n",
              "17579  ENSG00000100354.15         TNRC6B  ...      5.999987         1\n",
              "\n",
              "[16485 rows x 7 columns]"
            ]
          },
          "metadata": {
            "tags": []
          },
          "execution_count": 216
        }
      ]
    },
    {
      "cell_type": "code",
      "metadata": {
        "id": "gf2YV1aQomnx"
      },
      "source": [
        "parkinson_df[parkinson_df[\"padj\"] > 0.05]"
      ],
      "execution_count": null,
      "outputs": []
    },
    {
      "cell_type": "markdown",
      "metadata": {
        "id": "HarQI-KOxa2X"
      },
      "source": [
        "We can use multiple conditions to filter our data"
      ]
    },
    {
      "cell_type": "code",
      "metadata": {
        "colab": {
          "base_uri": "https://localhost:8080/",
          "height": 419
        },
        "id": "L7Z5Msp7oQ_M",
        "outputId": "83ee0373-3158-470b-abdb-0f9fec2c9c13"
      },
      "source": [
        "parkinson_df[(parkinson_df[\"padj\"] < 0.05) & (parkinson_df[\"log2FoldChange\"] < 0.08)]"
      ],
      "execution_count": 221,
      "outputs": [
        {
          "output_type": "execute_result",
          "data": {
            "text/html": [
              "<div>\n",
              "<style scoped>\n",
              "    .dataframe tbody tr th:only-of-type {\n",
              "        vertical-align: middle;\n",
              "    }\n",
              "\n",
              "    .dataframe tbody tr th {\n",
              "        vertical-align: top;\n",
              "    }\n",
              "\n",
              "    .dataframe thead th {\n",
              "        text-align: right;\n",
              "    }\n",
              "</style>\n",
              "<table border=\"1\" class=\"dataframe\">\n",
              "  <thead>\n",
              "    <tr style=\"text-align: right;\">\n",
              "      <th></th>\n",
              "      <th>EnsemblID</th>\n",
              "      <th>symbol</th>\n",
              "      <th>log2FoldChange</th>\n",
              "      <th>pvalue</th>\n",
              "      <th>padj</th>\n",
              "      <th>padj_add_one</th>\n",
              "      <th>just_one</th>\n",
              "    </tr>\n",
              "  </thead>\n",
              "  <tbody>\n",
              "    <tr>\n",
              "      <th>18</th>\n",
              "      <td>ENSG00000086570.8</td>\n",
              "      <td>FAT2</td>\n",
              "      <td>-1.230213</td>\n",
              "      <td>1.658167e-07</td>\n",
              "      <td>0.000153</td>\n",
              "      <td>5.000153</td>\n",
              "      <td>1</td>\n",
              "    </tr>\n",
              "    <tr>\n",
              "      <th>19</th>\n",
              "      <td>ENSG00000008086.6</td>\n",
              "      <td>CDKL5</td>\n",
              "      <td>-1.147549</td>\n",
              "      <td>2.262252e-07</td>\n",
              "      <td>0.000189</td>\n",
              "      <td>5.000189</td>\n",
              "      <td>1</td>\n",
              "    </tr>\n",
              "    <tr>\n",
              "      <th>20</th>\n",
              "      <td>ENSG00000145863.6</td>\n",
              "      <td>GABRA6</td>\n",
              "      <td>-1.227237</td>\n",
              "      <td>2.200256e-07</td>\n",
              "      <td>0.000189</td>\n",
              "      <td>5.000189</td>\n",
              "      <td>1</td>\n",
              "    </tr>\n",
              "    <tr>\n",
              "      <th>22</th>\n",
              "      <td>ENSG00000180182.5</td>\n",
              "      <td>MED14</td>\n",
              "      <td>-0.419508</td>\n",
              "      <td>3.043612e-07</td>\n",
              "      <td>0.000233</td>\n",
              "      <td>5.000233</td>\n",
              "      <td>1</td>\n",
              "    </tr>\n",
              "    <tr>\n",
              "      <th>29</th>\n",
              "      <td>ENSG00000089050.10</td>\n",
              "      <td>RBBP9</td>\n",
              "      <td>-0.336340</td>\n",
              "      <td>7.563407e-07</td>\n",
              "      <td>0.000443</td>\n",
              "      <td>5.000443</td>\n",
              "      <td>1</td>\n",
              "    </tr>\n",
              "    <tr>\n",
              "      <th>...</th>\n",
              "      <td>...</td>\n",
              "      <td>...</td>\n",
              "      <td>...</td>\n",
              "      <td>...</td>\n",
              "      <td>...</td>\n",
              "      <td>...</td>\n",
              "      <td>...</td>\n",
              "    </tr>\n",
              "    <tr>\n",
              "      <th>1089</th>\n",
              "      <td>ENSG00000131725.9</td>\n",
              "      <td>WDR44</td>\n",
              "      <td>-0.292800</td>\n",
              "      <td>3.091701e-03</td>\n",
              "      <td>0.049839</td>\n",
              "      <td>5.049839</td>\n",
              "      <td>1</td>\n",
              "    </tr>\n",
              "    <tr>\n",
              "      <th>1090</th>\n",
              "      <td>ENSG00000155008.9</td>\n",
              "      <td>APOOL</td>\n",
              "      <td>-0.560198</td>\n",
              "      <td>3.100514e-03</td>\n",
              "      <td>0.049839</td>\n",
              "      <td>5.049839</td>\n",
              "      <td>1</td>\n",
              "    </tr>\n",
              "    <tr>\n",
              "      <th>1091</th>\n",
              "      <td>ENSG00000198440.5</td>\n",
              "      <td>ZNF583</td>\n",
              "      <td>-0.200195</td>\n",
              "      <td>3.098000e-03</td>\n",
              "      <td>0.049839</td>\n",
              "      <td>5.049839</td>\n",
              "      <td>1</td>\n",
              "    </tr>\n",
              "    <tr>\n",
              "      <th>1092</th>\n",
              "      <td>ENSG00000211460.7</td>\n",
              "      <td>TSN</td>\n",
              "      <td>-0.148605</td>\n",
              "      <td>3.101463e-03</td>\n",
              "      <td>0.049839</td>\n",
              "      <td>5.049839</td>\n",
              "      <td>1</td>\n",
              "    </tr>\n",
              "    <tr>\n",
              "      <th>1094</th>\n",
              "      <td>ENSG00000120500.13</td>\n",
              "      <td>ARR3</td>\n",
              "      <td>-0.551623</td>\n",
              "      <td>3.104532e-03</td>\n",
              "      <td>0.049843</td>\n",
              "      <td>5.049843</td>\n",
              "      <td>1</td>\n",
              "    </tr>\n",
              "  </tbody>\n",
              "</table>\n",
              "<p>525 rows × 7 columns</p>\n",
              "</div>"
            ],
            "text/plain": [
              "               EnsemblID  symbol  ...  padj_add_one  just_one\n",
              "18     ENSG00000086570.8    FAT2  ...      5.000153         1\n",
              "19     ENSG00000008086.6   CDKL5  ...      5.000189         1\n",
              "20     ENSG00000145863.6  GABRA6  ...      5.000189         1\n",
              "22     ENSG00000180182.5   MED14  ...      5.000233         1\n",
              "29    ENSG00000089050.10   RBBP9  ...      5.000443         1\n",
              "...                  ...     ...  ...           ...       ...\n",
              "1089   ENSG00000131725.9   WDR44  ...      5.049839         1\n",
              "1090   ENSG00000155008.9   APOOL  ...      5.049839         1\n",
              "1091   ENSG00000198440.5  ZNF583  ...      5.049839         1\n",
              "1092   ENSG00000211460.7     TSN  ...      5.049839         1\n",
              "1094  ENSG00000120500.13    ARR3  ...      5.049843         1\n",
              "\n",
              "[525 rows x 7 columns]"
            ]
          },
          "metadata": {
            "tags": []
          },
          "execution_count": 221
        }
      ]
    },
    {
      "cell_type": "code",
      "metadata": {
        "colab": {
          "base_uri": "https://localhost:8080/",
          "height": 80
        },
        "id": "-lrFrOkEFE7i",
        "outputId": "c76b8820-1e54-4158-d6f2-bba2a56190ed"
      },
      "source": [
        "parkinson_df[parkinson_df[\"symbol\"] == \"MED14\"]"
      ],
      "execution_count": 223,
      "outputs": [
        {
          "output_type": "execute_result",
          "data": {
            "text/html": [
              "<div>\n",
              "<style scoped>\n",
              "    .dataframe tbody tr th:only-of-type {\n",
              "        vertical-align: middle;\n",
              "    }\n",
              "\n",
              "    .dataframe tbody tr th {\n",
              "        vertical-align: top;\n",
              "    }\n",
              "\n",
              "    .dataframe thead th {\n",
              "        text-align: right;\n",
              "    }\n",
              "</style>\n",
              "<table border=\"1\" class=\"dataframe\">\n",
              "  <thead>\n",
              "    <tr style=\"text-align: right;\">\n",
              "      <th></th>\n",
              "      <th>EnsemblID</th>\n",
              "      <th>symbol</th>\n",
              "      <th>log2FoldChange</th>\n",
              "      <th>pvalue</th>\n",
              "      <th>padj</th>\n",
              "      <th>padj_add_one</th>\n",
              "      <th>just_one</th>\n",
              "    </tr>\n",
              "  </thead>\n",
              "  <tbody>\n",
              "    <tr>\n",
              "      <th>22</th>\n",
              "      <td>ENSG00000180182.5</td>\n",
              "      <td>MED14</td>\n",
              "      <td>-0.419508</td>\n",
              "      <td>3.043612e-07</td>\n",
              "      <td>0.000233</td>\n",
              "      <td>5.000233</td>\n",
              "      <td>1</td>\n",
              "    </tr>\n",
              "  </tbody>\n",
              "</table>\n",
              "</div>"
            ],
            "text/plain": [
              "            EnsemblID symbol  log2FoldChange  ...      padj  padj_add_one  just_one\n",
              "22  ENSG00000180182.5  MED14       -0.419508  ...  0.000233      5.000233         1\n",
              "\n",
              "[1 rows x 7 columns]"
            ]
          },
          "metadata": {
            "tags": []
          },
          "execution_count": 223
        }
      ]
    },
    {
      "cell_type": "code",
      "metadata": {
        "colab": {
          "base_uri": "https://localhost:8080/",
          "height": 80
        },
        "id": "V3F7UB3MFPqy",
        "outputId": "793f6408-b293-41f2-bb8a-078356e84787"
      },
      "source": [
        "parkinson_df.query(\"symbol == 'MED14'\")"
      ],
      "execution_count": 225,
      "outputs": [
        {
          "output_type": "execute_result",
          "data": {
            "text/html": [
              "<div>\n",
              "<style scoped>\n",
              "    .dataframe tbody tr th:only-of-type {\n",
              "        vertical-align: middle;\n",
              "    }\n",
              "\n",
              "    .dataframe tbody tr th {\n",
              "        vertical-align: top;\n",
              "    }\n",
              "\n",
              "    .dataframe thead th {\n",
              "        text-align: right;\n",
              "    }\n",
              "</style>\n",
              "<table border=\"1\" class=\"dataframe\">\n",
              "  <thead>\n",
              "    <tr style=\"text-align: right;\">\n",
              "      <th></th>\n",
              "      <th>EnsemblID</th>\n",
              "      <th>symbol</th>\n",
              "      <th>log2FoldChange</th>\n",
              "      <th>pvalue</th>\n",
              "      <th>padj</th>\n",
              "      <th>padj_add_one</th>\n",
              "      <th>just_one</th>\n",
              "    </tr>\n",
              "  </thead>\n",
              "  <tbody>\n",
              "    <tr>\n",
              "      <th>22</th>\n",
              "      <td>ENSG00000180182.5</td>\n",
              "      <td>MED14</td>\n",
              "      <td>-0.419508</td>\n",
              "      <td>3.043612e-07</td>\n",
              "      <td>0.000233</td>\n",
              "      <td>5.000233</td>\n",
              "      <td>1</td>\n",
              "    </tr>\n",
              "  </tbody>\n",
              "</table>\n",
              "</div>"
            ],
            "text/plain": [
              "            EnsemblID symbol  log2FoldChange  ...      padj  padj_add_one  just_one\n",
              "22  ENSG00000180182.5  MED14       -0.419508  ...  0.000233      5.000233         1\n",
              "\n",
              "[1 rows x 7 columns]"
            ]
          },
          "metadata": {
            "tags": []
          },
          "execution_count": 225
        }
      ]
    },
    {
      "cell_type": "code",
      "metadata": {
        "colab": {
          "base_uri": "https://localhost:8080/",
          "height": 419
        },
        "id": "1O-u8NDjE4xl",
        "outputId": "d92de0e9-6997-4def-d313-a965315b983d"
      },
      "source": [
        "parkinson_df.query(\"padj > 0.05 and log2FoldChange < 0.08\")"
      ],
      "execution_count": 220,
      "outputs": [
        {
          "output_type": "execute_result",
          "data": {
            "text/html": [
              "<div>\n",
              "<style scoped>\n",
              "    .dataframe tbody tr th:only-of-type {\n",
              "        vertical-align: middle;\n",
              "    }\n",
              "\n",
              "    .dataframe tbody tr th {\n",
              "        vertical-align: top;\n",
              "    }\n",
              "\n",
              "    .dataframe thead th {\n",
              "        text-align: right;\n",
              "    }\n",
              "</style>\n",
              "<table border=\"1\" class=\"dataframe\">\n",
              "  <thead>\n",
              "    <tr style=\"text-align: right;\">\n",
              "      <th></th>\n",
              "      <th>EnsemblID</th>\n",
              "      <th>symbol</th>\n",
              "      <th>log2FoldChange</th>\n",
              "      <th>pvalue</th>\n",
              "      <th>padj</th>\n",
              "      <th>padj_add_one</th>\n",
              "      <th>just_one</th>\n",
              "    </tr>\n",
              "  </thead>\n",
              "  <tbody>\n",
              "    <tr>\n",
              "      <th>1098</th>\n",
              "      <td>ENSG00000248050.1</td>\n",
              "      <td>RP11-422N16.3</td>\n",
              "      <td>-0.621344</td>\n",
              "      <td>0.003143</td>\n",
              "      <td>0.050281</td>\n",
              "      <td>5.050281</td>\n",
              "      <td>1</td>\n",
              "    </tr>\n",
              "    <tr>\n",
              "      <th>1099</th>\n",
              "      <td>ENSG00000240891.2</td>\n",
              "      <td>PLCXD2</td>\n",
              "      <td>-0.698377</td>\n",
              "      <td>0.003159</td>\n",
              "      <td>0.050484</td>\n",
              "      <td>5.050484</td>\n",
              "      <td>1</td>\n",
              "    </tr>\n",
              "    <tr>\n",
              "      <th>1103</th>\n",
              "      <td>ENSG00000116455.9</td>\n",
              "      <td>WDR77</td>\n",
              "      <td>-0.209602</td>\n",
              "      <td>0.003183</td>\n",
              "      <td>0.050678</td>\n",
              "      <td>5.050678</td>\n",
              "      <td>1</td>\n",
              "    </tr>\n",
              "    <tr>\n",
              "      <th>1105</th>\n",
              "      <td>ENSG00000248458.2</td>\n",
              "      <td>AL139147.1</td>\n",
              "      <td>-0.702578</td>\n",
              "      <td>0.003197</td>\n",
              "      <td>0.050812</td>\n",
              "      <td>5.050812</td>\n",
              "      <td>1</td>\n",
              "    </tr>\n",
              "    <tr>\n",
              "      <th>1107</th>\n",
              "      <td>ENSG00000131503.16</td>\n",
              "      <td>ANKHD1</td>\n",
              "      <td>-0.394001</td>\n",
              "      <td>0.003216</td>\n",
              "      <td>0.050985</td>\n",
              "      <td>5.050985</td>\n",
              "      <td>1</td>\n",
              "    </tr>\n",
              "    <tr>\n",
              "      <th>...</th>\n",
              "      <td>...</td>\n",
              "      <td>...</td>\n",
              "      <td>...</td>\n",
              "      <td>...</td>\n",
              "      <td>...</td>\n",
              "      <td>...</td>\n",
              "      <td>...</td>\n",
              "    </tr>\n",
              "    <tr>\n",
              "      <th>17575</th>\n",
              "      <td>ENSG00000205639.5</td>\n",
              "      <td>MFSD2B</td>\n",
              "      <td>-0.000115</td>\n",
              "      <td>0.999546</td>\n",
              "      <td>0.999733</td>\n",
              "      <td>5.999733</td>\n",
              "      <td>1</td>\n",
              "    </tr>\n",
              "    <tr>\n",
              "      <th>17576</th>\n",
              "      <td>ENSG00000259207.3</td>\n",
              "      <td>ITGB3</td>\n",
              "      <td>-0.000162</td>\n",
              "      <td>0.999459</td>\n",
              "      <td>0.999733</td>\n",
              "      <td>5.999733</td>\n",
              "      <td>1</td>\n",
              "    </tr>\n",
              "    <tr>\n",
              "      <th>17577</th>\n",
              "      <td>ENSG00000132801.5</td>\n",
              "      <td>ZSWIM3</td>\n",
              "      <td>-0.000031</td>\n",
              "      <td>0.999692</td>\n",
              "      <td>0.999806</td>\n",
              "      <td>5.999806</td>\n",
              "      <td>1</td>\n",
              "    </tr>\n",
              "    <tr>\n",
              "      <th>17578</th>\n",
              "      <td>ENSG00000198712.1</td>\n",
              "      <td>MT-CO2</td>\n",
              "      <td>-0.000014</td>\n",
              "      <td>0.999926</td>\n",
              "      <td>0.999983</td>\n",
              "      <td>5.999983</td>\n",
              "      <td>1</td>\n",
              "    </tr>\n",
              "    <tr>\n",
              "      <th>17579</th>\n",
              "      <td>ENSG00000100354.15</td>\n",
              "      <td>TNRC6B</td>\n",
              "      <td>0.000001</td>\n",
              "      <td>0.999987</td>\n",
              "      <td>0.999987</td>\n",
              "      <td>5.999987</td>\n",
              "      <td>1</td>\n",
              "    </tr>\n",
              "  </tbody>\n",
              "</table>\n",
              "<p>11787 rows × 7 columns</p>\n",
              "</div>"
            ],
            "text/plain": [
              "                EnsemblID         symbol  ...  padj_add_one  just_one\n",
              "1098    ENSG00000248050.1  RP11-422N16.3  ...      5.050281         1\n",
              "1099    ENSG00000240891.2         PLCXD2  ...      5.050484         1\n",
              "1103    ENSG00000116455.9          WDR77  ...      5.050678         1\n",
              "1105    ENSG00000248458.2     AL139147.1  ...      5.050812         1\n",
              "1107   ENSG00000131503.16         ANKHD1  ...      5.050985         1\n",
              "...                   ...            ...  ...           ...       ...\n",
              "17575   ENSG00000205639.5         MFSD2B  ...      5.999733         1\n",
              "17576   ENSG00000259207.3          ITGB3  ...      5.999733         1\n",
              "17577   ENSG00000132801.5         ZSWIM3  ...      5.999806         1\n",
              "17578   ENSG00000198712.1         MT-CO2  ...      5.999983         1\n",
              "17579  ENSG00000100354.15         TNRC6B  ...      5.999987         1\n",
              "\n",
              "[11787 rows x 7 columns]"
            ]
          },
          "metadata": {
            "tags": []
          },
          "execution_count": 220
        }
      ]
    },
    {
      "cell_type": "code",
      "metadata": {
        "id": "eRR4CksSpKlX"
      },
      "source": [
        "parkinson_df.loc[200:250, \"symbol\"]"
      ],
      "execution_count": null,
      "outputs": []
    },
    {
      "cell_type": "code",
      "metadata": {
        "id": "ygrGsB_yrVkB"
      },
      "source": [
        "parkinson_df[parkinson_df[\"symbol\"] == \"WBP1L\"]"
      ],
      "execution_count": null,
      "outputs": []
    },
    {
      "cell_type": "markdown",
      "metadata": {
        "id": "zJqNWfNfxiHK"
      },
      "source": [
        "We can use string methods for column with string data type"
      ]
    },
    {
      "cell_type": "code",
      "metadata": {
        "colab": {
          "base_uri": "https://localhost:8080/"
        },
        "id": "ZwQYtvgzrnkS",
        "outputId": "a80a2694-50ea-4313-b42f-84ba7f10f789"
      },
      "source": [
        "parkinson_df[\"symbol\"].str.lower()"
      ],
      "execution_count": 227,
      "outputs": [
        {
          "output_type": "execute_result",
          "data": {
            "text/plain": [
              "0         hspa6\n",
              "1          g0s2\n",
              "2        hspa1a\n",
              "3         hspb1\n",
              "4         fxyd2\n",
              "          ...  \n",
              "17575    mfsd2b\n",
              "17576     itgb3\n",
              "17577    zswim3\n",
              "17578    mt-co2\n",
              "17579    tnrc6b\n",
              "Name: symbol, Length: 17580, dtype: object"
            ]
          },
          "metadata": {
            "tags": []
          },
          "execution_count": 227
        }
      ]
    },
    {
      "cell_type": "code",
      "metadata": {
        "colab": {
          "base_uri": "https://localhost:8080/"
        },
        "id": "4clOmWWorqkv",
        "outputId": "d9b6cbd6-4beb-4560-f07b-13d2a2641e80"
      },
      "source": [
        "parkinson_df[\"symbol\"].str.capitalize()"
      ],
      "execution_count": 228,
      "outputs": [
        {
          "output_type": "execute_result",
          "data": {
            "text/plain": [
              "0         Hspa6\n",
              "1          G0s2\n",
              "2        Hspa1a\n",
              "3         Hspb1\n",
              "4         Fxyd2\n",
              "          ...  \n",
              "17575    Mfsd2b\n",
              "17576     Itgb3\n",
              "17577    Zswim3\n",
              "17578    Mt-co2\n",
              "17579    Tnrc6b\n",
              "Name: symbol, Length: 17580, dtype: object"
            ]
          },
          "metadata": {
            "tags": []
          },
          "execution_count": 228
        }
      ]
    },
    {
      "cell_type": "markdown",
      "metadata": {
        "id": "kgvvX2k8xp7Y"
      },
      "source": [
        "We can use string method to filter too"
      ]
    },
    {
      "cell_type": "code",
      "metadata": {
        "colab": {
          "base_uri": "https://localhost:8080/",
          "height": 419
        },
        "id": "Ou_pWoZCGEdV",
        "outputId": "c6970ff3-a0e0-4cc0-e973-301241698a3c"
      },
      "source": [
        "parkinson_df[parkinson_df[\"EnsemblID\"].str.endswith(\".5\")].reset_index(drop=True)"
      ],
      "execution_count": 233,
      "outputs": [
        {
          "output_type": "execute_result",
          "data": {
            "text/html": [
              "<div>\n",
              "<style scoped>\n",
              "    .dataframe tbody tr th:only-of-type {\n",
              "        vertical-align: middle;\n",
              "    }\n",
              "\n",
              "    .dataframe tbody tr th {\n",
              "        vertical-align: top;\n",
              "    }\n",
              "\n",
              "    .dataframe thead th {\n",
              "        text-align: right;\n",
              "    }\n",
              "</style>\n",
              "<table border=\"1\" class=\"dataframe\">\n",
              "  <thead>\n",
              "    <tr style=\"text-align: right;\">\n",
              "      <th></th>\n",
              "      <th>EnsemblID</th>\n",
              "      <th>symbol</th>\n",
              "      <th>log2FoldChange</th>\n",
              "      <th>pvalue</th>\n",
              "      <th>padj</th>\n",
              "      <th>padj_add_one</th>\n",
              "      <th>just_one</th>\n",
              "    </tr>\n",
              "  </thead>\n",
              "  <tbody>\n",
              "    <tr>\n",
              "      <th>0</th>\n",
              "      <td>ENSG00000123689.5</td>\n",
              "      <td>G0S2</td>\n",
              "      <td>1.506402</td>\n",
              "      <td>1.010386e-11</td>\n",
              "      <td>8.881295e-08</td>\n",
              "      <td>5.000000</td>\n",
              "      <td>1</td>\n",
              "    </tr>\n",
              "    <tr>\n",
              "      <th>1</th>\n",
              "      <td>ENSG00000152049.5</td>\n",
              "      <td>KCNE4</td>\n",
              "      <td>1.309400</td>\n",
              "      <td>1.200451e-09</td>\n",
              "      <td>3.627207e-06</td>\n",
              "      <td>5.000004</td>\n",
              "      <td>1</td>\n",
              "    </tr>\n",
              "    <tr>\n",
              "      <th>2</th>\n",
              "      <td>ENSG00000204388.5</td>\n",
              "      <td>HSPA1B</td>\n",
              "      <td>1.285557</td>\n",
              "      <td>2.960042e-09</td>\n",
              "      <td>6.504691e-06</td>\n",
              "      <td>5.000007</td>\n",
              "      <td>1</td>\n",
              "    </tr>\n",
              "    <tr>\n",
              "      <th>3</th>\n",
              "      <td>ENSG00000116096.5</td>\n",
              "      <td>SPR</td>\n",
              "      <td>0.813681</td>\n",
              "      <td>1.075761e-07</td>\n",
              "      <td>1.087368e-04</td>\n",
              "      <td>5.000109</td>\n",
              "      <td>1</td>\n",
              "    </tr>\n",
              "    <tr>\n",
              "      <th>4</th>\n",
              "      <td>ENSG00000173991.5</td>\n",
              "      <td>TCAP</td>\n",
              "      <td>0.879490</td>\n",
              "      <td>1.113346e-07</td>\n",
              "      <td>1.087368e-04</td>\n",
              "      <td>5.000109</td>\n",
              "      <td>1</td>\n",
              "    </tr>\n",
              "    <tr>\n",
              "      <th>...</th>\n",
              "      <td>...</td>\n",
              "      <td>...</td>\n",
              "      <td>...</td>\n",
              "      <td>...</td>\n",
              "      <td>...</td>\n",
              "      <td>...</td>\n",
              "      <td>...</td>\n",
              "    </tr>\n",
              "    <tr>\n",
              "      <th>1541</th>\n",
              "      <td>ENSG00000115290.5</td>\n",
              "      <td>GRB14</td>\n",
              "      <td>-0.000890</td>\n",
              "      <td>9.958981e-01</td>\n",
              "      <td>9.981936e-01</td>\n",
              "      <td>5.998194</td>\n",
              "      <td>1</td>\n",
              "    </tr>\n",
              "    <tr>\n",
              "      <th>1542</th>\n",
              "      <td>ENSG00000203817.5</td>\n",
              "      <td>FAM72C</td>\n",
              "      <td>-0.000966</td>\n",
              "      <td>9.965418e-01</td>\n",
              "      <td>9.984728e-01</td>\n",
              "      <td>5.998473</td>\n",
              "      <td>1</td>\n",
              "    </tr>\n",
              "    <tr>\n",
              "      <th>1543</th>\n",
              "      <td>ENSG00000188033.5</td>\n",
              "      <td>ZNF490</td>\n",
              "      <td>0.000378</td>\n",
              "      <td>9.981684e-01</td>\n",
              "      <td>9.991635e-01</td>\n",
              "      <td>5.999163</td>\n",
              "      <td>1</td>\n",
              "    </tr>\n",
              "    <tr>\n",
              "      <th>1544</th>\n",
              "      <td>ENSG00000205639.5</td>\n",
              "      <td>MFSD2B</td>\n",
              "      <td>-0.000115</td>\n",
              "      <td>9.995465e-01</td>\n",
              "      <td>9.997325e-01</td>\n",
              "      <td>5.999733</td>\n",
              "      <td>1</td>\n",
              "    </tr>\n",
              "    <tr>\n",
              "      <th>1545</th>\n",
              "      <td>ENSG00000132801.5</td>\n",
              "      <td>ZSWIM3</td>\n",
              "      <td>-0.000031</td>\n",
              "      <td>9.996920e-01</td>\n",
              "      <td>9.998058e-01</td>\n",
              "      <td>5.999806</td>\n",
              "      <td>1</td>\n",
              "    </tr>\n",
              "  </tbody>\n",
              "</table>\n",
              "<p>1546 rows × 7 columns</p>\n",
              "</div>"
            ],
            "text/plain": [
              "              EnsemblID  symbol  ...  padj_add_one  just_one\n",
              "0     ENSG00000123689.5    G0S2  ...      5.000000         1\n",
              "1     ENSG00000152049.5   KCNE4  ...      5.000004         1\n",
              "2     ENSG00000204388.5  HSPA1B  ...      5.000007         1\n",
              "3     ENSG00000116096.5     SPR  ...      5.000109         1\n",
              "4     ENSG00000173991.5    TCAP  ...      5.000109         1\n",
              "...                 ...     ...  ...           ...       ...\n",
              "1541  ENSG00000115290.5   GRB14  ...      5.998194         1\n",
              "1542  ENSG00000203817.5  FAM72C  ...      5.998473         1\n",
              "1543  ENSG00000188033.5  ZNF490  ...      5.999163         1\n",
              "1544  ENSG00000205639.5  MFSD2B  ...      5.999733         1\n",
              "1545  ENSG00000132801.5  ZSWIM3  ...      5.999806         1\n",
              "\n",
              "[1546 rows x 7 columns]"
            ]
          },
          "metadata": {
            "tags": []
          },
          "execution_count": 233
        }
      ]
    },
    {
      "cell_type": "code",
      "metadata": {
        "id": "xoUlIQCZruw-"
      },
      "source": [
        "parkinson_df[parkinson_df[\"EnsemblID\"].str.endswith(\".5\")]"
      ],
      "execution_count": null,
      "outputs": []
    },
    {
      "cell_type": "code",
      "metadata": {
        "colab": {
          "base_uri": "https://localhost:8080/",
          "height": 419
        },
        "id": "GgQfukDSF76G",
        "outputId": "0c857675-b663-40c3-a555-b2286c9c1176"
      },
      "source": [
        "parkinson_df"
      ],
      "execution_count": 229,
      "outputs": [
        {
          "output_type": "execute_result",
          "data": {
            "text/html": [
              "<div>\n",
              "<style scoped>\n",
              "    .dataframe tbody tr th:only-of-type {\n",
              "        vertical-align: middle;\n",
              "    }\n",
              "\n",
              "    .dataframe tbody tr th {\n",
              "        vertical-align: top;\n",
              "    }\n",
              "\n",
              "    .dataframe thead th {\n",
              "        text-align: right;\n",
              "    }\n",
              "</style>\n",
              "<table border=\"1\" class=\"dataframe\">\n",
              "  <thead>\n",
              "    <tr style=\"text-align: right;\">\n",
              "      <th></th>\n",
              "      <th>EnsemblID</th>\n",
              "      <th>symbol</th>\n",
              "      <th>log2FoldChange</th>\n",
              "      <th>pvalue</th>\n",
              "      <th>padj</th>\n",
              "      <th>padj_add_one</th>\n",
              "      <th>just_one</th>\n",
              "    </tr>\n",
              "  </thead>\n",
              "  <tbody>\n",
              "    <tr>\n",
              "      <th>0</th>\n",
              "      <td>ENSG00000173110.6</td>\n",
              "      <td>HSPA6</td>\n",
              "      <td>1.831929</td>\n",
              "      <td>1.765574e-14</td>\n",
              "      <td>3.103879e-10</td>\n",
              "      <td>5.000000</td>\n",
              "      <td>1</td>\n",
              "    </tr>\n",
              "    <tr>\n",
              "      <th>1</th>\n",
              "      <td>ENSG00000123689.5</td>\n",
              "      <td>G0S2</td>\n",
              "      <td>1.506402</td>\n",
              "      <td>1.010386e-11</td>\n",
              "      <td>8.881295e-08</td>\n",
              "      <td>5.000000</td>\n",
              "      <td>1</td>\n",
              "    </tr>\n",
              "    <tr>\n",
              "      <th>2</th>\n",
              "      <td>ENSG00000204389.7</td>\n",
              "      <td>HSPA1A</td>\n",
              "      <td>1.492569</td>\n",
              "      <td>4.455545e-11</td>\n",
              "      <td>2.610949e-07</td>\n",
              "      <td>5.000000</td>\n",
              "      <td>1</td>\n",
              "    </tr>\n",
              "    <tr>\n",
              "      <th>3</th>\n",
              "      <td>ENSG00000106211.8</td>\n",
              "      <td>HSPB1</td>\n",
              "      <td>1.296490</td>\n",
              "      <td>3.189502e-10</td>\n",
              "      <td>1.401786e-06</td>\n",
              "      <td>5.000001</td>\n",
              "      <td>1</td>\n",
              "    </tr>\n",
              "    <tr>\n",
              "      <th>4</th>\n",
              "      <td>ENSG00000137731.8</td>\n",
              "      <td>FXYD2</td>\n",
              "      <td>0.979849</td>\n",
              "      <td>1.237955e-09</td>\n",
              "      <td>3.627207e-06</td>\n",
              "      <td>5.000004</td>\n",
              "      <td>1</td>\n",
              "    </tr>\n",
              "    <tr>\n",
              "      <th>...</th>\n",
              "      <td>...</td>\n",
              "      <td>...</td>\n",
              "      <td>...</td>\n",
              "      <td>...</td>\n",
              "      <td>...</td>\n",
              "      <td>...</td>\n",
              "      <td>...</td>\n",
              "    </tr>\n",
              "    <tr>\n",
              "      <th>17575</th>\n",
              "      <td>ENSG00000205639.5</td>\n",
              "      <td>MFSD2B</td>\n",
              "      <td>-0.000115</td>\n",
              "      <td>9.995465e-01</td>\n",
              "      <td>9.997325e-01</td>\n",
              "      <td>5.999733</td>\n",
              "      <td>1</td>\n",
              "    </tr>\n",
              "    <tr>\n",
              "      <th>17576</th>\n",
              "      <td>ENSG00000259207.3</td>\n",
              "      <td>ITGB3</td>\n",
              "      <td>-0.000162</td>\n",
              "      <td>9.994587e-01</td>\n",
              "      <td>9.997325e-01</td>\n",
              "      <td>5.999733</td>\n",
              "      <td>1</td>\n",
              "    </tr>\n",
              "    <tr>\n",
              "      <th>17577</th>\n",
              "      <td>ENSG00000132801.5</td>\n",
              "      <td>ZSWIM3</td>\n",
              "      <td>-0.000031</td>\n",
              "      <td>9.996920e-01</td>\n",
              "      <td>9.998058e-01</td>\n",
              "      <td>5.999806</td>\n",
              "      <td>1</td>\n",
              "    </tr>\n",
              "    <tr>\n",
              "      <th>17578</th>\n",
              "      <td>ENSG00000198712.1</td>\n",
              "      <td>MT-CO2</td>\n",
              "      <td>-0.000014</td>\n",
              "      <td>9.999263e-01</td>\n",
              "      <td>9.999831e-01</td>\n",
              "      <td>5.999983</td>\n",
              "      <td>1</td>\n",
              "    </tr>\n",
              "    <tr>\n",
              "      <th>17579</th>\n",
              "      <td>ENSG00000100354.15</td>\n",
              "      <td>TNRC6B</td>\n",
              "      <td>0.000001</td>\n",
              "      <td>9.999867e-01</td>\n",
              "      <td>9.999867e-01</td>\n",
              "      <td>5.999987</td>\n",
              "      <td>1</td>\n",
              "    </tr>\n",
              "  </tbody>\n",
              "</table>\n",
              "<p>17580 rows × 7 columns</p>\n",
              "</div>"
            ],
            "text/plain": [
              "                EnsemblID  symbol  ...  padj_add_one  just_one\n",
              "0       ENSG00000173110.6   HSPA6  ...      5.000000         1\n",
              "1       ENSG00000123689.5    G0S2  ...      5.000000         1\n",
              "2       ENSG00000204389.7  HSPA1A  ...      5.000000         1\n",
              "3       ENSG00000106211.8   HSPB1  ...      5.000001         1\n",
              "4       ENSG00000137731.8   FXYD2  ...      5.000004         1\n",
              "...                   ...     ...  ...           ...       ...\n",
              "17575   ENSG00000205639.5  MFSD2B  ...      5.999733         1\n",
              "17576   ENSG00000259207.3   ITGB3  ...      5.999733         1\n",
              "17577   ENSG00000132801.5  ZSWIM3  ...      5.999806         1\n",
              "17578   ENSG00000198712.1  MT-CO2  ...      5.999983         1\n",
              "17579  ENSG00000100354.15  TNRC6B  ...      5.999987         1\n",
              "\n",
              "[17580 rows x 7 columns]"
            ]
          },
          "metadata": {
            "tags": []
          },
          "execution_count": 229
        }
      ]
    },
    {
      "cell_type": "code",
      "metadata": {
        "colab": {
          "base_uri": "https://localhost:8080/",
          "height": 419
        },
        "id": "lQ9AmesCrhF3",
        "outputId": "eb801013-1852-4ce3-bd4c-0e3278ba6960"
      },
      "source": [
        "parkinson_df[~parkinson_df[\"symbol\"].str.startswith(\"HSP\")]"
      ],
      "execution_count": 240,
      "outputs": [
        {
          "output_type": "execute_result",
          "data": {
            "text/html": [
              "<div>\n",
              "<style scoped>\n",
              "    .dataframe tbody tr th:only-of-type {\n",
              "        vertical-align: middle;\n",
              "    }\n",
              "\n",
              "    .dataframe tbody tr th {\n",
              "        vertical-align: top;\n",
              "    }\n",
              "\n",
              "    .dataframe thead th {\n",
              "        text-align: right;\n",
              "    }\n",
              "</style>\n",
              "<table border=\"1\" class=\"dataframe\">\n",
              "  <thead>\n",
              "    <tr style=\"text-align: right;\">\n",
              "      <th></th>\n",
              "      <th>EnsemblID</th>\n",
              "      <th>symbol</th>\n",
              "      <th>log2FoldChange</th>\n",
              "      <th>pvalue</th>\n",
              "      <th>padj</th>\n",
              "      <th>padj_add_one</th>\n",
              "      <th>just_one</th>\n",
              "    </tr>\n",
              "  </thead>\n",
              "  <tbody>\n",
              "    <tr>\n",
              "      <th>1</th>\n",
              "      <td>ENSG00000123689.5</td>\n",
              "      <td>G0S2</td>\n",
              "      <td>1.506402</td>\n",
              "      <td>1.010386e-11</td>\n",
              "      <td>8.881295e-08</td>\n",
              "      <td>5.000000</td>\n",
              "      <td>1</td>\n",
              "    </tr>\n",
              "    <tr>\n",
              "      <th>4</th>\n",
              "      <td>ENSG00000137731.8</td>\n",
              "      <td>FXYD2</td>\n",
              "      <td>0.979849</td>\n",
              "      <td>1.237955e-09</td>\n",
              "      <td>3.627207e-06</td>\n",
              "      <td>5.000004</td>\n",
              "      <td>1</td>\n",
              "    </tr>\n",
              "    <tr>\n",
              "      <th>5</th>\n",
              "      <td>ENSG00000152049.5</td>\n",
              "      <td>KCNE4</td>\n",
              "      <td>1.309400</td>\n",
              "      <td>1.200451e-09</td>\n",
              "      <td>3.627207e-06</td>\n",
              "      <td>5.000004</td>\n",
              "      <td>1</td>\n",
              "    </tr>\n",
              "    <tr>\n",
              "      <th>6</th>\n",
              "      <td>ENSG00000111181.8</td>\n",
              "      <td>SLC6A12</td>\n",
              "      <td>0.745494</td>\n",
              "      <td>2.862677e-09</td>\n",
              "      <td>6.504691e-06</td>\n",
              "      <td>5.000007</td>\n",
              "      <td>1</td>\n",
              "    </tr>\n",
              "    <tr>\n",
              "      <th>8</th>\n",
              "      <td>ENSG00000149257.9</td>\n",
              "      <td>SERPINH1</td>\n",
              "      <td>1.291634</td>\n",
              "      <td>3.901282e-09</td>\n",
              "      <td>7.620505e-06</td>\n",
              "      <td>5.000008</td>\n",
              "      <td>1</td>\n",
              "    </tr>\n",
              "    <tr>\n",
              "      <th>...</th>\n",
              "      <td>...</td>\n",
              "      <td>...</td>\n",
              "      <td>...</td>\n",
              "      <td>...</td>\n",
              "      <td>...</td>\n",
              "      <td>...</td>\n",
              "      <td>...</td>\n",
              "    </tr>\n",
              "    <tr>\n",
              "      <th>17575</th>\n",
              "      <td>ENSG00000205639.5</td>\n",
              "      <td>MFSD2B</td>\n",
              "      <td>-0.000115</td>\n",
              "      <td>9.995465e-01</td>\n",
              "      <td>9.997325e-01</td>\n",
              "      <td>5.999733</td>\n",
              "      <td>1</td>\n",
              "    </tr>\n",
              "    <tr>\n",
              "      <th>17576</th>\n",
              "      <td>ENSG00000259207.3</td>\n",
              "      <td>ITGB3</td>\n",
              "      <td>-0.000162</td>\n",
              "      <td>9.994587e-01</td>\n",
              "      <td>9.997325e-01</td>\n",
              "      <td>5.999733</td>\n",
              "      <td>1</td>\n",
              "    </tr>\n",
              "    <tr>\n",
              "      <th>17577</th>\n",
              "      <td>ENSG00000132801.5</td>\n",
              "      <td>ZSWIM3</td>\n",
              "      <td>-0.000031</td>\n",
              "      <td>9.996920e-01</td>\n",
              "      <td>9.998058e-01</td>\n",
              "      <td>5.999806</td>\n",
              "      <td>1</td>\n",
              "    </tr>\n",
              "    <tr>\n",
              "      <th>17578</th>\n",
              "      <td>ENSG00000198712.1</td>\n",
              "      <td>MT-CO2</td>\n",
              "      <td>-0.000014</td>\n",
              "      <td>9.999263e-01</td>\n",
              "      <td>9.999831e-01</td>\n",
              "      <td>5.999983</td>\n",
              "      <td>1</td>\n",
              "    </tr>\n",
              "    <tr>\n",
              "      <th>17579</th>\n",
              "      <td>ENSG00000100354.15</td>\n",
              "      <td>TNRC6B</td>\n",
              "      <td>0.000001</td>\n",
              "      <td>9.999867e-01</td>\n",
              "      <td>9.999867e-01</td>\n",
              "      <td>5.999987</td>\n",
              "      <td>1</td>\n",
              "    </tr>\n",
              "  </tbody>\n",
              "</table>\n",
              "<p>17549 rows × 7 columns</p>\n",
              "</div>"
            ],
            "text/plain": [
              "                EnsemblID    symbol  ...  padj_add_one  just_one\n",
              "1       ENSG00000123689.5      G0S2  ...      5.000000         1\n",
              "4       ENSG00000137731.8     FXYD2  ...      5.000004         1\n",
              "5       ENSG00000152049.5     KCNE4  ...      5.000004         1\n",
              "6       ENSG00000111181.8   SLC6A12  ...      5.000007         1\n",
              "8       ENSG00000149257.9  SERPINH1  ...      5.000008         1\n",
              "...                   ...       ...  ...           ...       ...\n",
              "17575   ENSG00000205639.5    MFSD2B  ...      5.999733         1\n",
              "17576   ENSG00000259207.3     ITGB3  ...      5.999733         1\n",
              "17577   ENSG00000132801.5    ZSWIM3  ...      5.999806         1\n",
              "17578   ENSG00000198712.1    MT-CO2  ...      5.999983         1\n",
              "17579  ENSG00000100354.15    TNRC6B  ...      5.999987         1\n",
              "\n",
              "[17549 rows x 7 columns]"
            ]
          },
          "metadata": {
            "tags": []
          },
          "execution_count": 240
        }
      ]
    },
    {
      "cell_type": "code",
      "metadata": {
        "colab": {
          "base_uri": "https://localhost:8080/",
          "height": 142
        },
        "id": "uOClLmVkr4LT",
        "outputId": "7ce2c461-8d3c-4cda-b58e-bbf5d1649d0b"
      },
      "source": [
        "selected_genes = [\"HSPB6\", \"HSP90B1\", \"HSPA8\"]\n",
        "parkinson_df[parkinson_df[\"symbol\"].isin(selected_genes)]"
      ],
      "execution_count": 239,
      "outputs": [
        {
          "output_type": "execute_result",
          "data": {
            "text/html": [
              "<div>\n",
              "<style scoped>\n",
              "    .dataframe tbody tr th:only-of-type {\n",
              "        vertical-align: middle;\n",
              "    }\n",
              "\n",
              "    .dataframe tbody tr th {\n",
              "        vertical-align: top;\n",
              "    }\n",
              "\n",
              "    .dataframe thead th {\n",
              "        text-align: right;\n",
              "    }\n",
              "</style>\n",
              "<table border=\"1\" class=\"dataframe\">\n",
              "  <thead>\n",
              "    <tr style=\"text-align: right;\">\n",
              "      <th></th>\n",
              "      <th>EnsemblID</th>\n",
              "      <th>symbol</th>\n",
              "      <th>log2FoldChange</th>\n",
              "      <th>pvalue</th>\n",
              "      <th>padj</th>\n",
              "      <th>padj_add_one</th>\n",
              "      <th>just_one</th>\n",
              "    </tr>\n",
              "  </thead>\n",
              "  <tbody>\n",
              "    <tr>\n",
              "      <th>12038</th>\n",
              "      <td>ENSG00000166598.8</td>\n",
              "      <td>HSP90B1</td>\n",
              "      <td>0.065978</td>\n",
              "      <td>0.491429</td>\n",
              "      <td>0.717637</td>\n",
              "      <td>5.717637</td>\n",
              "      <td>1</td>\n",
              "    </tr>\n",
              "    <tr>\n",
              "      <th>15975</th>\n",
              "      <td>ENSG00000004776.7</td>\n",
              "      <td>HSPB6</td>\n",
              "      <td>0.029584</td>\n",
              "      <td>0.846069</td>\n",
              "      <td>0.930935</td>\n",
              "      <td>5.930935</td>\n",
              "      <td>1</td>\n",
              "    </tr>\n",
              "    <tr>\n",
              "      <th>17402</th>\n",
              "      <td>ENSG00000109971.9</td>\n",
              "      <td>HSPA8</td>\n",
              "      <td>-0.002709</td>\n",
              "      <td>0.984583</td>\n",
              "      <td>0.994113</td>\n",
              "      <td>5.994113</td>\n",
              "      <td>1</td>\n",
              "    </tr>\n",
              "  </tbody>\n",
              "</table>\n",
              "</div>"
            ],
            "text/plain": [
              "               EnsemblID   symbol  ...  padj_add_one  just_one\n",
              "12038  ENSG00000166598.8  HSP90B1  ...      5.717637         1\n",
              "15975  ENSG00000004776.7    HSPB6  ...      5.930935         1\n",
              "17402  ENSG00000109971.9    HSPA8  ...      5.994113         1\n",
              "\n",
              "[3 rows x 7 columns]"
            ]
          },
          "metadata": {
            "tags": []
          },
          "execution_count": 239
        }
      ]
    },
    {
      "cell_type": "code",
      "metadata": {
        "colab": {
          "base_uri": "https://localhost:8080/",
          "height": 419
        },
        "id": "DoKktNtEsCZ0",
        "outputId": "ef254c78-62e5-467a-ed54-620520275964"
      },
      "source": [
        "parkinson_df[~parkinson_df[\"symbol\"].isin(selected_genes)]"
      ],
      "execution_count": 238,
      "outputs": [
        {
          "output_type": "execute_result",
          "data": {
            "text/html": [
              "<div>\n",
              "<style scoped>\n",
              "    .dataframe tbody tr th:only-of-type {\n",
              "        vertical-align: middle;\n",
              "    }\n",
              "\n",
              "    .dataframe tbody tr th {\n",
              "        vertical-align: top;\n",
              "    }\n",
              "\n",
              "    .dataframe thead th {\n",
              "        text-align: right;\n",
              "    }\n",
              "</style>\n",
              "<table border=\"1\" class=\"dataframe\">\n",
              "  <thead>\n",
              "    <tr style=\"text-align: right;\">\n",
              "      <th></th>\n",
              "      <th>EnsemblID</th>\n",
              "      <th>symbol</th>\n",
              "      <th>log2FoldChange</th>\n",
              "      <th>pvalue</th>\n",
              "      <th>padj</th>\n",
              "      <th>padj_add_one</th>\n",
              "      <th>just_one</th>\n",
              "    </tr>\n",
              "  </thead>\n",
              "  <tbody>\n",
              "    <tr>\n",
              "      <th>0</th>\n",
              "      <td>ENSG00000173110.6</td>\n",
              "      <td>HSPA6</td>\n",
              "      <td>1.831929</td>\n",
              "      <td>1.765574e-14</td>\n",
              "      <td>3.103879e-10</td>\n",
              "      <td>5.000000</td>\n",
              "      <td>1</td>\n",
              "    </tr>\n",
              "    <tr>\n",
              "      <th>1</th>\n",
              "      <td>ENSG00000123689.5</td>\n",
              "      <td>G0S2</td>\n",
              "      <td>1.506402</td>\n",
              "      <td>1.010386e-11</td>\n",
              "      <td>8.881295e-08</td>\n",
              "      <td>5.000000</td>\n",
              "      <td>1</td>\n",
              "    </tr>\n",
              "    <tr>\n",
              "      <th>2</th>\n",
              "      <td>ENSG00000204389.7</td>\n",
              "      <td>HSPA1A</td>\n",
              "      <td>1.492569</td>\n",
              "      <td>4.455545e-11</td>\n",
              "      <td>2.610949e-07</td>\n",
              "      <td>5.000000</td>\n",
              "      <td>1</td>\n",
              "    </tr>\n",
              "    <tr>\n",
              "      <th>3</th>\n",
              "      <td>ENSG00000106211.8</td>\n",
              "      <td>HSPB1</td>\n",
              "      <td>1.296490</td>\n",
              "      <td>3.189502e-10</td>\n",
              "      <td>1.401786e-06</td>\n",
              "      <td>5.000001</td>\n",
              "      <td>1</td>\n",
              "    </tr>\n",
              "    <tr>\n",
              "      <th>4</th>\n",
              "      <td>ENSG00000137731.8</td>\n",
              "      <td>FXYD2</td>\n",
              "      <td>0.979849</td>\n",
              "      <td>1.237955e-09</td>\n",
              "      <td>3.627207e-06</td>\n",
              "      <td>5.000004</td>\n",
              "      <td>1</td>\n",
              "    </tr>\n",
              "    <tr>\n",
              "      <th>...</th>\n",
              "      <td>...</td>\n",
              "      <td>...</td>\n",
              "      <td>...</td>\n",
              "      <td>...</td>\n",
              "      <td>...</td>\n",
              "      <td>...</td>\n",
              "      <td>...</td>\n",
              "    </tr>\n",
              "    <tr>\n",
              "      <th>17575</th>\n",
              "      <td>ENSG00000205639.5</td>\n",
              "      <td>MFSD2B</td>\n",
              "      <td>-0.000115</td>\n",
              "      <td>9.995465e-01</td>\n",
              "      <td>9.997325e-01</td>\n",
              "      <td>5.999733</td>\n",
              "      <td>1</td>\n",
              "    </tr>\n",
              "    <tr>\n",
              "      <th>17576</th>\n",
              "      <td>ENSG00000259207.3</td>\n",
              "      <td>ITGB3</td>\n",
              "      <td>-0.000162</td>\n",
              "      <td>9.994587e-01</td>\n",
              "      <td>9.997325e-01</td>\n",
              "      <td>5.999733</td>\n",
              "      <td>1</td>\n",
              "    </tr>\n",
              "    <tr>\n",
              "      <th>17577</th>\n",
              "      <td>ENSG00000132801.5</td>\n",
              "      <td>ZSWIM3</td>\n",
              "      <td>-0.000031</td>\n",
              "      <td>9.996920e-01</td>\n",
              "      <td>9.998058e-01</td>\n",
              "      <td>5.999806</td>\n",
              "      <td>1</td>\n",
              "    </tr>\n",
              "    <tr>\n",
              "      <th>17578</th>\n",
              "      <td>ENSG00000198712.1</td>\n",
              "      <td>MT-CO2</td>\n",
              "      <td>-0.000014</td>\n",
              "      <td>9.999263e-01</td>\n",
              "      <td>9.999831e-01</td>\n",
              "      <td>5.999983</td>\n",
              "      <td>1</td>\n",
              "    </tr>\n",
              "    <tr>\n",
              "      <th>17579</th>\n",
              "      <td>ENSG00000100354.15</td>\n",
              "      <td>TNRC6B</td>\n",
              "      <td>0.000001</td>\n",
              "      <td>9.999867e-01</td>\n",
              "      <td>9.999867e-01</td>\n",
              "      <td>5.999987</td>\n",
              "      <td>1</td>\n",
              "    </tr>\n",
              "  </tbody>\n",
              "</table>\n",
              "<p>17577 rows × 7 columns</p>\n",
              "</div>"
            ],
            "text/plain": [
              "                EnsemblID  symbol  ...  padj_add_one  just_one\n",
              "0       ENSG00000173110.6   HSPA6  ...      5.000000         1\n",
              "1       ENSG00000123689.5    G0S2  ...      5.000000         1\n",
              "2       ENSG00000204389.7  HSPA1A  ...      5.000000         1\n",
              "3       ENSG00000106211.8   HSPB1  ...      5.000001         1\n",
              "4       ENSG00000137731.8   FXYD2  ...      5.000004         1\n",
              "...                   ...     ...  ...           ...       ...\n",
              "17575   ENSG00000205639.5  MFSD2B  ...      5.999733         1\n",
              "17576   ENSG00000259207.3   ITGB3  ...      5.999733         1\n",
              "17577   ENSG00000132801.5  ZSWIM3  ...      5.999806         1\n",
              "17578   ENSG00000198712.1  MT-CO2  ...      5.999983         1\n",
              "17579  ENSG00000100354.15  TNRC6B  ...      5.999987         1\n",
              "\n",
              "[17577 rows x 7 columns]"
            ]
          },
          "metadata": {
            "tags": []
          },
          "execution_count": 238
        }
      ]
    },
    {
      "cell_type": "markdown",
      "metadata": {
        "id": "ytRKBlJFxw_-"
      },
      "source": [
        "We can create a function for generating new column"
      ]
    },
    {
      "cell_type": "code",
      "metadata": {
        "id": "MAJjTSirx136"
      },
      "source": [
        "def group_p_value(pvalue):\n",
        "  if pvalue <= 0.05:\n",
        "    return \"significant\"\n",
        "  elif pvalue <= 0.055:\n",
        "    return \"almost significant\"\n",
        "  else:\n",
        "    return \"not significant\""
      ],
      "execution_count": 241,
      "outputs": []
    },
    {
      "cell_type": "code",
      "metadata": {
        "colab": {
          "base_uri": "https://localhost:8080/"
        },
        "id": "PeddDQjsyIrc",
        "outputId": "49b6f66c-ac95-462c-a1d2-0af9dc2e1956"
      },
      "source": [
        "parkinson_df[\"pvalue\"].apply(group_p_value)"
      ],
      "execution_count": 242,
      "outputs": [
        {
          "output_type": "execute_result",
          "data": {
            "text/plain": [
              "0            significant\n",
              "1            significant\n",
              "2            significant\n",
              "3            significant\n",
              "4            significant\n",
              "              ...       \n",
              "17575    not significant\n",
              "17576    not significant\n",
              "17577    not significant\n",
              "17578    not significant\n",
              "17579    not significant\n",
              "Name: pvalue, Length: 17580, dtype: object"
            ]
          },
          "metadata": {
            "tags": []
          },
          "execution_count": 242
        }
      ]
    },
    {
      "cell_type": "code",
      "metadata": {
        "id": "tlZCluowyOcC"
      },
      "source": [
        "parkinson_df[\"pvalue_group\"] = parkinson_df[\"pvalue\"].apply(group_p_value)"
      ],
      "execution_count": 243,
      "outputs": []
    },
    {
      "cell_type": "code",
      "metadata": {
        "colab": {
          "base_uri": "https://localhost:8080/",
          "height": 419
        },
        "id": "IXUoJ3YzIFwy",
        "outputId": "9d81d69f-ecb6-4d2f-c55e-088df6a294e8"
      },
      "source": [
        "parkinson_df"
      ],
      "execution_count": 244,
      "outputs": [
        {
          "output_type": "execute_result",
          "data": {
            "text/html": [
              "<div>\n",
              "<style scoped>\n",
              "    .dataframe tbody tr th:only-of-type {\n",
              "        vertical-align: middle;\n",
              "    }\n",
              "\n",
              "    .dataframe tbody tr th {\n",
              "        vertical-align: top;\n",
              "    }\n",
              "\n",
              "    .dataframe thead th {\n",
              "        text-align: right;\n",
              "    }\n",
              "</style>\n",
              "<table border=\"1\" class=\"dataframe\">\n",
              "  <thead>\n",
              "    <tr style=\"text-align: right;\">\n",
              "      <th></th>\n",
              "      <th>EnsemblID</th>\n",
              "      <th>symbol</th>\n",
              "      <th>log2FoldChange</th>\n",
              "      <th>pvalue</th>\n",
              "      <th>padj</th>\n",
              "      <th>padj_add_one</th>\n",
              "      <th>just_one</th>\n",
              "      <th>pvalue_group</th>\n",
              "    </tr>\n",
              "  </thead>\n",
              "  <tbody>\n",
              "    <tr>\n",
              "      <th>0</th>\n",
              "      <td>ENSG00000173110.6</td>\n",
              "      <td>HSPA6</td>\n",
              "      <td>1.831929</td>\n",
              "      <td>1.765574e-14</td>\n",
              "      <td>3.103879e-10</td>\n",
              "      <td>5.000000</td>\n",
              "      <td>1</td>\n",
              "      <td>significant</td>\n",
              "    </tr>\n",
              "    <tr>\n",
              "      <th>1</th>\n",
              "      <td>ENSG00000123689.5</td>\n",
              "      <td>G0S2</td>\n",
              "      <td>1.506402</td>\n",
              "      <td>1.010386e-11</td>\n",
              "      <td>8.881295e-08</td>\n",
              "      <td>5.000000</td>\n",
              "      <td>1</td>\n",
              "      <td>significant</td>\n",
              "    </tr>\n",
              "    <tr>\n",
              "      <th>2</th>\n",
              "      <td>ENSG00000204389.7</td>\n",
              "      <td>HSPA1A</td>\n",
              "      <td>1.492569</td>\n",
              "      <td>4.455545e-11</td>\n",
              "      <td>2.610949e-07</td>\n",
              "      <td>5.000000</td>\n",
              "      <td>1</td>\n",
              "      <td>significant</td>\n",
              "    </tr>\n",
              "    <tr>\n",
              "      <th>3</th>\n",
              "      <td>ENSG00000106211.8</td>\n",
              "      <td>HSPB1</td>\n",
              "      <td>1.296490</td>\n",
              "      <td>3.189502e-10</td>\n",
              "      <td>1.401786e-06</td>\n",
              "      <td>5.000001</td>\n",
              "      <td>1</td>\n",
              "      <td>significant</td>\n",
              "    </tr>\n",
              "    <tr>\n",
              "      <th>4</th>\n",
              "      <td>ENSG00000137731.8</td>\n",
              "      <td>FXYD2</td>\n",
              "      <td>0.979849</td>\n",
              "      <td>1.237955e-09</td>\n",
              "      <td>3.627207e-06</td>\n",
              "      <td>5.000004</td>\n",
              "      <td>1</td>\n",
              "      <td>significant</td>\n",
              "    </tr>\n",
              "    <tr>\n",
              "      <th>...</th>\n",
              "      <td>...</td>\n",
              "      <td>...</td>\n",
              "      <td>...</td>\n",
              "      <td>...</td>\n",
              "      <td>...</td>\n",
              "      <td>...</td>\n",
              "      <td>...</td>\n",
              "      <td>...</td>\n",
              "    </tr>\n",
              "    <tr>\n",
              "      <th>17575</th>\n",
              "      <td>ENSG00000205639.5</td>\n",
              "      <td>MFSD2B</td>\n",
              "      <td>-0.000115</td>\n",
              "      <td>9.995465e-01</td>\n",
              "      <td>9.997325e-01</td>\n",
              "      <td>5.999733</td>\n",
              "      <td>1</td>\n",
              "      <td>not significant</td>\n",
              "    </tr>\n",
              "    <tr>\n",
              "      <th>17576</th>\n",
              "      <td>ENSG00000259207.3</td>\n",
              "      <td>ITGB3</td>\n",
              "      <td>-0.000162</td>\n",
              "      <td>9.994587e-01</td>\n",
              "      <td>9.997325e-01</td>\n",
              "      <td>5.999733</td>\n",
              "      <td>1</td>\n",
              "      <td>not significant</td>\n",
              "    </tr>\n",
              "    <tr>\n",
              "      <th>17577</th>\n",
              "      <td>ENSG00000132801.5</td>\n",
              "      <td>ZSWIM3</td>\n",
              "      <td>-0.000031</td>\n",
              "      <td>9.996920e-01</td>\n",
              "      <td>9.998058e-01</td>\n",
              "      <td>5.999806</td>\n",
              "      <td>1</td>\n",
              "      <td>not significant</td>\n",
              "    </tr>\n",
              "    <tr>\n",
              "      <th>17578</th>\n",
              "      <td>ENSG00000198712.1</td>\n",
              "      <td>MT-CO2</td>\n",
              "      <td>-0.000014</td>\n",
              "      <td>9.999263e-01</td>\n",
              "      <td>9.999831e-01</td>\n",
              "      <td>5.999983</td>\n",
              "      <td>1</td>\n",
              "      <td>not significant</td>\n",
              "    </tr>\n",
              "    <tr>\n",
              "      <th>17579</th>\n",
              "      <td>ENSG00000100354.15</td>\n",
              "      <td>TNRC6B</td>\n",
              "      <td>0.000001</td>\n",
              "      <td>9.999867e-01</td>\n",
              "      <td>9.999867e-01</td>\n",
              "      <td>5.999987</td>\n",
              "      <td>1</td>\n",
              "      <td>not significant</td>\n",
              "    </tr>\n",
              "  </tbody>\n",
              "</table>\n",
              "<p>17580 rows × 8 columns</p>\n",
              "</div>"
            ],
            "text/plain": [
              "                EnsemblID  symbol  ...  just_one     pvalue_group\n",
              "0       ENSG00000173110.6   HSPA6  ...         1      significant\n",
              "1       ENSG00000123689.5    G0S2  ...         1      significant\n",
              "2       ENSG00000204389.7  HSPA1A  ...         1      significant\n",
              "3       ENSG00000106211.8   HSPB1  ...         1      significant\n",
              "4       ENSG00000137731.8   FXYD2  ...         1      significant\n",
              "...                   ...     ...  ...       ...              ...\n",
              "17575   ENSG00000205639.5  MFSD2B  ...         1  not significant\n",
              "17576   ENSG00000259207.3   ITGB3  ...         1  not significant\n",
              "17577   ENSG00000132801.5  ZSWIM3  ...         1  not significant\n",
              "17578   ENSG00000198712.1  MT-CO2  ...         1  not significant\n",
              "17579  ENSG00000100354.15  TNRC6B  ...         1  not significant\n",
              "\n",
              "[17580 rows x 8 columns]"
            ]
          },
          "metadata": {
            "tags": []
          },
          "execution_count": 244
        }
      ]
    },
    {
      "cell_type": "markdown",
      "metadata": {
        "id": "JdNkqOsPySBh"
      },
      "source": [
        "We can use value_counts to count the occurence of the categories"
      ]
    },
    {
      "cell_type": "code",
      "metadata": {
        "colab": {
          "base_uri": "https://localhost:8080/"
        },
        "id": "uOo9peUWyX1b",
        "outputId": "4dee4db6-82cf-474f-baf7-eb160f16a781"
      },
      "source": [
        "parkinson_df[\"pvalue_group\"].value_counts()"
      ],
      "execution_count": 245,
      "outputs": [
        {
          "output_type": "execute_result",
          "data": {
            "text/plain": [
              "not significant       13360\n",
              "significant            4024\n",
              "almost significant      196\n",
              "Name: pvalue_group, dtype: int64"
            ]
          },
          "metadata": {
            "tags": []
          },
          "execution_count": 245
        }
      ]
    },
    {
      "cell_type": "markdown",
      "metadata": {
        "id": "S2yz_3daycuE"
      },
      "source": [
        "We can group and aggregate data using groupby, this allows us to create a group and find some aggregate statistics"
      ]
    },
    {
      "cell_type": "code",
      "metadata": {
        "colab": {
          "base_uri": "https://localhost:8080/",
          "height": 173
        },
        "id": "u-B6y-dkycQD",
        "outputId": "87f2c95f-6297-41be-808b-a116d8626915"
      },
      "source": [
        "parkinson_df.groupby(\"pvalue_group\").mean()"
      ],
      "execution_count": 246,
      "outputs": [
        {
          "output_type": "execute_result",
          "data": {
            "text/html": [
              "<div>\n",
              "<style scoped>\n",
              "    .dataframe tbody tr th:only-of-type {\n",
              "        vertical-align: middle;\n",
              "    }\n",
              "\n",
              "    .dataframe tbody tr th {\n",
              "        vertical-align: top;\n",
              "    }\n",
              "\n",
              "    .dataframe thead th {\n",
              "        text-align: right;\n",
              "    }\n",
              "</style>\n",
              "<table border=\"1\" class=\"dataframe\">\n",
              "  <thead>\n",
              "    <tr style=\"text-align: right;\">\n",
              "      <th></th>\n",
              "      <th>log2FoldChange</th>\n",
              "      <th>pvalue</th>\n",
              "      <th>padj</th>\n",
              "      <th>padj_add_one</th>\n",
              "      <th>just_one</th>\n",
              "    </tr>\n",
              "    <tr>\n",
              "      <th>pvalue_group</th>\n",
              "      <th></th>\n",
              "      <th></th>\n",
              "      <th></th>\n",
              "      <th></th>\n",
              "      <th></th>\n",
              "    </tr>\n",
              "  </thead>\n",
              "  <tbody>\n",
              "    <tr>\n",
              "      <th>almost significant</th>\n",
              "      <td>-0.003640</td>\n",
              "      <td>0.052511</td>\n",
              "      <td>0.223865</td>\n",
              "      <td>5.223865</td>\n",
              "      <td>1</td>\n",
              "    </tr>\n",
              "    <tr>\n",
              "      <th>not significant</th>\n",
              "      <td>-0.015568</td>\n",
              "      <td>0.447526</td>\n",
              "      <td>0.641081</td>\n",
              "      <td>5.641081</td>\n",
              "      <td>1</td>\n",
              "    </tr>\n",
              "    <tr>\n",
              "      <th>significant</th>\n",
              "      <td>-0.003702</td>\n",
              "      <td>0.015951</td>\n",
              "      <td>0.102463</td>\n",
              "      <td>5.102463</td>\n",
              "      <td>1</td>\n",
              "    </tr>\n",
              "  </tbody>\n",
              "</table>\n",
              "</div>"
            ],
            "text/plain": [
              "                    log2FoldChange    pvalue      padj  padj_add_one  just_one\n",
              "pvalue_group                                                                  \n",
              "almost significant       -0.003640  0.052511  0.223865      5.223865         1\n",
              "not significant          -0.015568  0.447526  0.641081      5.641081         1\n",
              "significant              -0.003702  0.015951  0.102463      5.102463         1"
            ]
          },
          "metadata": {
            "tags": []
          },
          "execution_count": 246
        }
      ]
    },
    {
      "cell_type": "code",
      "metadata": {
        "colab": {
          "base_uri": "https://localhost:8080/",
          "height": 173
        },
        "id": "kklNCEQVys82",
        "outputId": "3a55e9a2-c74f-41cd-e8ae-15e3e133ed72"
      },
      "source": [
        "parkinson_df.groupby(\"pvalue_group\").max()"
      ],
      "execution_count": 247,
      "outputs": [
        {
          "output_type": "execute_result",
          "data": {
            "text/html": [
              "<div>\n",
              "<style scoped>\n",
              "    .dataframe tbody tr th:only-of-type {\n",
              "        vertical-align: middle;\n",
              "    }\n",
              "\n",
              "    .dataframe tbody tr th {\n",
              "        vertical-align: top;\n",
              "    }\n",
              "\n",
              "    .dataframe thead th {\n",
              "        text-align: right;\n",
              "    }\n",
              "</style>\n",
              "<table border=\"1\" class=\"dataframe\">\n",
              "  <thead>\n",
              "    <tr style=\"text-align: right;\">\n",
              "      <th></th>\n",
              "      <th>EnsemblID</th>\n",
              "      <th>symbol</th>\n",
              "      <th>log2FoldChange</th>\n",
              "      <th>pvalue</th>\n",
              "      <th>padj</th>\n",
              "      <th>padj_add_one</th>\n",
              "      <th>just_one</th>\n",
              "    </tr>\n",
              "    <tr>\n",
              "      <th>pvalue_group</th>\n",
              "      <th></th>\n",
              "      <th></th>\n",
              "      <th></th>\n",
              "      <th></th>\n",
              "      <th></th>\n",
              "      <th></th>\n",
              "      <th></th>\n",
              "    </tr>\n",
              "  </thead>\n",
              "  <tbody>\n",
              "    <tr>\n",
              "      <th>almost significant</th>\n",
              "      <td>ENSG00000269089.1</td>\n",
              "      <td>ZP1</td>\n",
              "      <td>0.461398</td>\n",
              "      <td>0.054982</td>\n",
              "      <td>0.229048</td>\n",
              "      <td>5.229048</td>\n",
              "      <td>1</td>\n",
              "    </tr>\n",
              "    <tr>\n",
              "      <th>not significant</th>\n",
              "      <td>ENSG00000271698.1</td>\n",
              "      <td>ZZZ3</td>\n",
              "      <td>0.452945</td>\n",
              "      <td>0.999987</td>\n",
              "      <td>0.999987</td>\n",
              "      <td>5.999987</td>\n",
              "      <td>1</td>\n",
              "    </tr>\n",
              "    <tr>\n",
              "      <th>significant</th>\n",
              "      <td>ENSG00000270757.1</td>\n",
              "      <td>ZWILCH</td>\n",
              "      <td>1.831929</td>\n",
              "      <td>0.049991</td>\n",
              "      <td>0.218402</td>\n",
              "      <td>5.218402</td>\n",
              "      <td>1</td>\n",
              "    </tr>\n",
              "  </tbody>\n",
              "</table>\n",
              "</div>"
            ],
            "text/plain": [
              "                            EnsemblID  symbol  ...  padj_add_one  just_one\n",
              "pvalue_group                                   ...                        \n",
              "almost significant  ENSG00000269089.1     ZP1  ...      5.229048         1\n",
              "not significant     ENSG00000271698.1    ZZZ3  ...      5.999987         1\n",
              "significant         ENSG00000270757.1  ZWILCH  ...      5.218402         1\n",
              "\n",
              "[3 rows x 7 columns]"
            ]
          },
          "metadata": {
            "tags": []
          },
          "execution_count": 247
        }
      ]
    },
    {
      "cell_type": "markdown",
      "metadata": {
        "id": "t-t1bMSIodDX"
      },
      "source": [
        "## Quick Intro to Visualization\n",
        "We can visualize our data using Seaborn"
      ]
    },
    {
      "cell_type": "code",
      "metadata": {
        "colab": {
          "base_uri": "https://localhost:8080/",
          "height": 571
        },
        "id": "ttHXf9WwogaD",
        "outputId": "68575d83-3b6f-468c-fb92-fa0ace18606b"
      },
      "source": [
        "ax = sns.distplot(parkinson_df[\"log2FoldChange\"])"
      ],
      "execution_count": 248,
      "outputs": [
        {
          "output_type": "stream",
          "text": [
            "/usr/local/lib/python3.7/dist-packages/seaborn/distributions.py:2557: FutureWarning: `distplot` is a deprecated function and will be removed in a future version. Please adapt your code to use either `displot` (a figure-level function with similar flexibility) or `histplot` (an axes-level function for histograms).\n",
            "  warnings.warn(msg, FutureWarning)\n"
          ],
          "name": "stderr"
        },
        {
          "output_type": "display_data",
          "data": {
            "image/png": "[encoded data removed]",
            "text/plain": [
              "<Figure size 842.4x595.44 with 1 Axes>"
            ]
          },
          "metadata": {
            "tags": []
          }
        }
      ]
    },
    {
      "cell_type": "markdown",
      "metadata": {
        "id": "dhdxVsajy4yk"
      },
      "source": [
        "We can set the figure size up to our choice"
      ]
    },
    {
      "cell_type": "code",
      "metadata": {
        "colab": {
          "base_uri": "https://localhost:8080/",
          "height": 469
        },
        "id": "83AVxpNKqP99",
        "outputId": "13b669a4-f083-46db-8ade-2561ad3f38bb"
      },
      "source": [
        "sns.set(rc={'figure.figsize':(20.7,8.27)})\n",
        "\n",
        "ax = sns.distplot(parkinson_df[\"log2FoldChange\"])"
      ],
      "execution_count": 249,
      "outputs": [
        {
          "output_type": "stream",
          "text": [
            "/usr/local/lib/python3.7/dist-packages/seaborn/distributions.py:2557: FutureWarning: `distplot` is a deprecated function and will be removed in a future version. Please adapt your code to use either `displot` (a figure-level function with similar flexibility) or `histplot` (an axes-level function for histograms).\n",
            "  warnings.warn(msg, FutureWarning)\n"
          ],
          "name": "stderr"
        },
        {
          "output_type": "display_data",
          "data": {
            "image/png": "[encoded data removed]",
            "text/plain": [
              "<Figure size 1490.4x595.44 with 1 Axes>"
            ]
          },
          "metadata": {
            "tags": []
          }
        }
      ]
    },
    {
      "cell_type": "markdown",
      "metadata": {
        "id": "mVgn6t7Ey85X"
      },
      "source": [
        "We can also prefilter the data before plotting"
      ]
    },
    {
      "cell_type": "code",
      "metadata": {
        "colab": {
          "base_uri": "https://localhost:8080/",
          "height": 473
        },
        "id": "NnMjwHbvspMx",
        "outputId": "561390a5-6ce5-49aa-fd01-4daeb430a307"
      },
      "source": [
        "significant_pvalues_df = parkinson_df[parkinson_df[\"pvalue\"] <= 0.05]\n",
        "ax = sns.distplot(significant_pvalues_df[\"pvalue\"])"
      ],
      "execution_count": 250,
      "outputs": [
        {
          "output_type": "stream",
          "text": [
            "/usr/local/lib/python3.7/dist-packages/seaborn/distributions.py:2557: FutureWarning: `distplot` is a deprecated function and will be removed in a future version. Please adapt your code to use either `displot` (a figure-level function with similar flexibility) or `histplot` (an axes-level function for histograms).\n",
            "  warnings.warn(msg, FutureWarning)\n"
          ],
          "name": "stderr"
        },
        {
          "output_type": "display_data",
          "data": {
            "image/png": "[encoded data removed]",
            "text/plain": [
              "<Figure size 1490.4x595.44 with 1 Axes>"
            ]
          },
          "metadata": {
            "tags": []
          }
        }
      ]
    },
    {
      "cell_type": "markdown",
      "metadata": {
        "id": "WtWU4jDPzCaZ"
      },
      "source": [
        "We can set the title and label of the plot too"
      ]
    },
    {
      "cell_type": "code",
      "metadata": {
        "colab": {
          "base_uri": "https://localhost:8080/",
          "height": 503
        },
        "id": "9bg93lfas8qj",
        "outputId": "1d21ff21-89a9-414c-ea73-dec22290a66c"
      },
      "source": [
        "ax = sns.distplot(significant_pvalues_df[\"pvalue\"])\n",
        "ax.set_title(\"Distribution of the Significant Pvalues\")\n",
        "ax.set_ylabel(\"Frequency\")\n",
        "ax.set_xlabel(\"The P values\")"
      ],
      "execution_count": 251,
      "outputs": [
        {
          "output_type": "stream",
          "text": [
            "/usr/local/lib/python3.7/dist-packages/seaborn/distributions.py:2557: FutureWarning: `distplot` is a deprecated function and will be removed in a future version. Please adapt your code to use either `displot` (a figure-level function with similar flexibility) or `histplot` (an axes-level function for histograms).\n",
            "  warnings.warn(msg, FutureWarning)\n"
          ],
          "name": "stderr"
        },
        {
          "output_type": "execute_result",
          "data": {
            "text/plain": [
              "Text(0.5, 0, 'The P values')"
            ]
          },
          "metadata": {
            "tags": []
          },
          "execution_count": 251
        },
        {
          "output_type": "display_data",
          "data": {
            "image/png": "[encoded data removed]",
            "text/plain": [
              "<Figure size 1490.4x595.44 with 1 Axes>"
            ]
          },
          "metadata": {
            "tags": []
          }
        }
      ]
    },
    {
      "cell_type": "code",
      "metadata": {
        "colab": {
          "base_uri": "https://localhost:8080/",
          "height": 537
        },
        "id": "1vYOdIvOtLOR",
        "outputId": "9a618801-19dc-4371-9d3f-aa1cd984e3fd"
      },
      "source": [
        "ax = sns.distplot(significant_pvalues_df[\"pvalue\"], hist=False)\n",
        "ax2 = sns.distplot(significant_pvalues_df[\"padj\"], hist=False)\n",
        "ax.set_title(\"Distribution of the Significant Pvalues\")\n",
        "ax.set_ylabel(\"Frequency\")\n",
        "ax.set_xlabel(\"The P values\")"
      ],
      "execution_count": 252,
      "outputs": [
        {
          "output_type": "stream",
          "text": [
            "/usr/local/lib/python3.7/dist-packages/seaborn/distributions.py:2557: FutureWarning: `distplot` is a deprecated function and will be removed in a future version. Please adapt your code to use either `displot` (a figure-level function with similar flexibility) or `kdeplot` (an axes-level function for kernel density plots).\n",
            "  warnings.warn(msg, FutureWarning)\n",
            "/usr/local/lib/python3.7/dist-packages/seaborn/distributions.py:2557: FutureWarning: `distplot` is a deprecated function and will be removed in a future version. Please adapt your code to use either `displot` (a figure-level function with similar flexibility) or `kdeplot` (an axes-level function for kernel density plots).\n",
            "  warnings.warn(msg, FutureWarning)\n"
          ],
          "name": "stderr"
        },
        {
          "output_type": "execute_result",
          "data": {
            "text/plain": [
              "Text(0.5, 0, 'The P values')"
            ]
          },
          "metadata": {
            "tags": []
          },
          "execution_count": 252
        },
        {
          "output_type": "display_data",
          "data": {
            "image/png": "[encoded data removed]",
            "text/plain": [
              "<Figure size 1490.4x595.44 with 1 Axes>"
            ]
          },
          "metadata": {
            "tags": []
          }
        }
      ]
    },
    {
      "cell_type": "markdown",
      "metadata": {
        "id": "ZGpc1wo_zUAj"
      },
      "source": [
        "You can also visit the Seaborn site for more visualization"
      ]
    },
    {
      "cell_type": "markdown",
      "metadata": {
        "id": "LaauyCXgzQHR"
      },
      "source": [
        "![image.png](data:image/png;base64,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)"
      ]
    },
    {
      "cell_type": "code",
      "metadata": {
        "id": "noNZP76j7OFT"
      },
      "source": [
        ""
      ],
      "execution_count": null,
      "outputs": []
    },
    {
      "cell_type": "code",
      "metadata": {
        "id": "MXHMDtkr8ACU"
      },
      "source": [
        ""
      ],
      "execution_count": null,
      "outputs": []
    },
    {
      "cell_type": "code",
      "metadata": {
        "id": "HrYhGiQHF4sv"
      },
      "source": [
        ""
      ],
      "execution_count": null,
      "outputs": []
    }
  ]
}